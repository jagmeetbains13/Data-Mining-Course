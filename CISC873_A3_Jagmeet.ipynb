{
 "cells": [
  {
   "cell_type": "markdown",
   "metadata": {
    "id": "yCu0DwPbSAo8"
   },
   "source": [
    "# Assignment: 3\n",
    "Submitted by: Jagmeet Singh\n",
    "\n",
    "**Problem Description:** In this assignment, fake news are predicted from reddit website by looking at the title of the news. It is a sequential data problem.  \n",
    "\n",
    "**Data Description:** The data in this problem is in the text format. Each data entry contains number of words which represents the title of the news. It is a labelled data with label as 1 or 0 which implies if the news is fake or not respectively. Number of words in each data entry varies as the title length changes. So the input to the model is the text data 'title of the news' and output of the model is the prediction whether the give titled news is fake or not.\n",
    "\n",
    "**Preprocessing:** To convert the text data to the numeric form so that it can be trained on some model, tokenizer package and pad_sequence function is used. Before that, the stop words are removed and the words are stemmed using tlnk package. \n",
    "\n",
    "* The training data given has y_label as 0,1 or 2. The label \"2\" is not the accurate labels as the final output can be 0 or 1 only. I removed those entries with label as 2 (total 232 data entries)\n",
    "\n",
    "**Models Trained:** The assignment focuses on using Gate Recurrent Network (GRU) and Long Term Short Memory (LSTM) to analyze the sequential data. The input data needs to be mapped to numeric values that can be understood by the model. The main challenges would be preprocessinf of the data and build a good LSTM/GRU model and tuning its parameters. "
   ]
  },
  {
   "cell_type": "code",
   "execution_count": null,
   "metadata": {
    "colab": {
     "base_uri": "https://localhost:8080/"
    },
    "id": "fLZQ7iSOC7oO",
    "outputId": "ad5f9f1f-0657-4157-908d-687a86765d08"
   },
   "outputs": [
    {
     "name": "stdout",
     "output_type": "stream",
     "text": [
      "Mounted at /content/drive\n"
     ]
    }
   ],
   "source": [
    "#Mounting google drive to import data\n",
    "from google.colab import drive\n",
    "drive.mount('/content/drive')"
   ]
  },
  {
   "cell_type": "code",
   "execution_count": null,
   "metadata": {
    "id": "21IkaloFCMCf"
   },
   "outputs": [],
   "source": [
    "#importing data using pandas library\n",
    "import pandas as pd\n",
    "\n",
    "xy_train_df = pd.read_csv('drive/My Drive/CISC873/A3/xy_train.csv')  #training data\n",
    "x_test_df = pd.read_csv('drive/My Drive/CISC873/A3/x_test.csv')     #test data"
   ]
  },
  {
   "cell_type": "code",
   "execution_count": null,
   "metadata": {
    "colab": {
     "base_uri": "https://localhost:8080/"
    },
    "id": "H_LrOOXBahEB",
    "outputId": "e72ee851-b038-423d-ae02-16136f69b1a6"
   },
   "outputs": [
    {
     "name": "stdout",
     "output_type": "stream",
     "text": [
      "(60000, 3)\n",
      "(59151, 2)\n"
     ]
    }
   ],
   "source": [
    "import numpy as np\n",
    "\n",
    "#viewing the shape of the data\n",
    "print(np.shape(xy_train_df))\n",
    "print(np.shape(x_test_df))"
   ]
  },
  {
   "cell_type": "markdown",
   "metadata": {
    "id": "rJhJ7HkTa_fn"
   },
   "source": [
    "**The training data contains 60000 data entries (news titles) with three columns (ID, news title and label) for each data entry. The test data contains 59151 data entries with two columns (ID and news title)**"
   ]
  },
  {
   "cell_type": "code",
   "execution_count": null,
   "metadata": {
    "colab": {
     "base_uri": "https://localhost:8080/",
     "height": 195
    },
    "id": "g6KMu0qWhMXv",
    "outputId": "882f6b06-386a-45d8-ba14-de1082fa1ce8"
   },
   "outputs": [
    {
     "data": {
      "text/html": [
       "<div>\n",
       "<style scoped>\n",
       "    .dataframe tbody tr th:only-of-type {\n",
       "        vertical-align: middle;\n",
       "    }\n",
       "\n",
       "    .dataframe tbody tr th {\n",
       "        vertical-align: top;\n",
       "    }\n",
       "\n",
       "    .dataframe thead th {\n",
       "        text-align: right;\n",
       "    }\n",
       "</style>\n",
       "<table border=\"1\" class=\"dataframe\">\n",
       "  <thead>\n",
       "    <tr style=\"text-align: right;\">\n",
       "      <th></th>\n",
       "      <th>id</th>\n",
       "      <th>text</th>\n",
       "      <th>label</th>\n",
       "    </tr>\n",
       "  </thead>\n",
       "  <tbody>\n",
       "    <tr>\n",
       "      <th>0</th>\n",
       "      <td>265723</td>\n",
       "      <td>A group of friends began to volunteer at a hom...</td>\n",
       "      <td>0</td>\n",
       "    </tr>\n",
       "    <tr>\n",
       "      <th>1</th>\n",
       "      <td>284269</td>\n",
       "      <td>British Prime Minister @Theresa_May on Nerve A...</td>\n",
       "      <td>0</td>\n",
       "    </tr>\n",
       "    <tr>\n",
       "      <th>2</th>\n",
       "      <td>207715</td>\n",
       "      <td>In 1961, Goodyear released a kit that allows P...</td>\n",
       "      <td>0</td>\n",
       "    </tr>\n",
       "    <tr>\n",
       "      <th>3</th>\n",
       "      <td>551106</td>\n",
       "      <td>Happy Birthday, Bob Barker! The Price Is Right...</td>\n",
       "      <td>0</td>\n",
       "    </tr>\n",
       "    <tr>\n",
       "      <th>4</th>\n",
       "      <td>8584</td>\n",
       "      <td>Obama to Nation: 聙\"Innocent Cops and Unarmed Y...</td>\n",
       "      <td>0</td>\n",
       "    </tr>\n",
       "  </tbody>\n",
       "</table>\n",
       "</div>"
      ],
      "text/plain": [
       "       id                                               text  label\n",
       "0  265723  A group of friends began to volunteer at a hom...      0\n",
       "1  284269  British Prime Minister @Theresa_May on Nerve A...      0\n",
       "2  207715  In 1961, Goodyear released a kit that allows P...      0\n",
       "3  551106  Happy Birthday, Bob Barker! The Price Is Right...      0\n",
       "4    8584  Obama to Nation: 聙\"Innocent Cops and Unarmed Y...      0"
      ]
     },
     "execution_count": 9,
     "metadata": {
      "tags": []
     },
     "output_type": "execute_result"
    }
   ],
   "source": [
    "xy_train_df.head()"
   ]
  },
  {
   "cell_type": "code",
   "execution_count": null,
   "metadata": {
    "colab": {
     "base_uri": "https://localhost:8080/",
     "height": 195
    },
    "id": "mhrmqWKdhbz2",
    "outputId": "4e8bd33e-60c2-48c2-8f09-293d4b865b8d"
   },
   "outputs": [
    {
     "data": {
      "text/html": [
       "<div>\n",
       "<style scoped>\n",
       "    .dataframe tbody tr th:only-of-type {\n",
       "        vertical-align: middle;\n",
       "    }\n",
       "\n",
       "    .dataframe tbody tr th {\n",
       "        vertical-align: top;\n",
       "    }\n",
       "\n",
       "    .dataframe thead th {\n",
       "        text-align: right;\n",
       "    }\n",
       "</style>\n",
       "<table border=\"1\" class=\"dataframe\">\n",
       "  <thead>\n",
       "    <tr style=\"text-align: right;\">\n",
       "      <th></th>\n",
       "      <th>id</th>\n",
       "      <th>text</th>\n",
       "    </tr>\n",
       "  </thead>\n",
       "  <tbody>\n",
       "    <tr>\n",
       "      <th>0</th>\n",
       "      <td>0</td>\n",
       "      <td>stargazer</td>\n",
       "    </tr>\n",
       "    <tr>\n",
       "      <th>1</th>\n",
       "      <td>1</td>\n",
       "      <td>yeah</td>\n",
       "    </tr>\n",
       "    <tr>\n",
       "      <th>2</th>\n",
       "      <td>2</td>\n",
       "      <td>PD: Phoenix car thief gets instructions from Y...</td>\n",
       "    </tr>\n",
       "    <tr>\n",
       "      <th>3</th>\n",
       "      <td>3</td>\n",
       "      <td>As Trump Accuses Iran, He Has One Problem: His...</td>\n",
       "    </tr>\n",
       "    <tr>\n",
       "      <th>4</th>\n",
       "      <td>4</td>\n",
       "      <td>\"Believers\" - Hezbollah 2011</td>\n",
       "    </tr>\n",
       "  </tbody>\n",
       "</table>\n",
       "</div>"
      ],
      "text/plain": [
       "   id                                               text\n",
       "0   0                                         stargazer \n",
       "1   1                                               yeah\n",
       "2   2  PD: Phoenix car thief gets instructions from Y...\n",
       "3   3  As Trump Accuses Iran, He Has One Problem: His...\n",
       "4   4                       \"Believers\" - Hezbollah 2011"
      ]
     },
     "execution_count": 10,
     "metadata": {
      "tags": []
     },
     "output_type": "execute_result"
    }
   ],
   "source": [
    "x_test_df.head()"
   ]
  },
  {
   "cell_type": "code",
   "execution_count": null,
   "metadata": {
    "colab": {
     "base_uri": "https://localhost:8080/"
    },
    "id": "hnKIlAiLe4iC",
    "outputId": "9f0b2713-7ee2-4d3a-fd5e-2492e905c4d1"
   },
   "outputs": [
    {
     "data": {
      "text/plain": [
       "(array([0, 1, 2]), array([32172, 27596,   232]))"
      ]
     },
     "execution_count": 4,
     "metadata": {
      "tags": []
     },
     "output_type": "execute_result"
    }
   ],
   "source": [
    "#Checking unique values of label and count\n",
    "np.unique(xy_train_df['label'],return_counts=True)"
   ]
  },
  {
   "cell_type": "code",
   "execution_count": null,
   "metadata": {
    "id": "iICEz6gDfSZr"
   },
   "outputs": [],
   "source": [
    "#removing data with label value = 2\n",
    "xy_train_df = xy_train_df.drop(xy_train_df[xy_train_df.label == 2].index)"
   ]
  },
  {
   "cell_type": "code",
   "execution_count": null,
   "metadata": {
    "colab": {
     "base_uri": "https://localhost:8080/"
    },
    "id": "usA5QQ_vfu4_",
    "outputId": "73b3b3d1-44c3-4f4f-d317-43967faff3d7"
   },
   "outputs": [
    {
     "data": {
      "text/plain": [
       "(array([0, 1]), array([32172, 27596]))"
      ]
     },
     "execution_count": 6,
     "metadata": {
      "tags": []
     },
     "output_type": "execute_result"
    }
   ],
   "source": [
    "#Checking unique values of label and count\n",
    "np.unique(xy_train_df['label'],return_counts=True)"
   ]
  },
  {
   "cell_type": "code",
   "execution_count": null,
   "metadata": {
    "id": "pD9K3Sffhk2-"
   },
   "outputs": [],
   "source": [
    "#importing libraries\n",
    "\n",
    "from tensorflow.keras.preprocessing.text import Tokenizer  #Tokenizer library to give each word a token \n",
    "from tensorflow.keras.preprocessing.sequence import pad_sequences  #To convert tokenized array to a 2D array\n",
    "from sklearn.model_selection import train_test_split  # to make train-validation split\n",
    "from pprint import pprint"
   ]
  },
  {
   "cell_type": "code",
   "execution_count": null,
   "metadata": {
    "id": "dUWPaytN1JlO"
   },
   "outputs": [],
   "source": [
    "#functions to plot learning curves\n",
    "#Plotting the learning curves\n",
    "#Plotting trained data accuracy and validation data accuracy\n",
    "import matplotlib.pyplot as plt\n",
    "\n",
    "def acc_plot(history):\n",
    "  plt.plot(history.history['accuracy'], label='Train Accuracy')\n",
    "  plt.plot(history.history['val_accuracy'], label = 'Validation Accuracy')\n",
    "  plt.xlabel('Epoch')\n",
    "  plt.ylabel('Accuracy')\n",
    "  plt.legend()\n",
    "\n",
    "#Plotting trained data and validation loss\n",
    "def loss_plot(history):\n",
    "  plt.plot(history.history['loss'], label='Train Loss')\n",
    "  plt.plot(history.history['val_loss'], label = 'Validation Loss')\n",
    "  plt.xlabel('Epoch')\n",
    "  plt.ylabel('Loss')\n",
    "  plt.legend()\n"
   ]
  },
  {
   "cell_type": "code",
   "execution_count": null,
   "metadata": {
    "id": "13Ipp7zvh2EN"
   },
   "outputs": [],
   "source": [
    "vocab_size = 40000    #defining the size of vocabulary words\n",
    "max_len = 60          #defining the maximum length of each title #final tuning"
   ]
  },
  {
   "cell_type": "code",
   "execution_count": null,
   "metadata": {
    "id": "mmVhgFmzh4GH"
   },
   "outputs": [],
   "source": [
    "#training x and y data\n",
    "x = xy_train_df.text   #the text data (titles)\n",
    "y = xy_train_df.label  #(the label data)"
   ]
  },
  {
   "cell_type": "code",
   "execution_count": null,
   "metadata": {
    "id": "Z7fpKnZUNqDX"
   },
   "outputs": [],
   "source": [
    "#importing libraries\n",
    "from __future__ import absolute_import, division, print_function, unicode_literals\n",
    "import collections      #specialized container datatypes for list, tuple, set alternative\n",
    "import matplotlib.pyplot as plt   #for plotting\n",
    "import numpy as np\n",
    "import tensorflow as tf\n",
    "from tensorflow import keras\n",
    "from tensorflow.compat.v1.keras.layers import CuDNNGRU #Fast GRU implementation backed by cuDNN\n",
    "\n",
    "import tensorflow as tf\n",
    "from tensorflow.keras.optimizers import Adam     #Optimizer\n",
    "from keras.layers import LSTM, GRU\n",
    "\n",
    "\n",
    "#Early stopping definition\n",
    "#The parameter to monitor is validation loss\n",
    "#Upto 5 epochs are checked to see the improvement\n",
    "callback = tf.keras.callbacks.EarlyStopping(monitor='val_auc', patience=3)\n"
   ]
  },
  {
   "cell_type": "markdown",
   "metadata": {
    "id": "slNnO2KkgNKr"
   },
   "source": [
    "* -----------------"
   ]
  },
  {
   "cell_type": "code",
   "execution_count": null,
   "metadata": {
    "id": "NFZDQq0AiGfJ"
   },
   "outputs": [],
   "source": [
    "#splitting training data as train and validation data with the given ratio as test_size\n",
    "x_train, x_valid, y_train, y_valid = train_test_split(x, y, test_size=0.1)"
   ]
  },
  {
   "cell_type": "code",
   "execution_count": null,
   "metadata": {
    "id": "mQS210-QiRrD"
   },
   "outputs": [],
   "source": [
    "# build vocabulary from training set\n",
    "#Each word is assigned a number \n",
    "#tokenizer build vocabulary\n",
    "tokenizer = Tokenizer(num_words=vocab_size)\n",
    "tokenizer.fit_on_texts(x_train) #vocab based on words in training data"
   ]
  },
  {
   "cell_type": "code",
   "execution_count": null,
   "metadata": {
    "id": "THNKHe3WTyP1"
   },
   "outputs": [],
   "source": [
    "tokenizer.index_word"
   ]
  },
  {
   "cell_type": "code",
   "execution_count": null,
   "metadata": {
    "colab": {
     "base_uri": "https://localhost:8080/"
    },
    "id": "_GIbEfJ6iVhw",
    "outputId": "e819487c-7c10-4598-d4f4-b5e350e95737"
   },
   "outputs": [
    {
     "data": {
      "text/plain": [
       "40000"
      ]
     },
     "execution_count": 22,
     "metadata": {
      "tags": []
     },
     "output_type": "execute_result"
    }
   ],
   "source": [
    "#checking the no. of words in tokenozer\n",
    "tokenizer.num_words"
   ]
  },
  {
   "cell_type": "code",
   "execution_count": null,
   "metadata": {
    "id": "OEeYcleBiZVx"
   },
   "outputs": [],
   "source": [
    "tokenizer.word_counts"
   ]
  },
  {
   "cell_type": "code",
   "execution_count": null,
   "metadata": {
    "id": "xmIuGh-JiyR4"
   },
   "outputs": [],
   "source": [
    "#Method which assigns integer value to each word in the sequence based on vocabulary \n",
    "#and then transforms into a matrix using pad_sequences\n",
    "\n",
    "#pad_sequences transforms a list of sequences \n",
    "#into a 2D Numpy array of shape (num_samples, num_timesteps).\n",
    "def _preprocess(list_of_text):  #private method\n",
    "    return pad_sequences(\n",
    "        tokenizer.texts_to_sequences(list_of_text),  #transforms each text in texts to sequence of integers\n",
    "        maxlen=max_len,    #maximum length of all sequences\n",
    "        padding='post',    #specifying padding after sequence\n",
    "    )"
   ]
  },
  {
   "cell_type": "code",
   "execution_count": null,
   "metadata": {
    "colab": {
     "base_uri": "https://localhost:8080/"
    },
    "id": "rWPg2uInCSmj",
    "outputId": "4954c34a-fba1-4998-d072-e096a83a7435"
   },
   "outputs": [
    {
     "name": "stdout",
     "output_type": "stream",
     "text": [
      "(42000, 40) (42000,)\n",
      "(18000, 40) (18000,)\n"
     ]
    }
   ],
   "source": [
    "# padding is done inside: \n",
    "x_train = _preprocess(x_train)\n",
    "x_valid = _preprocess(x_valid)\n",
    "\n",
    "print(x_train.shape, y_train.shape)\n",
    "print(x_valid.shape, y_valid.shape)"
   ]
  },
  {
   "cell_type": "code",
   "execution_count": null,
   "metadata": {
    "colab": {
     "base_uri": "https://localhost:8080/"
    },
    "id": "sz7mACrsVPny",
    "outputId": "77b0b513-8bf8-4d5a-c561-00d3f3ea8404"
   },
   "outputs": [
    {
     "data": {
      "text/plain": [
       "array([ 1450,   559,  3754,   703,   185,     2, 10598,     3,   831,\n",
       "           2, 16944,  8010,    73, 20825,  5321,    45,    14,    17,\n",
       "         124,     0,     0,     0,     0,     0,     0,     0,     0,\n",
       "           0,     0,     0,     0,     0,     0,     0,     0,     0,\n",
       "           0,     0,     0,     0], dtype=int32)"
      ]
     },
     "execution_count": 31,
     "metadata": {
      "tags": []
     },
     "output_type": "execute_result"
    }
   ],
   "source": [
    "x_train[0]"
   ]
  },
  {
   "cell_type": "code",
   "execution_count": null,
   "metadata": {
    "colab": {
     "base_uri": "https://localhost:8080/"
    },
    "id": "7_bL5yOACViJ",
    "outputId": "7faa934a-bba9-44e8-807a-72a0e76ee412"
   },
   "outputs": [
    {
     "name": "stdout",
     "output_type": "stream",
     "text": [
      "['saudi civil defence members use a forklift to move a 610 kg 1 345 lbs man '\n",
      " 'from his house',\n",
      " 'driving past this my 11yo just asked 鈥渨hat are 鈥楪od people鈥欌€ and now i '\n",
      " 'can鈥檛 not read it that way',\n",
      " 'the 2020 presidential debate match ups are set which candidates will face '\n",
      " 'off in miami',\n",
      " 'update pt 2 adopted us air force col found his japanese birth mother and '\n",
      " 'gained a brother as well',\n",
      " \"a queen's guard finds himself in the middle of v j day in times square \"\n",
      " 'august 14 1945']\n"
     ]
    }
   ],
   "source": [
    "#printing the sequence from the preproces sequence using sequences to texts\n",
    "pprint(tokenizer.sequences_to_texts(x_train[0:5]))\n"
   ]
  },
  {
   "cell_type": "code",
   "execution_count": null,
   "metadata": {
    "colab": {
     "base_uri": "https://localhost:8080/"
    },
    "id": "SYP4Fl9tUpIr",
    "outputId": "e81e8ff6-3a02-4c56-9511-3cecd0399b6b"
   },
   "outputs": [
    {
     "data": {
      "text/plain": [
       "array([[ 1450,  3754,   124, 20825,     0,     0,     0,     0,     0,\n",
       "            0,     0,     0,     0,     0,     0,     0,     0,     0,\n",
       "            0,     0,     0,     0,     0,     0,     0,     0,     0,\n",
       "            0,     0,     0,     0,     0,     0,     0,     0,     0,\n",
       "            0,     0,     0,     0]], dtype=int32)"
      ]
     },
     "execution_count": 36,
     "metadata": {
      "tags": []
     },
     "output_type": "execute_result"
    }
   ],
   "source": [
    "_preprocess(['saudi defence house 345'])"
   ]
  },
  {
   "cell_type": "code",
   "execution_count": null,
   "metadata": {
    "colab": {
     "base_uri": "https://localhost:8080/"
    },
    "id": "sasZuT7dCXzp",
    "outputId": "30d33f92-2f0d-4445-9016-2cfdc5bdc6ee"
   },
   "outputs": [
    {
     "name": "stdout",
     "output_type": "stream",
     "text": [
      "total words in the dictionary: 40000\n"
     ]
    }
   ],
   "source": [
    "print('total words in the dictionary:', tokenizer.num_words)"
   ]
  },
  {
   "cell_type": "markdown",
   "metadata": {
    "id": "PBa-wHYBcy4W"
   },
   "source": [
    "# Fully Connected Neural Network"
   ]
  },
  {
   "cell_type": "code",
   "execution_count": null,
   "metadata": {
    "id": "CBeKWYzFcvbq"
   },
   "outputs": [],
   "source": [
    "seq_in = keras.Input(batch_shape=(None, max_len))  #Input Layer with shape: [None,40]\n",
    "\n",
    "#Embedding: Turns positive integers (indexes) into dense vectors of fixed size(100 here).\n",
    "#Each index is mapped to array of length 100\n",
    "embedded = keras.layers.Embedding(tokenizer.num_words, 100)(seq_in)   #Embedded Layer Output Shape: [None, 40,100]\n",
    "\n",
    "#Reduce mean: Computes the mean of elements across dimensions of a tensor\n",
    "averaged = tf.reduce_mean(embedded, axis=1)    #Output Shape: [None,100]\n",
    "\n",
    "#fully connected dense layer with sigmoid layer\n",
    "pred = keras.layers.Dense(1, activation='sigmoid')(averaged) #Output Shape [None, 1]\n",
    "\n",
    "#Building the model\n",
    "model = keras.Model(\n",
    "    inputs=seq_in,\n",
    "    outputs=pred,\n",
    ")"
   ]
  },
  {
   "cell_type": "code",
   "execution_count": null,
   "metadata": {
    "colab": {
     "base_uri": "https://localhost:8080/"
    },
    "id": "BDsc-Y0Lco74",
    "outputId": "cf234af1-7d55-4b53-e853-04e0e4d14ebb"
   },
   "outputs": [
    {
     "name": "stdout",
     "output_type": "stream",
     "text": [
      "Model: \"functional_57\"\n",
      "_________________________________________________________________\n",
      "Layer (type)                 Output Shape              Param #   \n",
      "=================================================================\n",
      "input_30 (InputLayer)        [(None, 40)]              0         \n",
      "_________________________________________________________________\n",
      "embedding_29 (Embedding)     (None, 40, 100)           4000000   \n",
      "_________________________________________________________________\n",
      "tf_op_layer_Mean_15 (TensorF [(None, 100)]             0         \n",
      "_________________________________________________________________\n",
      "dense_61 (Dense)             (None, 1)                 101       \n",
      "=================================================================\n",
      "Total params: 4,000,101\n",
      "Trainable params: 4,000,101\n",
      "Non-trainable params: 0\n",
      "_________________________________________________________________\n"
     ]
    }
   ],
   "source": [
    "#Summary of model\n",
    "model.summary()"
   ]
  },
  {
   "cell_type": "code",
   "execution_count": null,
   "metadata": {
    "colab": {
     "base_uri": "https://localhost:8080/"
    },
    "id": "ygXETZicCZfc",
    "outputId": "fbb09a04-adee-42d3-be41-4678cddc2a08"
   },
   "outputs": [
    {
     "name": "stdout",
     "output_type": "stream",
     "text": [
      "Epoch 1/10\n",
      "561/561 [==============================] - 35s 62ms/step - loss: 0.5897 - accuracy: 0.7209 - auc: 0.8294 - val_loss: 0.4940 - val_accuracy: 0.7834 - val_auc: 0.8697\n",
      "Epoch 2/10\n",
      "561/561 [==============================] - 34s 60ms/step - loss: 0.4174 - accuracy: 0.8261 - auc: 0.9054 - val_loss: 0.4302 - val_accuracy: 0.7998 - val_auc: 0.8843\n",
      "Epoch 3/10\n",
      "561/561 [==============================] - 33s 59ms/step - loss: 0.3399 - accuracy: 0.8594 - auc: 0.9350 - val_loss: 0.4187 - val_accuracy: 0.8038 - val_auc: 0.8884\n",
      "Epoch 4/10\n",
      "561/561 [==============================] - 34s 60ms/step - loss: 0.2912 - accuracy: 0.8834 - auc: 0.9524 - val_loss: 0.4256 - val_accuracy: 0.8032 - val_auc: 0.8883\n",
      "Epoch 5/10\n",
      "561/561 [==============================] - 34s 61ms/step - loss: 0.2543 - accuracy: 0.9008 - auc: 0.9638 - val_loss: 0.4356 - val_accuracy: 0.8019 - val_auc: 0.8862\n",
      "Epoch 6/10\n",
      "561/561 [==============================] - 34s 61ms/step - loss: 0.2242 - accuracy: 0.9142 - auc: 0.9720 - val_loss: 0.4537 - val_accuracy: 0.7993 - val_auc: 0.8832\n",
      "Epoch 7/10\n",
      "561/561 [==============================] - 34s 60ms/step - loss: 0.1993 - accuracy: 0.9249 - auc: 0.9779 - val_loss: 0.4783 - val_accuracy: 0.7961 - val_auc: 0.8794\n",
      "Epoch 8/10\n",
      "561/561 [==============================] - 34s 61ms/step - loss: 0.1767 - accuracy: 0.9360 - auc: 0.9827 - val_loss: 0.5119 - val_accuracy: 0.7943 - val_auc: 0.8757\n",
      "Epoch 9/10\n",
      "561/561 [==============================] - 35s 62ms/step - loss: 0.1582 - accuracy: 0.9434 - auc: 0.9862 - val_loss: 0.5354 - val_accuracy: 0.7877 - val_auc: 0.8711\n",
      "Epoch 10/10\n",
      "561/561 [==============================] - 37s 66ms/step - loss: 0.1412 - accuracy: 0.9513 - auc: 0.9891 - val_loss: 0.5746 - val_accuracy: 0.7862 - val_auc: 0.8667\n"
     ]
    }
   ],
   "source": [
    "#Compiling the model\n",
    "model.compile(\n",
    "    optimizer=Adam(),    #optimizer\n",
    "    loss='binary_crossentropy',  #loss\n",
    "    metrics=['accuracy', 'AUC']  #evaluation metrics\n",
    ")\n",
    "\n",
    "\n",
    "#fitting model\n",
    "history = model.fit(x_train,\n",
    "                    y_train,\n",
    "                    epochs=10,\n",
    "                    batch_size=64,\n",
    "                    validation_data=(x_valid, y_valid),\n",
    "                    verbose=1)"
   ]
  },
  {
   "cell_type": "code",
   "execution_count": null,
   "metadata": {
    "colab": {
     "base_uri": "https://localhost:8080/",
     "height": 279
    },
    "id": "qI13BzMFu5Uv",
    "outputId": "c4896dad-b5f5-46c7-97b3-fb8afea673eb"
   },
   "outputs": [
    {
     "data": {
      "image/png": "[encoded data removed]",
      "text/plain": [
       "<Figure size 432x288 with 1 Axes>"
      ]
     },
     "metadata": {
      "needs_background": "light",
      "tags": []
     },
     "output_type": "display_data"
    }
   ],
   "source": [
    "acc_plot(history)"
   ]
  },
  {
   "cell_type": "code",
   "execution_count": null,
   "metadata": {
    "colab": {
     "base_uri": "https://localhost:8080/",
     "height": 279
    },
    "id": "I71NVwvBu8GI",
    "outputId": "32eb28a1-2de1-4322-dcb3-f218227f82f6"
   },
   "outputs": [
    {
     "data": {
      "image/png": "[encoded data removed]",
      "text/plain": [
       "<Figure size 432x288 with 1 Axes>"
      ]
     },
     "metadata": {
      "needs_background": "light",
      "tags": []
     },
     "output_type": "display_data"
    }
   ],
   "source": [
    "loss_plot(history)"
   ]
  },
  {
   "cell_type": "code",
   "execution_count": null,
   "metadata": {
    "id": "Xt0ncej1CdSe"
   },
   "outputs": [],
   "source": [
    "#Predicting for test data\n",
    "\n",
    "#Preprocessing\n",
    "x_test = _preprocess(x_test_df.text)\n",
    "\n",
    "#Prediting and converting to 1-D array\n",
    "y_predict = np.squeeze(model.predict(x_test))\n",
    "\n",
    "#Saving the data to csv\n",
    "pd.DataFrame(\n",
    "    {'id': x_test_df.index,\n",
    "     'label':y_predict}).to_csv('sample_submission.csv', index=False)"
   ]
  },
  {
   "cell_type": "markdown",
   "metadata": {
    "id": "5PeIZ19_wmfw"
   },
   "source": [
    "* **The training is too bad for the above fully connected network. It is totally over training as the training accuracy is increasing while validation accuracy decreases. The model is tuned below by introducing dropouts and other parameter changes.**"
   ]
  },
  {
   "cell_type": "markdown",
   "metadata": {
    "id": "CTBFwjE-xZOY"
   },
   "source": [
    "# Tuning Fully Connected Network"
   ]
  },
  {
   "cell_type": "code",
   "execution_count": null,
   "metadata": {
    "id": "fCOhy8MFnKlF"
   },
   "outputs": [],
   "source": [
    "drop1 =  tf.keras.layers.Dropout(.5)\n",
    "drop2 =  tf.keras.layers.Dropout(.5)"
   ]
  },
  {
   "cell_type": "code",
   "execution_count": null,
   "metadata": {
    "id": "kq6f9XoExZOZ"
   },
   "outputs": [],
   "source": [
    "seq_in = keras.Input(batch_shape=(None, max_len))  #Input Layer with shape: [None,40]\n",
    "\n",
    "#Embedding: Turns positive integers (indexes) into dense vectors of fixed size(100 here).\n",
    "#Each index is mapped to array of length 100\n",
    "embedded = keras.layers.Embedding(tokenizer.num_words, 75)(seq_in)   #Embedded Layer Output Shape: [None, 40,75]\n",
    "\n",
    "#Reduce mean: Computes the mean of elements across dimensions of a tensor\n",
    "averaged = tf.reduce_mean(embedded, axis=1)    #Output Shape: [None,75]\n",
    "fc1 = keras.layers.Dense(32,activation='relu')(averaged)  #Output Shape: [None, 32]\n",
    "drp1 = drop1(fc1, training= True) #dropout layer\n",
    "#fully connected dense layer with sigmoid layer\n",
    "pred = keras.layers.Dense(1, activation='sigmoid')(drp1)   #Output Shape: [None, 1]\n",
    "\n",
    "#Building the model\n",
    "model = keras.Model(\n",
    "    inputs=seq_in,\n",
    "    outputs=pred,\n",
    ")"
   ]
  },
  {
   "cell_type": "code",
   "execution_count": null,
   "metadata": {
    "colab": {
     "base_uri": "https://localhost:8080/"
    },
    "id": "ZGl6Xu5rxZOc",
    "outputId": "568b2120-5a61-4df4-c23d-3e0dadea2e17"
   },
   "outputs": [
    {
     "name": "stdout",
     "output_type": "stream",
     "text": [
      "Model: \"functional_55\"\n",
      "_________________________________________________________________\n",
      "Layer (type)                 Output Shape              Param #   \n",
      "=================================================================\n",
      "input_29 (InputLayer)        [(None, 40)]              0         \n",
      "_________________________________________________________________\n",
      "embedding_28 (Embedding)     (None, 40, 75)            3000000   \n",
      "_________________________________________________________________\n",
      "tf_op_layer_Mean_14 (TensorF [(None, 75)]              0         \n",
      "_________________________________________________________________\n",
      "dense_59 (Dense)             (None, 32)                2432      \n",
      "_________________________________________________________________\n",
      "dropout_5 (Dropout)          multiple                  0         \n",
      "_________________________________________________________________\n",
      "dense_60 (Dense)             (None, 1)                 33        \n",
      "=================================================================\n",
      "Total params: 3,002,465\n",
      "Trainable params: 3,002,465\n",
      "Non-trainable params: 0\n",
      "_________________________________________________________________\n"
     ]
    }
   ],
   "source": [
    "#Summary of model\n",
    "model.summary()"
   ]
  },
  {
   "cell_type": "code",
   "execution_count": null,
   "metadata": {
    "colab": {
     "base_uri": "https://localhost:8080/"
    },
    "id": "6DiVSYq6xZOg",
    "outputId": "0e0be529-eff9-48b2-e740-7f056fba845d"
   },
   "outputs": [
    {
     "name": "stdout",
     "output_type": "stream",
     "text": [
      "Epoch 1/10\n",
      "1121/1121 [==============================] - 46s 41ms/step - loss: 0.6804 - accuracy: 0.5613 - auc: 0.6256 - val_loss: 0.6503 - val_accuracy: 0.6333 - val_auc: 0.7624\n",
      "Epoch 2/10\n",
      "1121/1121 [==============================] - 46s 41ms/step - loss: 0.5821 - accuracy: 0.7226 - auc: 0.8037 - val_loss: 0.5255 - val_accuracy: 0.7474 - val_auc: 0.8290\n",
      "Epoch 3/10\n",
      "1121/1121 [==============================] - 46s 41ms/step - loss: 0.4866 - accuracy: 0.7741 - auc: 0.8532 - val_loss: 0.4846 - val_accuracy: 0.7666 - val_auc: 0.8469\n",
      "Epoch 4/10\n",
      "1121/1121 [==============================] - 47s 42ms/step - loss: 0.4478 - accuracy: 0.7952 - auc: 0.8740 - val_loss: 0.4646 - val_accuracy: 0.7767 - val_auc: 0.8595\n",
      "Epoch 5/10\n",
      "1121/1121 [==============================] - 46s 41ms/step - loss: 0.4251 - accuracy: 0.8115 - auc: 0.8872 - val_loss: 0.4533 - val_accuracy: 0.7850 - val_auc: 0.8667\n",
      "Epoch 6/10\n",
      "1121/1121 [==============================] - 47s 42ms/step - loss: 0.4032 - accuracy: 0.8231 - auc: 0.8988 - val_loss: 0.4515 - val_accuracy: 0.7873 - val_auc: 0.8691\n",
      "Epoch 7/10\n",
      "1121/1121 [==============================] - 48s 42ms/step - loss: 0.3886 - accuracy: 0.8304 - auc: 0.9066 - val_loss: 0.4478 - val_accuracy: 0.7907 - val_auc: 0.8722\n",
      "Epoch 8/10\n",
      "1121/1121 [==============================] - 47s 42ms/step - loss: 0.3750 - accuracy: 0.8402 - auc: 0.9134 - val_loss: 0.4443 - val_accuracy: 0.7931 - val_auc: 0.8746\n",
      "Epoch 9/10\n",
      "1121/1121 [==============================] - 51s 45ms/step - loss: 0.3628 - accuracy: 0.8493 - auc: 0.9191 - val_loss: 0.4445 - val_accuracy: 0.7945 - val_auc: 0.8753\n",
      "Epoch 10/10\n",
      "1121/1121 [==============================] - 48s 43ms/step - loss: 0.3520 - accuracy: 0.8558 - auc: 0.9246 - val_loss: 0.4565 - val_accuracy: 0.7925 - val_auc: 0.8741\n"
     ]
    }
   ],
   "source": [
    "\n",
    "\n",
    "#Compiling the model\n",
    "model.compile(\n",
    "    optimizer=tf.optimizers.Adamax(),    #optimizer\n",
    "    loss='binary_crossentropy',  #loss\n",
    "    metrics=['accuracy', 'AUC']  #evaluation metrics\n",
    ")\n",
    "\n",
    "\n",
    "#fitting model\n",
    "history = model.fit(x_train,\n",
    "                    y_train,\n",
    "                    epochs=10,\n",
    "                    batch_size=32,\n",
    "                    validation_data=(x_valid, y_valid),\n",
    "                    verbose=1)"
   ]
  },
  {
   "cell_type": "code",
   "execution_count": null,
   "metadata": {
    "colab": {
     "base_uri": "https://localhost:8080/",
     "height": 279
    },
    "id": "jpVKnflLloM6",
    "outputId": "bc9e7dd7-4cac-4f24-9eb5-e7d2d066f5be"
   },
   "outputs": [
    {
     "data": {
      "image/png": "[encoded data removed]",
      "text/plain": [
       "<Figure size 432x288 with 1 Axes>"
      ]
     },
     "metadata": {
      "needs_background": "light",
      "tags": []
     },
     "output_type": "display_data"
    }
   ],
   "source": [
    "acc_plot(history)"
   ]
  },
  {
   "cell_type": "code",
   "execution_count": null,
   "metadata": {
    "colab": {
     "base_uri": "https://localhost:8080/",
     "height": 279
    },
    "id": "mbHA3DVGlqb4",
    "outputId": "b4e810d1-0ec6-44be-b759-b1024cb5053c"
   },
   "outputs": [
    {
     "data": {
      "image/png": "[encoded data removed]",
      "text/plain": [
       "<Figure size 432x288 with 1 Axes>"
      ]
     },
     "metadata": {
      "needs_background": "light",
      "tags": []
     },
     "output_type": "display_data"
    }
   ],
   "source": [
    "loss_plot(history)"
   ]
  },
  {
   "cell_type": "markdown",
   "metadata": {
    "id": "xX6AUrU6xD0L"
   },
   "source": [
    "* **Till now the above model is the best that has been obtained in terms of learning curves and accuracy. Though the accuracy is not that high on the test data available. LSTM/GRU models are implemented below for better performance.**"
   ]
  },
  {
   "cell_type": "code",
   "execution_count": null,
   "metadata": {
    "id": "7mNzS9GVxZOi"
   },
   "outputs": [],
   "source": [
    "#preprocessing on test data\n",
    "#x_test = _preprocess(x_test_df.text)\n",
    "\n",
    "#predicting the result\n",
    "y_predict = np.squeeze(model.predict(x_test))\n",
    "\n",
    "\n",
    "pd.DataFrame(\n",
    "    {'id': x_test_df.index,\n",
    "     'label':y_predict}).to_csv('sub_fc_2.csv', index=False)"
   ]
  },
  {
   "cell_type": "markdown",
   "metadata": {
    "id": "gP9-lug8vzsz"
   },
   "source": [
    "# Preprocessing"
   ]
  },
  {
   "cell_type": "markdown",
   "metadata": {
    "id": "ucOq4sBAHF07"
   },
   "source": [
    "* **Removing Stop Words from the data**"
   ]
  },
  {
   "cell_type": "code",
   "execution_count": null,
   "metadata": {
    "id": "BZNYCzdFzKHx"
   },
   "outputs": [],
   "source": [
    "#Stop Words removal(a, the, an, for etc.)\n",
    "\n",
    "#importing nltk package\n",
    "import nltk\n",
    "from nltk.corpus import stopwords"
   ]
  },
  {
   "cell_type": "code",
   "execution_count": null,
   "metadata": {
    "colab": {
     "base_uri": "https://localhost:8080/"
    },
    "id": "IBEKFXjI0v8f",
    "outputId": "1571444d-3512-4112-a6fa-8b9f246190aa"
   },
   "outputs": [
    {
     "name": "stdout",
     "output_type": "stream",
     "text": [
      "[nltk_data] Downloading package stopwords to /root/nltk_data...\n",
      "[nltk_data]   Unzipping corpora/stopwords.zip.\n"
     ]
    },
    {
     "data": {
      "text/plain": [
       "True"
      ]
     },
     "execution_count": 13,
     "metadata": {
      "tags": []
     },
     "output_type": "execute_result"
    }
   ],
   "source": [
    "#downloadin stop words\n",
    "nltk.download('stopwords')"
   ]
  },
  {
   "cell_type": "code",
   "execution_count": null,
   "metadata": {
    "id": "886gN5vcF1lP"
   },
   "outputs": [],
   "source": [
    "#making a set of stop words\n",
    "stopwords=set(stopwords.words('english'))"
   ]
  },
  {
   "cell_type": "code",
   "execution_count": null,
   "metadata": {
    "id": "6mpYyGVvFSlH"
   },
   "outputs": [],
   "source": [
    "#method to remove stop words from the data\n",
    "def rem_stopwords(data):\n",
    "    out_array=[]  #empty array\n",
    "    for sentence in data:   #for each sentence (array) in the data\n",
    "        tmp_list=[]         #temporary empty array\n",
    "        for word in sentence.split():  #splitting the words in the sentence\n",
    "            if word.lower() not in stopwords:   #lower each word and check if it is not in stop words\n",
    "                tmp_list.append(word)    # if it is not the word is append to temp array\n",
    "        out_array.append(' '.join(tmp_list))  #joint the array to form a string of words sentence\n",
    "    return out_array #return complete array without stop words\n"
   ]
  },
  {
   "cell_type": "code",
   "execution_count": null,
   "metadata": {
    "id": "HXeIHQPYFiyO"
   },
   "outputs": [],
   "source": [
    "#removing stop words from the complete data (train)\n",
    "x_filtered = rem_stopwords(x)"
   ]
  },
  {
   "cell_type": "code",
   "execution_count": null,
   "metadata": {
    "colab": {
     "base_uri": "https://localhost:8080/",
     "height": 35
    },
    "id": "GMXxsseiF4ab",
    "outputId": "4fc456bf-42e9-4076-c00c-08db08a9bdad"
   },
   "outputs": [
    {
     "data": {
      "application/vnd.google.colaboratory.intrinsic+json": {
       "type": "string"
      },
      "text/plain": [
       "'group friends began '"
      ]
     },
     "execution_count": 17,
     "metadata": {
      "tags": []
     },
     "output_type": "execute_result"
    }
   ],
   "source": [
    "#filtered data after removing stop words\n",
    "x_filtered[0][0:20]"
   ]
  },
  {
   "cell_type": "code",
   "execution_count": null,
   "metadata": {
    "colab": {
     "base_uri": "https://localhost:8080/",
     "height": 35
    },
    "id": "n_2C_rmy1Jl0",
    "outputId": "ae4c3eff-31e6-408a-ee03-7f987f8fa486"
   },
   "outputs": [
    {
     "data": {
      "application/vnd.google.colaboratory.intrinsic+json": {
       "type": "string"
      },
      "text/plain": [
       "'A group of friends b'"
      ]
     },
     "execution_count": 18,
     "metadata": {
      "tags": []
     },
     "output_type": "execute_result"
    }
   ],
   "source": [
    "#unfiltered data before removing stop words\n",
    "x[0][0:20]"
   ]
  },
  {
   "cell_type": "code",
   "execution_count": null,
   "metadata": {
    "colab": {
     "base_uri": "https://localhost:8080/"
    },
    "id": "GbiKyy4u1EN_",
    "outputId": "e949417a-0070-4a55-83e7-932c53bad47f"
   },
   "outputs": [
    {
     "data": {
      "text/plain": [
       "(59768,)"
      ]
     },
     "execution_count": 19,
     "metadata": {
      "tags": []
     },
     "output_type": "execute_result"
    }
   ],
   "source": [
    "np.shape(x_filtered)"
   ]
  },
  {
   "cell_type": "markdown",
   "metadata": {
    "id": "Z1S1YxmUHaCM"
   },
   "source": [
    "* **Stemming the words**"
   ]
  },
  {
   "cell_type": "code",
   "execution_count": null,
   "metadata": {
    "colab": {
     "base_uri": "https://localhost:8080/"
    },
    "id": "mQSlXjg2I9gG",
    "outputId": "da3ba6c8-c15f-45b1-c70c-fc04a18ac538"
   },
   "outputs": [
    {
     "name": "stdout",
     "output_type": "stream",
     "text": [
      "[nltk_data] Downloading package punkt to /root/nltk_data...\n",
      "[nltk_data]   Unzipping tokenizers/punkt.zip.\n"
     ]
    },
    {
     "data": {
      "text/plain": [
       "True"
      ]
     },
     "execution_count": 20,
     "metadata": {
      "tags": []
     },
     "output_type": "execute_result"
    }
   ],
   "source": [
    "nltk.download('punkt')"
   ]
  },
  {
   "cell_type": "code",
   "execution_count": null,
   "metadata": {
    "id": "wWluI3PIIrtF"
   },
   "outputs": [],
   "source": [
    "# importing modules \n",
    "from nltk.stem import PorterStemmer \n",
    "from nltk.tokenize import word_tokenize \n",
    "   \n",
    "ps = PorterStemmer()  #making an instance of PorterStemmer "
   ]
  },
  {
   "cell_type": "code",
   "execution_count": null,
   "metadata": {
    "id": "ghd1zwv_I0ef"
   },
   "outputs": [],
   "source": [
    "#checking word_tokenize\n",
    "sentence = \"Programers program with programing languages\"\n",
    "words = word_tokenize(sentence) "
   ]
  },
  {
   "cell_type": "code",
   "execution_count": null,
   "metadata": {
    "colab": {
     "base_uri": "https://localhost:8080/"
    },
    "id": "Xq_OzocLJAT6",
    "outputId": "d60b5f1e-9045-4f51-ff33-2c4f41c02ce1"
   },
   "outputs": [
    {
     "data": {
      "text/plain": [
       "['Programers', 'program', 'with', 'programing', 'languages']"
      ]
     },
     "execution_count": 23,
     "metadata": {
      "tags": []
     },
     "output_type": "execute_result"
    }
   ],
   "source": [
    "words"
   ]
  },
  {
   "cell_type": "code",
   "execution_count": null,
   "metadata": {
    "id": "ow8Rc1YIJF6o"
   },
   "outputs": [],
   "source": [
    "#method to stem words from the data\n",
    "def stm_stopwords(data):\n",
    "    out_array=[]  #empty array\n",
    "    for sentence in data:   #for each sentence (array) in the data\n",
    "        tmp_list=[]         #temporary empty array\n",
    "        for word in sentence.split():  #splitting the words in the sentence\n",
    "              wrd = ps.stem(word)  #stemming\n",
    "              tmp_list.append(wrd)    # stemmed word is append to temp array\n",
    "        out_array.append(' '.join(tmp_list))  #joint the array to form a string of words sentence\n",
    "    return out_array #return complete array without stop words"
   ]
  },
  {
   "cell_type": "code",
   "execution_count": null,
   "metadata": {
    "id": "ofaYx9SWJj4u"
   },
   "outputs": [],
   "source": [
    "#stemming words after removing stop words\n",
    "x_filtered = stm_stopwords(x_filtered)"
   ]
  },
  {
   "cell_type": "code",
   "execution_count": null,
   "metadata": {
    "colab": {
     "base_uri": "https://localhost:8080/",
     "height": 35
    },
    "id": "ZYYCJL4RJzQI",
    "outputId": "06c13100-b596-48cc-b6bc-33e0df668c04"
   },
   "outputs": [
    {
     "data": {
      "application/vnd.google.colaboratory.intrinsic+json": {
       "type": "string"
      },
      "text/plain": [
       "'british prime minist'"
      ]
     },
     "execution_count": 42,
     "metadata": {
      "tags": []
     },
     "output_type": "execute_result"
    }
   ],
   "source": [
    "#Checking stemming\n",
    "x_filtered[1][0:20]"
   ]
  },
  {
   "cell_type": "code",
   "execution_count": null,
   "metadata": {
    "colab": {
     "base_uri": "https://localhost:8080/",
     "height": 35
    },
    "id": "yqPp4gYEJ3Vw",
    "outputId": "d0f104aa-4d48-45e3-cc38-ea480359e580"
   },
   "outputs": [
    {
     "data": {
      "application/vnd.google.colaboratory.intrinsic+json": {
       "type": "string"
      },
      "text/plain": [
       "'British Prime Minist'"
      ]
     },
     "execution_count": 43,
     "metadata": {
      "tags": []
     },
     "output_type": "execute_result"
    }
   ],
   "source": [
    "x[1][0:20]"
   ]
  },
  {
   "cell_type": "code",
   "execution_count": null,
   "metadata": {
    "id": "TbT7w6yOMgoW"
   },
   "outputs": [],
   "source": [
    "#splitting training data as train and validation data with the given ratio as test_size\n",
    "x_train, x_valid, y_train, y_valid = train_test_split(x_filtered, y, test_size=0.2)"
   ]
  },
  {
   "cell_type": "code",
   "execution_count": null,
   "metadata": {
    "id": "hu5GwxSOMhZf"
   },
   "outputs": [],
   "source": [
    "# build vocabulary from training set\n",
    "#Each word is assigned a number \n",
    "#tokenizer build vocabulary\n",
    "tokenizer = Tokenizer(num_words=vocab_size)\n",
    "tokenizer.fit_on_texts(x_train) #vocab based on words in training data"
   ]
  },
  {
   "cell_type": "code",
   "execution_count": null,
   "metadata": {
    "id": "Tcb_O1shljHw"
   },
   "outputs": [],
   "source": [
    "#Method which assigns integer value to each word in the sequence based on vocabulary \n",
    "#and then transforms into a matrix using pad_sequences\n",
    "\n",
    "#pad_sequences transforms a list of sequences \n",
    "#into a 2D Numpy array of shape (num_samples, num_timesteps).\n",
    "def _preprocess(list_of_text):  #private method\n",
    "    return pad_sequences(\n",
    "        tokenizer.texts_to_sequences(list_of_text),  #transforms each text in texts to sequence of integers\n",
    "        maxlen=max_len,    #maximum length of all sequences\n",
    "        padding='post',    #specifying padding after sequence\n",
    "    )"
   ]
  },
  {
   "cell_type": "code",
   "execution_count": null,
   "metadata": {
    "colab": {
     "base_uri": "https://localhost:8080/"
    },
    "id": "3CshFElSMnci",
    "outputId": "186194e3-8c29-4802-972b-75487c04b684"
   },
   "outputs": [
    {
     "name": "stdout",
     "output_type": "stream",
     "text": [
      "(47814, 60) (47814,)\n",
      "(11954, 60) (11954,)\n"
     ]
    }
   ],
   "source": [
    "# padding is done inside: \n",
    "#preprocess method to tokenized the words and converting it into 2D array\n",
    "x_train = _preprocess(x_train)\n",
    "x_valid = _preprocess(x_valid)\n",
    "\n",
    "print(x_train.shape, y_train.shape)\n",
    "print(x_valid.shape, y_valid.shape)"
   ]
  },
  {
   "cell_type": "markdown",
   "metadata": {
    "id": "gLLlJPOXv4Rx"
   },
   "source": [
    "# Single GRU implementation"
   ]
  },
  {
   "cell_type": "code",
   "execution_count": null,
   "metadata": {
    "id": "71L3Z2cW1Uhz"
   },
   "outputs": [],
   "source": [
    "#Early stopping definition\n",
    "#The parameter to monitor is validation loss\n",
    "#Upto 5 epochs are checked to see the improvement\n",
    "callback = tf.keras.callbacks.EarlyStopping(monitor='val_auc', patience=3)"
   ]
  },
  {
   "cell_type": "code",
   "execution_count": null,
   "metadata": {
    "id": "Fx_CSO86qOyR"
   },
   "outputs": [],
   "source": [
    "import tensorflow as tf"
   ]
  },
  {
   "cell_type": "code",
   "execution_count": null,
   "metadata": {
    "id": "zOTM0pZrp4cb"
   },
   "outputs": [],
   "source": [
    "from keras.layers import GRU"
   ]
  },
  {
   "cell_type": "code",
   "execution_count": null,
   "metadata": {
    "colab": {
     "base_uri": "https://localhost:8080/"
    },
    "id": "27yV_biIngVw",
    "outputId": "3df8507d-813e-4df1-a8b1-c2149fd941f4"
   },
   "outputs": [
    {
     "name": "stdout",
     "output_type": "stream",
     "text": [
      "Model: \"functional_59\"\n",
      "_________________________________________________________________\n",
      "Layer (type)                 Output Shape              Param #   \n",
      "=================================================================\n",
      "input_31 (InputLayer)        [(None, 40)]              0         \n",
      "_________________________________________________________________\n",
      "embedding_30 (Embedding)     (None, 40, 100)           4000000   \n",
      "_________________________________________________________________\n",
      "gru (GRU)                    (None, 75)                39825     \n",
      "_________________________________________________________________\n",
      "dense_62 (Dense)             (None, 1)                 76        \n",
      "=================================================================\n",
      "Total params: 4,039,901\n",
      "Trainable params: 4,039,901\n",
      "Non-trainable params: 0\n",
      "_________________________________________________________________\n"
     ]
    }
   ],
   "source": [
    "#model Building\n",
    "seq_in = keras.Input(batch_shape=(None, max_len))  #Output Shape: [None, 40]\n",
    "embedded = keras.layers.Embedding(tokenizer.num_words, 100)(seq_in)  #Output Shape: [None, 40, 100]\n",
    "#Reduce mean: Computes the mean of elements across dimensions of a tensor\n",
    "#averaged = tf.reduce_mean(embedded, axis=1)    #Output Shape: [None,100]\n",
    "gru1 = GRU(75)(embedded)                         #first GRU layer with 75 units(dimension of output) Output Shape: [None, 75]\n",
    "pred = keras.layers.Dense(1, activation='sigmoid')(gru1) #final Dense layer Output Shape: [None, 1]\n",
    "\n",
    "#building the model\n",
    "model = keras.Model(\n",
    "    inputs=seq_in,\n",
    "    outputs=pred,\n",
    ")\n",
    "\n",
    "#printing the summary\n",
    "model.summary()\n"
   ]
  },
  {
   "cell_type": "code",
   "execution_count": null,
   "metadata": {
    "colab": {
     "base_uri": "https://localhost:8080/"
    },
    "id": "bhBfCrwvotpC",
    "outputId": "11657c40-cb51-4e43-bfc8-f02b4d85625b"
   },
   "outputs": [
    {
     "name": "stdout",
     "output_type": "stream",
     "text": [
      "Epoch 1/20\n",
      "561/561 [==============================] - 56s 100ms/step - loss: 0.6912 - accuracy: 0.5355 - auc: 0.4905 - val_loss: 0.6898 - val_accuracy: 0.5421 - val_auc: 0.4997\n",
      "Epoch 2/20\n",
      "561/561 [==============================] - 55s 98ms/step - loss: 0.6579 - accuracy: 0.5826 - auc: 0.6133 - val_loss: 0.5252 - val_accuracy: 0.7443 - val_auc: 0.8191\n",
      "Epoch 3/20\n",
      "561/561 [==============================] - 56s 99ms/step - loss: 0.4199 - accuracy: 0.8057 - auc: 0.8862 - val_loss: 0.4073 - val_accuracy: 0.8096 - val_auc: 0.8944\n",
      "Epoch 4/20\n",
      "561/561 [==============================] - 56s 100ms/step - loss: 0.2514 - accuracy: 0.8950 - auc: 0.9608 - val_loss: 0.4784 - val_accuracy: 0.8084 - val_auc: 0.8871\n"
     ]
    }
   ],
   "source": [
    "#Compiling the model\n",
    "model.compile(\n",
    "    optimizer=Adam(),\n",
    "    loss='binary_crossentropy',\n",
    "    metrics=['accuracy', 'AUC']\n",
    ")\n",
    "\n",
    "\n",
    "#fitting the model\n",
    "history = model.fit(x_train,\n",
    "                    y_train,\n",
    "                    epochs=20,\n",
    "                    batch_size=64,\n",
    "                    validation_data=(x_valid, y_valid),callbacks=[callback],\n",
    "                    verbose=1)"
   ]
  },
  {
   "cell_type": "code",
   "execution_count": null,
   "metadata": {
    "colab": {
     "base_uri": "https://localhost:8080/",
     "height": 279
    },
    "id": "9P1VNPhT3T61",
    "outputId": "a61a6e8b-3e5b-41f3-b611-315fa31eead0"
   },
   "outputs": [
    {
     "data": {
      "image/png": "[encoded data removed]",
      "text/plain": [
       "<Figure size 432x288 with 1 Axes>"
      ]
     },
     "metadata": {
      "needs_background": "light",
      "tags": []
     },
     "output_type": "display_data"
    }
   ],
   "source": [
    "#plotting accuracy curves\n",
    "acc_plot(history)"
   ]
  },
  {
   "cell_type": "code",
   "execution_count": null,
   "metadata": {
    "colab": {
     "base_uri": "https://localhost:8080/",
     "height": 279
    },
    "id": "tkG8bzOQ3f_N",
    "outputId": "b842be89-35b3-479c-cc04-2c849dd92590"
   },
   "outputs": [
    {
     "data": {
      "image/png": "[encoded data removed]",
      "text/plain": [
       "<Figure size 432x288 with 1 Axes>"
      ]
     },
     "metadata": {
      "needs_background": "light",
      "tags": []
     },
     "output_type": "display_data"
    }
   ],
   "source": [
    "#plotting loss curves\n",
    "loss_plot(history)"
   ]
  },
  {
   "cell_type": "markdown",
   "metadata": {
    "id": "WubRUu7JPISv"
   },
   "source": [
    "* The training stop after few epochs as early stopping is implemented. The learning curves are not well consistent but still not a bad model."
   ]
  },
  {
   "cell_type": "code",
   "execution_count": null,
   "metadata": {
    "id": "2-wAJr39Na7p"
   },
   "outputs": [],
   "source": [
    "#Predicting on test data\n",
    "\n",
    "#removing stop words from test data\n",
    "x_test = rem_stopwords(x_test_df.text)\n",
    "#stemming the words\n",
    "x_test = stm_stopwords(x_test)\n",
    "\n",
    "#preprocessing the data\n",
    "x_test = _preprocess(x_test)\n",
    "\n",
    "#predicting and converting to 1D array\n",
    "y_predict = np.squeeze(model.predict(x_test))\n",
    "\n",
    "\n",
    "pd.DataFrame(\n",
    "    {'id': x_test_df.index,\n",
    "     'label':y_predict}).to_csv('gru1.csv', index=False)"
   ]
  },
  {
   "cell_type": "markdown",
   "metadata": {
    "id": "4dwvKMtUv5wL"
   },
   "source": [
    "# Single LSTM implementation"
   ]
  },
  {
   "cell_type": "code",
   "execution_count": null,
   "metadata": {
    "id": "PAPdgkPh5xfL"
   },
   "outputs": [],
   "source": [
    "from keras.layers import LSTM"
   ]
  },
  {
   "cell_type": "code",
   "execution_count": null,
   "metadata": {
    "colab": {
     "base_uri": "https://localhost:8080/"
    },
    "id": "TDX7et3w5cAd",
    "outputId": "159f8e31-1fc6-44e0-db4e-afd66cfd4d68"
   },
   "outputs": [
    {
     "name": "stdout",
     "output_type": "stream",
     "text": [
      "Model: \"functional_15\"\n",
      "_________________________________________________________________\n",
      "Layer (type)                 Output Shape              Param #   \n",
      "=================================================================\n",
      "input_8 (InputLayer)         [(None, 40)]              0         \n",
      "_________________________________________________________________\n",
      "embedding_7 (Embedding)      (None, 40, 100)           4000000   \n",
      "_________________________________________________________________\n",
      "lstm_7 (LSTM)                (None, 100)               80400     \n",
      "_________________________________________________________________\n",
      "dense_14 (Dense)             (None, 32)                3232      \n",
      "_________________________________________________________________\n",
      "dense_15 (Dense)             (None, 1)                 33        \n",
      "=================================================================\n",
      "Total params: 4,083,665\n",
      "Trainable params: 4,083,665\n",
      "Non-trainable params: 0\n",
      "_________________________________________________________________\n"
     ]
    }
   ],
   "source": [
    "#model Building\n",
    "seq_in = keras.Input(batch_shape=(None, max_len)) #Output SHape: [None, 40]\n",
    "embedded = keras.layers.Embedding(tokenizer.num_words, 100)(seq_in) #output Shape: [None, 40, 100]\n",
    "#Reduce mean: Computes the mean of elements across dimensions of a tensor\n",
    "#averaged = tf.reduce_mean(embedded, axis=1)    #Output Shape: [None,100]\n",
    "lstm1 = LSTM(100)(embedded)                      #LSTM layer with 100 units Output Shape: [None, 100]\n",
    "fc1 = tf.keras.layers.Dense(32, activation='relu')(lstm1)  #Output Shape: [None, 32]\n",
    "pred = keras.layers.Dense(1, activation='sigmoid')(fc1)   #final Dense layer Output Shape: [None, 1]\n",
    "\n",
    "#building model\n",
    "model = keras.Model(\n",
    "    inputs=seq_in,\n",
    "    outputs=pred,\n",
    ")\n",
    "\n",
    "#printing summary\n",
    "model.summary()"
   ]
  },
  {
   "cell_type": "code",
   "execution_count": null,
   "metadata": {
    "colab": {
     "base_uri": "https://localhost:8080/"
    },
    "id": "VdRJdLhZ5hf7",
    "outputId": "403e2199-d7cf-43ce-ec04-dc77d068abfa"
   },
   "outputs": [
    {
     "name": "stdout",
     "output_type": "stream",
     "text": [
      "Epoch 1/10\n",
      "561/561 [==============================] - 69s 122ms/step - loss: 0.5562 - accuracy: 0.6839 - auc: 0.7683 - val_loss: 0.4364 - val_accuracy: 0.7941 - val_auc: 0.8799\n",
      "Epoch 2/10\n",
      "561/561 [==============================] - ETA: 0s - loss: 0.3402 - accuracy: 0.8550 - auc: 0.9279Epoch 3/10\n",
      "561/561 [==============================] - 67s 120ms/step - loss: 0.2346 - accuracy: 0.9036 - auc: 0.9656 - val_loss: 0.5431 - val_accuracy: 0.7920 - val_auc: 0.8717\n",
      "Epoch 4/10\n",
      "561/561 [==============================] - 68s 122ms/step - loss: 0.1643 - accuracy: 0.9316 - auc: 0.9827 - val_loss: 0.5848 - val_accuracy: 0.7796 - val_auc: 0.8578\n",
      "Epoch 5/10\n",
      "561/561 [==============================] - 67s 120ms/step - loss: 0.1206 - accuracy: 0.9507 - auc: 0.9899 - val_loss: 0.7758 - val_accuracy: 0.7759 - val_auc: 0.8477\n",
      "Epoch 6/10\n",
      "561/561 [==============================] - 68s 121ms/step - loss: 0.0830 - accuracy: 0.9683 - auc: 0.9947 - val_loss: 0.8875 - val_accuracy: 0.7661 - val_auc: 0.8352\n",
      "Epoch 7/10\n",
      "561/561 [==============================] - 68s 122ms/step - loss: 0.0621 - accuracy: 0.9791 - auc: 0.9962 - val_loss: 0.8748 - val_accuracy: 0.7693 - val_auc: 0.8379\n",
      "Epoch 8/10\n",
      "561/561 [==============================] - 71s 127ms/step - loss: 0.0413 - accuracy: 0.9873 - auc: 0.9978 - val_loss: 0.8975 - val_accuracy: 0.7691 - val_auc: 0.8345\n",
      "Epoch 9/10\n",
      "561/561 [==============================] - 70s 125ms/step - loss: 0.0290 - accuracy: 0.9918 - auc: 0.9983 - val_loss: 1.0755 - val_accuracy: 0.7673 - val_auc: 0.8251\n",
      "Epoch 10/10\n",
      "561/561 [==============================] - 69s 123ms/step - loss: 0.0228 - accuracy: 0.9939 - auc: 0.9987 - val_loss: 1.0639 - val_accuracy: 0.7733 - val_auc: 0.8313\n"
     ]
    }
   ],
   "source": [
    "#Compiling the model\n",
    "model.compile(\n",
    "    optimizer=Adam(),\n",
    "    loss='binary_crossentropy',\n",
    "    metrics=['accuracy', 'AUC']\n",
    ")\n",
    "\n",
    "\n",
    "\n",
    "#fitting the model\n",
    "history = model.fit(x_train,\n",
    "                    y_train,\n",
    "                    epochs=10,\n",
    "                    batch_size=64,\n",
    "                    validation_data=(x_valid, y_valid),#callbacks=[callback],\n",
    "                    verbose=1)"
   ]
  },
  {
   "cell_type": "code",
   "execution_count": null,
   "metadata": {
    "colab": {
     "base_uri": "https://localhost:8080/",
     "height": 279
    },
    "id": "3FTF1IT75sYg",
    "outputId": "e5bb5c99-8b4d-4067-fb05-d176ba94fdf5"
   },
   "outputs": [
    {
     "data": {
      "image/png": "[encoded data removed]",
      "text/plain": [
       "<Figure size 432x288 with 1 Axes>"
      ]
     },
     "metadata": {
      "needs_background": "light",
      "tags": []
     },
     "output_type": "display_data"
    }
   ],
   "source": [
    "acc_plot(history)"
   ]
  },
  {
   "cell_type": "code",
   "execution_count": null,
   "metadata": {
    "colab": {
     "base_uri": "https://localhost:8080/",
     "height": 279
    },
    "id": "UHIXpe0U5s4U",
    "outputId": "e17e453f-e353-48e5-aac6-06a039338056"
   },
   "outputs": [
    {
     "data": {
      "image/png": "[encoded data removed]",
      "text/plain": [
       "<Figure size 432x288 with 1 Axes>"
      ]
     },
     "metadata": {
      "needs_background": "light",
      "tags": []
     },
     "output_type": "display_data"
    }
   ],
   "source": [
    "loss_plot(history)"
   ]
  },
  {
   "cell_type": "markdown",
   "metadata": {
    "id": "7IM8if3qO-7t"
   },
   "source": [
    "* The model is clearly bad trained and overfitted."
   ]
  },
  {
   "cell_type": "code",
   "execution_count": null,
   "metadata": {
    "id": "bmLPWQmJ5kz2"
   },
   "outputs": [],
   "source": [
    "x_test = rem_stopwords(x_test_df.text)\n",
    "x_test = stm_stopwords(x_test)\n",
    "\n",
    "x_test = _preprocess(x_test)\n",
    "y_predict = np.squeeze(model.predict(x_test))\n",
    "\n",
    "\n",
    "pd.DataFrame(\n",
    "    {'id': x_test_df.index,\n",
    "     'label':y_predict}).to_csv('sub_lstm2.csv', index=False)"
   ]
  },
  {
   "cell_type": "markdown",
   "metadata": {
    "id": "E1KygU3Rv_39"
   },
   "source": [
    "# Multilayer GRU/LSTMs"
   ]
  },
  {
   "cell_type": "code",
   "execution_count": null,
   "metadata": {
    "colab": {
     "base_uri": "https://localhost:8080/"
    },
    "id": "EgZrCRTI-v_r",
    "outputId": "1c68fcc5-2a82-496f-a625-e9589a49f220"
   },
   "outputs": [
    {
     "name": "stdout",
     "output_type": "stream",
     "text": [
      "Model: \"functional_14\"\n",
      "_________________________________________________________________\n",
      "Layer (type)                 Output Shape              Param #   \n",
      "=================================================================\n",
      "input_8 (InputLayer)         [(None, 40)]              0         \n",
      "_________________________________________________________________\n",
      "embedding_7 (Embedding)      (None, 40, 100)           4000000   \n",
      "_________________________________________________________________\n",
      "gru_6 (GRU)                  (None, 40, 80)            43680     \n",
      "_________________________________________________________________\n",
      "gru_7 (GRU)                  (None, 80)                38880     \n",
      "_________________________________________________________________\n",
      "dense_11 (Dense)             (None, 64)                5184      \n",
      "_________________________________________________________________\n",
      "dense_12 (Dense)             (None, 1)                 65        \n",
      "=================================================================\n",
      "Total params: 4,087,809\n",
      "Trainable params: 4,087,809\n",
      "Non-trainable params: 0\n",
      "_________________________________________________________________\n"
     ]
    }
   ],
   "source": [
    "#model Building\n",
    "seq_in = keras.Input(batch_shape=(None, max_len)) #Output SHape: [None, 40]\n",
    "embedded = keras.layers.Embedding(tokenizer.num_words, 100)(seq_in) #OUtput Shape: [None, 40, 100]\n",
    "#Reduce mean: Computes the mean of elements across dimensions of a tensor\n",
    "#averaged = tf.reduce_mean(embedded, axis=1)    #Output Shape: [None,100]\n",
    "gru1 = GRU(80,return_sequences=True)(embedded) #to return output for each cell of GRU Output Shape: [None, 40, 80]\n",
    "gru2 = GRU(80)(gru1)                           #second layer Output Shape: [None, 80]\n",
    "fc1 = tf.keras.layers.Dense(64, activation='relu')(gru2)  #Output Shape: [None, 64]\n",
    "pred = keras.layers.Dense(1, activation='sigmoid')(fc1) #final dense layer Output Shape: [None, 1]\n",
    "\n",
    "#Defining model with inputs and outputs\n",
    "model = keras.Model(\n",
    "    inputs=seq_in,\n",
    "    outputs=pred,\n",
    ")\n",
    "\n",
    "#printing summary of the model\n",
    "model.summary()"
   ]
  },
  {
   "cell_type": "code",
   "execution_count": null,
   "metadata": {
    "colab": {
     "base_uri": "https://localhost:8080/"
    },
    "id": "78akCmu6ASvL",
    "outputId": "fdb3c8a6-3b34-47f5-c46e-33fb91f4e3fa"
   },
   "outputs": [
    {
     "name": "stdout",
     "output_type": "stream",
     "text": [
      "Epoch 1/10\n",
      "654/654 [==============================] - 74s 113ms/step - loss: 0.3432 - accuracy: 0.8514 - auc: 0.9265 - val_loss: 0.4056 - val_accuracy: 0.8121 - val_auc: 0.8993\n",
      "Epoch 2/10\n",
      "654/654 [==============================] - 73s 112ms/step - loss: 0.3073 - accuracy: 0.8700 - auc: 0.9413 - val_loss: 0.4296 - val_accuracy: 0.8148 - val_auc: 0.8983\n",
      "Epoch 3/10\n",
      "654/654 [==============================] - 73s 112ms/step - loss: 0.2706 - accuracy: 0.8884 - auc: 0.9545 - val_loss: 0.4199 - val_accuracy: 0.8097 - val_auc: 0.8955\n",
      "Epoch 4/10\n",
      "654/654 [==============================] - 75s 114ms/step - loss: 0.2345 - accuracy: 0.9051 - auc: 0.9656 - val_loss: 0.4497 - val_accuracy: 0.8113 - val_auc: 0.8937\n",
      "Epoch 5/10\n",
      "654/654 [==============================] - 72s 110ms/step - loss: 0.1979 - accuracy: 0.9225 - auc: 0.9751 - val_loss: 0.4461 - val_accuracy: 0.8063 - val_auc: 0.8908\n",
      "Epoch 6/10\n",
      "654/654 [==============================] - 72s 110ms/step - loss: 0.1656 - accuracy: 0.9372 - auc: 0.9821 - val_loss: 0.5158 - val_accuracy: 0.8060 - val_auc: 0.8897\n",
      "Epoch 7/10\n",
      "654/654 [==============================] - 72s 110ms/step - loss: 0.1357 - accuracy: 0.9497 - auc: 0.9876 - val_loss: 0.5329 - val_accuracy: 0.8031 - val_auc: 0.8831\n",
      "Epoch 8/10\n",
      "654/654 [==============================] - 71s 109ms/step - loss: 0.1089 - accuracy: 0.9605 - auc: 0.9917 - val_loss: 0.6185 - val_accuracy: 0.7983 - val_auc: 0.8761\n",
      "Epoch 9/10\n",
      "654/654 [==============================] - 73s 112ms/step - loss: 0.0850 - accuracy: 0.9701 - auc: 0.9946 - val_loss: 0.7042 - val_accuracy: 0.7808 - val_auc: 0.8585\n",
      "Epoch 10/10\n",
      "654/654 [==============================] - 72s 110ms/step - loss: 0.0659 - accuracy: 0.9770 - auc: 0.9964 - val_loss: 0.7402 - val_accuracy: 0.7848 - val_auc: 0.8612\n"
     ]
    }
   ],
   "source": [
    "#Compiling the model, specifying optimizer, loss, metrices \n",
    "model.compile(\n",
    "    optimizer=tf.optimizers.RMSprop() ,\n",
    "    loss='binary_crossentropy',\n",
    "    metrics=['accuracy', 'AUC']\n",
    ")\n",
    "\n",
    "\n",
    "\n",
    "history = model.fit(x_train,\n",
    "                    y_train,\n",
    "                    epochs=10,\n",
    "                    batch_size=64,\n",
    "                    validation_data=(x_valid, y_valid),\n",
    "                    verbose=1)"
   ]
  },
  {
   "cell_type": "code",
   "execution_count": null,
   "metadata": {
    "colab": {
     "base_uri": "https://localhost:8080/",
     "height": 279
    },
    "id": "wfoIH2tbP1Si",
    "outputId": "1510fa06-1d3a-44d4-8773-7e7cc5f1a5cc"
   },
   "outputs": [
    {
     "data": {
      "image/png": "[encoded data removed]",
      "text/plain": [
       "<Figure size 432x288 with 1 Axes>"
      ]
     },
     "metadata": {
      "needs_background": "light",
      "tags": []
     },
     "output_type": "display_data"
    }
   ],
   "source": [
    "acc_plot(history)"
   ]
  },
  {
   "cell_type": "code",
   "execution_count": null,
   "metadata": {
    "colab": {
     "base_uri": "https://localhost:8080/",
     "height": 279
    },
    "id": "YadeXqzGP4Go",
    "outputId": "7205c0ca-8f37-4b93-badd-5fd07dd51dad"
   },
   "outputs": [
    {
     "data": {
      "image/png": "[encoded data removed]",
      "text/plain": [
       "<Figure size 432x288 with 1 Axes>"
      ]
     },
     "metadata": {
      "needs_background": "light",
      "tags": []
     },
     "output_type": "display_data"
    }
   ],
   "source": [
    "loss_plot(history)"
   ]
  },
  {
   "cell_type": "markdown",
   "metadata": {
    "id": "HfHSqh07Posf"
   },
   "source": [
    "* The loss keep increasing for validation which state clear overfitting."
   ]
  },
  {
   "cell_type": "code",
   "execution_count": null,
   "metadata": {
    "id": "CQMssP30P6WE"
   },
   "outputs": [],
   "source": [
    "x_test = rem_stopwords(x_test_df.text)\n",
    "x_test = stm_stopwords(x_test)\n",
    "\n",
    "x_test = _preprocess(x_test)\n",
    "y_predict = np.squeeze(model.predict(x_test))\n",
    "\n",
    "\n",
    "pd.DataFrame(\n",
    "    {'id': x_test_df.index,\n",
    "     'label':y_predict}).to_csv('sub_gru9.csv', index=False)"
   ]
  },
  {
   "cell_type": "markdown",
   "metadata": {
    "id": "4Qlfm6iwwFyQ"
   },
   "source": [
    "# Bidirectional GRUs/LSTMs"
   ]
  },
  {
   "cell_type": "code",
   "execution_count": null,
   "metadata": {
    "id": "HU5XyNmul594"
   },
   "outputs": [],
   "source": [
    "import tensorflow as tf\n",
    "\n",
    "tf.random.set_seed(0)\n",
    "drop1 = tf.keras.layers.Dropout(.2)"
   ]
  },
  {
   "cell_type": "code",
   "execution_count": null,
   "metadata": {
    "colab": {
     "base_uri": "https://localhost:8080/"
    },
    "id": "pf2e5kOZQWJA",
    "outputId": "427a2f2f-ff9b-4030-a176-6f00588eda88"
   },
   "outputs": [
    {
     "name": "stdout",
     "output_type": "stream",
     "text": [
      "Model: \"functional_3\"\n",
      "_________________________________________________________________\n",
      "Layer (type)                 Output Shape              Param #   \n",
      "=================================================================\n",
      "input_2 (InputLayer)         [(None, 60)]              0         \n",
      "_________________________________________________________________\n",
      "embedding_1 (Embedding)      (None, 60, 150)           6000000   \n",
      "_________________________________________________________________\n",
      "bidirectional_3 (Bidirection (None, 60, 100)           80400     \n",
      "_________________________________________________________________\n",
      "bidirectional_4 (Bidirection (None, 60, 100)           60400     \n",
      "_________________________________________________________________\n",
      "bidirectional_5 (Bidirection (None, 100)               60400     \n",
      "_________________________________________________________________\n",
      "dense_2 (Dense)              (None, 40)                4040      \n",
      "_________________________________________________________________\n",
      "dense_3 (Dense)              (None, 1)                 41        \n",
      "=================================================================\n",
      "Total params: 6,205,281\n",
      "Trainable params: 6,205,281\n",
      "Non-trainable params: 0\n",
      "_________________________________________________________________\n"
     ]
    }
   ],
   "source": [
    "#Bidirectional Model: propagates the input forward and backwards through the RNN layer and then concatenates the final output\n",
    "#None represents the batch_size\n",
    "\n",
    "#model Building\n",
    "seq_in = keras.Input(batch_shape=(None, max_len)) #[(None, 60)]\n",
    "embedded = keras.layers.Embedding(tokenizer.num_words, 150)(seq_in) #(None, 60, 150)\n",
    "gru1 = tf.keras.layers.Bidirectional(LSTM(50, dropout=0.1,return_sequences=True))(embedded) #Bidirectional with 50 units, Output Shape: [None, 60, 100] \n",
    "gru2 = tf.keras.layers.Bidirectional(LSTM(50, dropout=0.1,return_sequences=True))(gru1) #Bidirectional with 50 units, Output Shape: [None, 60, 100] \n",
    "gru3 = tf.keras.layers.Bidirectional(LSTM(50, dropout=0.1))(gru2) #Bidirectional with 50 units, Output Shape: [None, 100]\n",
    "fc1 = tf.keras.layers.Dense(40, activation='relu')(gru3)#drp1 = drop1(fc1, training=True) (None, 40)\n",
    "pred = keras.layers.Dense(1, activation='sigmoid')(fc1)  #Output Shape: [None, 1] \n",
    "\n",
    "model = keras.Model(\n",
    "    inputs=seq_in,\n",
    "    outputs=pred,\n",
    ")\n",
    "\n",
    "model.summary()"
   ]
  },
  {
   "cell_type": "code",
   "execution_count": null,
   "metadata": {
    "colab": {
     "base_uri": "https://localhost:8080/"
    },
    "id": "Y4ZxXiKaRsMW",
    "outputId": "8b2d9a40-5d73-401a-b715-e6f263c3f7f2"
   },
   "outputs": [
    {
     "name": "stdout",
     "output_type": "stream",
     "text": [
      "1495/1495 [==============================] - 365s 244ms/step - loss: 0.4414 - accuracy: 0.7883 - auc: 0.8733 - val_loss: 0.3910 - val_accuracy: 0.8237 - val_auc: 0.9052\n"
     ]
    }
   ],
   "source": [
    "model.compile(\n",
    "    optimizer=Adam(),\n",
    "    loss='binary_crossentropy',\n",
    "    metrics=['accuracy', 'AUC']\n",
    ")\n",
    "\n",
    "\n",
    "#fitting the model\n",
    "history = model.fit(x_train,\n",
    "                    y_train,\n",
    "                    epochs=1,\n",
    "                    batch_size=32,\n",
    "                    validation_data=(x_valid, y_valid),\n",
    "                    callbacks=[callback],\n",
    "                    verbose=1)"
   ]
  },
  {
   "cell_type": "code",
   "execution_count": null,
   "metadata": {
    "id": "Y8LCS4-YXVKK"
   },
   "outputs": [],
   "source": [
    "#Removing step words from test data\n",
    "x_test = rem_stopwords(x_test_df.text)\n",
    "#Stemming words\n",
    "x_test = stm_stopwords(x_test)\n",
    "\n",
    "#Preprocessing\n",
    "x_test = _preprocess(x_test)\n",
    "\n",
    "#Predicting and converting to 1-D array\n",
    "y_predict = np.squeeze(model.predict(x_test))\n",
    "\n",
    "\n",
    "pd.DataFrame(\n",
    "    {'id': x_test_df.index,\n",
    "     'label':y_predict}).to_csv('sub_gru2_bi6.csv', index=False)"
   ]
  },
  {
   "cell_type": "markdown",
   "metadata": {
    "id": "cQ8XDY-2tNgA"
   },
   "source": [
    "* **The above model is the best that has been obtained in terms of train, validation and test accuracy.**"
   ]
  },
  {
   "cell_type": "markdown",
   "metadata": {
    "id": "U5WwuMx-Dcfw"
   },
   "source": [
    "# Questions:"
   ]
  },
  {
   "cell_type": "markdown",
   "metadata": {
    "id": "Wmm7gnONDeTR"
   },
   "source": [
    "## Ques 1: What is the main difference between GRU and LSTM?"
   ]
  },
  {
   "cell_type": "markdown",
   "metadata": {
    "id": "8ijMbbfchF2i"
   },
   "source": [
    "Ans: GRU and LSTM are similar to each other with respect to solving the long sequence memory problem . Both were created to solve the problem created by Recurrent neural network like vanishing gradient, exploding gradient. LSTM was created before GRU. \n",
    "* LSTM has two hidden memory states named as Long-term memory and Short-term memory.\n",
    "* GRU has two inputs: input state and memory state while LSTM has three inputs: input state, forget state and output state.\n",
    "* GRU has less number of gates as compared to LSTM which implies less training parameters and thus are more time efficient. "
   ]
  },
  {
   "cell_type": "markdown",
   "metadata": {
    "id": "hSr_uoQ0DiyJ"
   },
   "source": [
    "## Ques 2: What is the default model in the template? Is it a good one for sequential data? Why?"
   ]
  },
  {
   "cell_type": "markdown",
   "metadata": {
    "id": "xqlL3OhAkJ3K"
   },
   "source": [
    "Ans: The default model in the template is the fully connected neural network with embedding layer in the beginning. It is not a good model for the sequential data as it fails to incorporate the memory dependence. Also fully connected neural netowork are limited to fixed length. \n",
    "* In sequential data, every data entry is somehow related to the previous data entries. Recurrent neural network give a solution to such a problem because of a memory term associated with RNN and its other variants like GRU, LSTM etc."
   ]
  },
  {
   "cell_type": "markdown",
   "metadata": {
    "id": "3CiBN7h7Dnvv"
   },
   "source": [
    "## Ques 3: What is gradient vanishing and gradient explosion, and how GRU/LSTM tries to mitigate this problem?"
   ]
  },
  {
   "cell_type": "markdown",
   "metadata": {
    "id": "52vBZ35KljnU"
   },
   "source": [
    "Ans: **Gradient Vanishing:** In Vanilla recurrent neural network, the long one travel back the sequence, the gradient becomes smaller and smaller as described by chain rule. This results in learning the terms that are much near to the end of the sequence and thus the weight or importance of the previous terms becomes very less which makes it not a good model.\n",
    "\n",
    "**Gradient Explosion:** Gradient explosion is a problem in neural networks where the gradient keep increasing during back-propagation alongside the sequence as given by chain rule. As the gradient increases, the parameter that need to be changed gets very high value results in NaN (overflow error) and thus results in a unstable neural network for predictions.\n",
    "\n",
    "**GRU/LSTM:** Vanilla RNN are unable to capture the dependencies along the sequence and also resutls in vanishing and exploding gradient. To solve this problem, GRU/LSTM implements a method to properly capture the lon-term dependencies and memory of the sequences. \n",
    "* LSTM implements input, forget and output gates. The input gate regulates the amount of new information to be added to the model, the forget gate regulates how much of previous state information to be forget and the output gate regulate the information to be output for the next layer. \n",
    "\n",
    "* GRU is similar to LSTM but with two gates: reset gate and update gate. GRU has less parameters and are more time efficient."
   ]
  },
  {
   "cell_type": "markdown",
   "metadata": {
    "id": "6O_FY9JatmXB"
   },
   "source": [
    "# Downloading file"
   ]
  },
  {
   "cell_type": "code",
   "execution_count": null,
   "metadata": {
    "id": "IwUfyupstoAa"
   },
   "outputs": [],
   "source": [
    "!sudo apt-get install texlive-xetex"
   ]
  },
  {
   "cell_type": "code",
   "execution_count": null,
   "metadata": {
    "colab": {
     "base_uri": "https://localhost:8080/"
    },
    "id": "FFJ4Jd6etuaI",
    "outputId": "bbea8fc3-bf6b-43e5-c63e-d3d1414f100b"
   },
   "outputs": [
    {
     "name": "stdout",
     "output_type": "stream",
     "text": [
      "[NbConvertApp] Converting notebook CISC873_A3_Jagmeet.ipynb to pdf\n",
      "[NbConvertApp] Support files will be in CISC873_A3_Jagmeet_files/\n",
      "[NbConvertApp] Making directory ./CISC873_A3_Jagmeet_files\n",
      "[NbConvertApp] Making directory ./CISC873_A3_Jagmeet_files\n",
      "[NbConvertApp] Making directory ./CISC873_A3_Jagmeet_files\n",
      "[NbConvertApp] Making directory ./CISC873_A3_Jagmeet_files\n",
      "[NbConvertApp] Making directory ./CISC873_A3_Jagmeet_files\n",
      "[NbConvertApp] Making directory ./CISC873_A3_Jagmeet_files\n",
      "[NbConvertApp] Making directory ./CISC873_A3_Jagmeet_files\n",
      "[NbConvertApp] Making directory ./CISC873_A3_Jagmeet_files\n",
      "[NbConvertApp] Making directory ./CISC873_A3_Jagmeet_files\n",
      "[NbConvertApp] Making directory ./CISC873_A3_Jagmeet_files\n",
      "[NbConvertApp] Writing 116631 bytes to ./notebook.tex\n",
      "[NbConvertApp] Building PDF\n",
      "[NbConvertApp] Running xelatex 3 times: [u'xelatex', u'./notebook.tex', '-quiet']\n",
      "[NbConvertApp] Running bibtex 1 time: [u'bibtex', u'./notebook']\n",
      "[NbConvertApp] WARNING | bibtex had problems, most likely because there were no citations\n",
      "[NbConvertApp] PDF successfully created\n",
      "[NbConvertApp] Writing 219031 bytes to CISC873_A3_Jagmeet.pdf\n"
     ]
    }
   ],
   "source": [
    "!jupyter nbconvert --to pdf CISC873_A3_Jagmeet.ipynb"
   ]
  },
  {
   "cell_type": "code",
   "execution_count": null,
   "metadata": {
    "id": "GBPdZY9s4B80"
   },
   "outputs": [],
   "source": []
  }
 ],
 "metadata": {
  "colab": {
   "collapsed_sections": [],
   "name": "CISC873_A3_Jagmeet.ipynb",
   "provenance": []
  },
  "kernelspec": {
   "display_name": "Python 3",
   "language": "python",
   "name": "python3"
  },
  "language_info": {
   "codemirror_mode": {
    "name": "ipython",
    "version": 3
   },
   "file_extension": ".py",
   "mimetype": "text/x-python",
   "name": "python",
   "nbconvert_exporter": "python",
   "pygments_lexer": "ipython3",
   "version": "3.7.6"
  }
 },
 "nbformat": 4,
 "nbformat_minor": 1
}
