{
 "cells": [
  {
   "cell_type": "markdown",
   "metadata": {
    "id": "ZZEDaQk2d1iJ"
   },
   "source": [
    "# CISC873 - A1\n",
    "### Submitted by: **Jagmeet Singh** \n",
    "* Date: October 19, 2020\n",
    "\n",
    "**Data Description:**\n",
    "1. The data set contains the profile of two persons in an speed dating event. The data is in numeric and categorial format. The task is to predict whether it would be a match based on the data of two people. So the target variable is the 'match' and other columns are used as features. It is a binary classification problem with final result is the probability of match which lies in [0,1].\n",
    "2. The data set is unbalanced which means the training data-set has more data for one particular target value (0 in this case) and less data for 1 target value.\n",
    "3. There are lot of missing values which needs to be filled using different imputing methods.\n",
    "4. The metric used for evaluation is the ROC (Receiver operating characteristic\n",
    ") curve. More the area under the ROC curve, more good is our model.\n",
    "\n",
    "**Preprocesssing Techniques**\n",
    "1. Imputing: Filling the missing value with one of the defined method(constant, mean, median, mode etc.)\n",
    "2. One Hot Encoding: Converting columns with string value to categorical features.\n",
    "3. Standard Scalar: Making data with zero mean and scaling to unit variance.\n",
    "4. Removing columns with only one unique value.\n",
    "**Hyperparameter Tuning**\\\n",
    "The hyperparameters for different models and preprocessing techniques are calculated using hyperparameter search algorithms. A small description is given for all the hyperparameters in the comments. The algorithms use different hyperparameter configurations provided by user and return the best accuracy parameters.\\\n",
    "The algorithms used for hyparameter searching are : \n",
    "1. Grid Search\n",
    "2. Random Search\n",
    "3. Bayesian Optimization\n",
    "\n",
    "The runtime and performance for each method is also discussed.\\\n",
    "**Models Used**\n",
    "1. Support Vector Machine\n",
    "2. XGBOOST\n",
    "3. Random Forest\n",
    "4. Multilayer perceptron\n",
    "5. Logistic Regression\n",
    "\n",
    "SVM is used to compare different search methods time and performance.\\\n",
    "I used Random Search for all other methods.\\\n",
    " Different parameter space is used in all other methods to find the optimized value.\\\n",
    " **XGBOOST performs best in case of score at the Public Leaderboard**"
   ]
  },
  {
   "cell_type": "code",
   "execution_count": null,
   "metadata": {
    "id": "rt3kvr2XJQcw"
   },
   "outputs": [],
   "source": [
    "# if you haven't installed xgboost on your system, uncomment the line below\n",
    "!pip install xgboost\n",
    "# if you haven't installed bayesian-optimization on your system, uncomment the line below\n",
    "!pip install scikit-optimize"
   ]
  },
  {
   "cell_type": "code",
   "execution_count": null,
   "metadata": {
    "colab": {
     "base_uri": "https://localhost:8080/",
     "height": 34
    },
    "id": "jzD7GaUSdnhb",
    "outputId": "2ddc320a-6f10-4aec-ae0e-b904fa35a9ca"
   },
   "outputs": [
    {
     "name": "stdout",
     "output_type": "stream",
     "text": [
      "Mounted at /content/drive\n"
     ]
    }
   ],
   "source": [
    "#Mounting google drive to import data\n",
    "from google.colab import drive\n",
    "drive.mount('/content/drive')"
   ]
  },
  {
   "cell_type": "code",
   "execution_count": null,
   "metadata": {
    "id": "aOXAW807d6S1"
   },
   "outputs": [],
   "source": [
    "# Importing libraries\n",
    "import pandas as pd\n",
    "import seaborn as sns\n",
    "import numpy as np\n",
    "sns.set()  #Set aesthetic parameters in one step.\n",
    "import matplotlib.pyplot as plt\n",
    "%matplotlib inline\n",
    "from pprint import pprint\n",
    "\n",
    "from sklearn.metrics import roc_curve, auc\n",
    "\n",
    "#Data to pandas dataframe\n",
    "df_train = pd.read_csv('drive/My Drive/CISC873/A1/train.csv')\n",
    "df_test = pd.read_csv('drive/My Drive/CISC873/A1/test.csv')"
   ]
  },
  {
   "cell_type": "markdown",
   "metadata": {
    "id": "3lkBdiZ1ee2G"
   },
   "source": [
    "# Data Exploration"
   ]
  },
  {
   "cell_type": "code",
   "execution_count": null,
   "metadata": {
    "colab": {
     "base_uri": "https://localhost:8080/",
     "height": 118
    },
    "id": "xVjTbXcTeaRN",
    "outputId": "d4a0f9ab-46ed-4e25-c820-e837f394f7bc"
   },
   "outputs": [
    {
     "data": {
      "text/plain": [
       "Index(['gender', 'idg', 'condtn', 'wave', 'round', 'position', 'positin1',\n",
       "       'order', 'partner', 'pid',\n",
       "       ...\n",
       "       'sinc3_3', 'intel3_3', 'fun3_3', 'amb3_3', 'attr5_3', 'sinc5_3',\n",
       "       'intel5_3', 'fun5_3', 'amb5_3', 'id'],\n",
       "      dtype='object', length=192)"
      ]
     },
     "execution_count": 5,
     "metadata": {
      "tags": []
     },
     "output_type": "execute_result"
    }
   ],
   "source": [
    "#Checking columns and names\n",
    "df_train.columns"
   ]
  },
  {
   "cell_type": "code",
   "execution_count": null,
   "metadata": {
    "colab": {
     "base_uri": "https://localhost:8080/",
     "height": 84
    },
    "id": "Sy8Nsl75eiG3",
    "outputId": "dc1bfe97-9b82-440d-807c-e805a8ba5a7f"
   },
   "outputs": [
    {
     "name": "stdout",
     "output_type": "stream",
     "text": [
      "train columns\n",
      "192\n",
      "test columns\n",
      "191\n"
     ]
    }
   ],
   "source": [
    "#no. of columns\n",
    "print('train columns')\n",
    "print(len(df_train.columns))\n",
    "\n",
    "print('test columns')\n",
    "print(len(df_test.columns))"
   ]
  },
  {
   "cell_type": "code",
   "execution_count": null,
   "metadata": {
    "colab": {
     "base_uri": "https://localhost:8080/",
     "height": 50
    },
    "id": "WRDDz7sNensK",
    "outputId": "a10f4f5c-9f7e-4802-e4c1-336c00490d53"
   },
   "outputs": [
    {
     "name": "stdout",
     "output_type": "stream",
     "text": [
      "(5909, 192)\n",
      "(2469, 191)\n"
     ]
    }
   ],
   "source": [
    "#Data dimensions (rows, columns)\n",
    "print(df_train.shape)\n",
    "print(df_test.shape)"
   ]
  },
  {
   "cell_type": "code",
   "execution_count": null,
   "metadata": {
    "colab": {
     "base_uri": "https://localhost:8080/",
     "height": 218
    },
    "id": "zRrcVrAMevBp",
    "outputId": "3fbed018-4b93-45bf-d2de-85753535c7a8"
   },
   "outputs": [
    {
     "data": {
      "text/plain": [
       "gender        int64\n",
       "idg           int64\n",
       "condtn        int64\n",
       "wave          int64\n",
       "round         int64\n",
       "             ...   \n",
       "sinc5_3     float64\n",
       "intel5_3    float64\n",
       "fun5_3      float64\n",
       "amb5_3      float64\n",
       "id            int64\n",
       "Length: 192, dtype: object"
      ]
     },
     "execution_count": 8,
     "metadata": {
      "tags": []
     },
     "output_type": "execute_result"
    }
   ],
   "source": [
    "#Checking each column data type\n",
    "df_train.dtypes"
   ]
  },
  {
   "cell_type": "code",
   "execution_count": null,
   "metadata": {
    "colab": {
     "base_uri": "https://localhost:8080/",
     "height": 118
    },
    "id": "vJlbi_c7fIvr",
    "outputId": "a25c698e-2c63-41a7-ec10-31097f9bf75c"
   },
   "outputs": [
    {
     "data": {
      "text/plain": [
       "Index(['positin1', 'pid', 'int_corr', 'age_o', 'race_o', 'pf_o_att',\n",
       "       'pf_o_sin', 'pf_o_int', 'pf_o_fun', 'pf_o_amb',\n",
       "       ...\n",
       "       'attr3_3', 'sinc3_3', 'intel3_3', 'fun3_3', 'amb3_3', 'attr5_3',\n",
       "       'sinc5_3', 'intel5_3', 'fun5_3', 'amb5_3'],\n",
       "      dtype='object', length=181)"
      ]
     },
     "execution_count": 13,
     "metadata": {
      "tags": []
     },
     "output_type": "execute_result"
    }
   ],
   "source": [
    "#checking columns with NaN values\n",
    "df_train.columns[df_train.isnull().any()]"
   ]
  },
  {
   "cell_type": "code",
   "execution_count": null,
   "metadata": {
    "colab": {
     "base_uri": "https://localhost:8080/",
     "height": 218
    },
    "id": "vdGJdfhwfL2a",
    "outputId": "e2b4c6b5-5ed8-400a-ece7-e1f1d9eddc02"
   },
   "outputs": [
    {
     "data": {
      "text/plain": [
       "gender         0\n",
       "idg            0\n",
       "condtn         0\n",
       "wave           0\n",
       "round          0\n",
       "            ... \n",
       "sinc5_3     4496\n",
       "intel5_3    4496\n",
       "fun5_3      4496\n",
       "amb5_3      4496\n",
       "id             0\n",
       "Length: 192, dtype: int64"
      ]
     },
     "execution_count": 14,
     "metadata": {
      "tags": []
     },
     "output_type": "execute_result"
    }
   ],
   "source": [
    "#calculating total NaN values for each column\n",
    "df_train.isnull().sum()"
   ]
  },
  {
   "cell_type": "code",
   "execution_count": null,
   "metadata": {
    "colab": {
     "base_uri": "https://localhost:8080/",
     "height": 285
    },
    "id": "uWE6124kpBCI",
    "outputId": "2d46550c-2438-4d34-aa95-a858e6bb6e68"
   },
   "outputs": [
    {
     "data": {
      "text/plain": [
       "<matplotlib.axes._subplots.AxesSubplot at 0x7fd2e284c4a8>"
      ]
     },
     "execution_count": 17,
     "metadata": {
      "tags": []
     },
     "output_type": "execute_result"
    },
    {
     "data": {
      "image/png": "[encoded data removed]",
      "text/plain": [
       "<Figure size 432x288 with 1 Axes>"
      ]
     },
     "metadata": {
      "tags": []
     },
     "output_type": "display_data"
    }
   ],
   "source": [
    "#to check distribution of columns with NaN number\n",
    "#x: no of NaN values\n",
    "#y: no. of columns\n",
    "df_train.isnull().sum().hist()\n"
   ]
  },
  {
   "cell_type": "code",
   "execution_count": null,
   "metadata": {
    "colab": {
     "base_uri": "https://localhost:8080/",
     "height": 285
    },
    "id": "qxGzvqcCpdsk",
    "outputId": "35f32df6-42c9-4d4a-944b-39a8cfa79001"
   },
   "outputs": [
    {
     "data": {
      "text/plain": [
       "<matplotlib.axes._subplots.AxesSubplot at 0x7fd2e23099b0>"
      ]
     },
     "execution_count": 19,
     "metadata": {
      "tags": []
     },
     "output_type": "execute_result"
    },
    {
     "data": {
      "image/png": "[encoded data removed]",
      "text/plain": [
       "<Figure size 432x288 with 1 Axes>"
      ]
     },
     "metadata": {
      "tags": []
     },
     "output_type": "display_data"
    }
   ],
   "source": [
    "#distribution of match\n",
    "df_train['match'].hist"
   ]
  },
  {
   "cell_type": "code",
   "execution_count": null,
   "metadata": {
    "colab": {
     "base_uri": "https://localhost:8080/",
     "height": 34
    },
    "id": "FKXaGSUCp3JH",
    "outputId": "d3f3344e-2e89-4525-df59-e0e3a5c41662"
   },
   "outputs": [
    {
     "data": {
      "text/plain": [
       "2"
      ]
     },
     "execution_count": 20,
     "metadata": {
      "tags": []
     },
     "output_type": "execute_result"
    }
   ],
   "source": [
    "df_train['match'].nunique()"
   ]
  },
  {
   "cell_type": "code",
   "execution_count": null,
   "metadata": {
    "colab": {
     "base_uri": "https://localhost:8080/",
     "height": 34
    },
    "id": "xtnKLdv5SE9-",
    "outputId": "d31eeb5d-5b06-4ffa-9580-b45c0e3c6608"
   },
   "outputs": [
    {
     "data": {
      "text/plain": [
       "5909"
      ]
     },
     "execution_count": 15,
     "metadata": {
      "tags": []
     },
     "output_type": "execute_result"
    }
   ],
   "source": [
    "df_train['id'].nunique()"
   ]
  },
  {
   "cell_type": "code",
   "execution_count": null,
   "metadata": {
    "colab": {
     "base_uri": "https://localhost:8080/",
     "height": 67
    },
    "id": "-jraqYXwqkJd",
    "outputId": "584b8317-d331-4dc4-a326-d85eb2f9b3ba"
   },
   "outputs": [
    {
     "data": {
      "text/plain": [
       "0    4921\n",
       "1     988\n",
       "Name: match, dtype: int64"
      ]
     },
     "execution_count": 22,
     "metadata": {
      "tags": []
     },
     "output_type": "execute_result"
    }
   ],
   "source": [
    "#checking count of each value - unbalanced dataset\n",
    "df_train['match'].value_counts()"
   ]
  },
  {
   "cell_type": "markdown",
   "metadata": {
    "id": "_iCik-fvfTNW"
   },
   "source": [
    "# Data Preprocessing"
   ]
  },
  {
   "cell_type": "code",
   "execution_count": null,
   "metadata": {
    "id": "Rs7o6iyxfO19"
   },
   "outputs": [],
   "source": [
    "#features without match column \n",
    "X = df_train.drop('match', axis=1)\n",
    "\n",
    "#ylabel\n",
    "y = df_train['match']\n",
    "\n",
    "X_test = df_test.copy()\n",
    "\n"
   ]
  },
  {
   "cell_type": "code",
   "execution_count": null,
   "metadata": {
    "id": "DjX9y52yrGx3"
   },
   "outputs": [],
   "source": [
    "#from sklearn.model_selection import train_test_split\n",
    "\n",
    "#splitting the train data for train and validation data set\n",
    "#X_train, X_val, y_train, y_val = train_test_split(X, y,test_size=0.2)\n",
    "X_train = X\n",
    "y_train = y"
   ]
  },
  {
   "cell_type": "code",
   "execution_count": null,
   "metadata": {
    "colab": {
     "base_uri": "https://localhost:8080/",
     "height": 34
    },
    "id": "8HPfGqnJVW4K",
    "outputId": "89ae4334-76ed-45c9-f997-d7172076fbdf"
   },
   "outputs": [
    {
     "data": {
      "text/plain": [
       "(5909, 191)"
      ]
     },
     "execution_count": 11,
     "metadata": {
      "tags": []
     },
     "output_type": "execute_result"
    }
   ],
   "source": [
    "np.shape(X_train)"
   ]
  },
  {
   "cell_type": "code",
   "execution_count": null,
   "metadata": {
    "colab": {
     "base_uri": "https://localhost:8080/",
     "height": 34
    },
    "id": "QhSwzVxgSsbt",
    "outputId": "73909a26-9cce-49c8-f913-053ee3dfbba4"
   },
   "outputs": [
    {
     "data": {
      "text/plain": [
       "(2469, 191)"
      ]
     },
     "execution_count": 12,
     "metadata": {
      "tags": []
     },
     "output_type": "execute_result"
    }
   ],
   "source": [
    "np.shape(X_test)"
   ]
  },
  {
   "cell_type": "code",
   "execution_count": null,
   "metadata": {
    "id": "ozCt_FzOJ0Dq"
   },
   "outputs": [],
   "source": [
    "#importing libraries\n",
    "import numpy as np\n",
    "from sklearn.compose import ColumnTransformer\n",
    "from sklearn.datasets import fetch_openml\n",
    "from sklearn.pipeline import Pipeline\n",
    "from sklearn.impute import SimpleImputer\n",
    "from sklearn.preprocessing import StandardScaler, OneHotEncoder\n",
    "from sklearn.linear_model import LogisticRegression\n",
    "from sklearn.model_selection import train_test_split, GridSearchCV\n",
    "from xgboost.sklearn import XGBClassifier\n",
    "from sklearn.preprocessing import FunctionTransformer"
   ]
  },
  {
   "cell_type": "code",
   "execution_count": null,
   "metadata": {
    "id": "hwMVzsJLJ9JA"
   },
   "outputs": [],
   "source": [
    "#setting random seed for numpy pseudo-random number generator\n",
    "np.random.seed(0)"
   ]
  },
  {
   "cell_type": "code",
   "execution_count": null,
   "metadata": {
    "colab": {
     "base_uri": "https://localhost:8080/",
     "height": 70
    },
    "id": "Tb9Jc5D6qk9M",
    "outputId": "01b5afc1-b1d2-4a7b-fd5a-8b0153345503"
   },
   "outputs": [
    {
     "name": "stdout",
     "output_type": "stream",
     "text": [
      "['gender', 'idg', 'condtn', 'wave', 'round', 'position', 'positin1', 'order', 'partner', 'pid', 'int_corr', 'samerace', 'age_o', 'race_o', 'pf_o_att', 'pf_o_sin', 'pf_o_int', 'pf_o_fun', 'pf_o_amb', 'pf_o_sha', 'attr_o', 'sinc_o', 'intel_o', 'fun_o', 'amb_o', 'shar_o', 'like_o', 'prob_o', 'met_o', 'age', 'field_cd', 'race', 'imprace', 'imprelig', 'goal', 'date', 'go_out', 'career_c', 'sports', 'tvsports', 'exercise', 'dining', 'museums', 'art', 'hiking', 'gaming', 'clubbing', 'reading', 'tv', 'theater', 'movies', 'concerts', 'music', 'shopping', 'yoga', 'exphappy', 'expnum', 'attr1_1', 'sinc1_1', 'intel1_1', 'fun1_1', 'amb1_1', 'shar1_1', 'attr4_1', 'sinc4_1', 'intel4_1', 'fun4_1', 'amb4_1', 'shar4_1', 'attr2_1', 'sinc2_1', 'intel2_1', 'fun2_1', 'amb2_1', 'shar2_1', 'attr3_1', 'sinc3_1', 'fun3_1', 'intel3_1', 'amb3_1', 'attr5_1', 'sinc5_1', 'intel5_1', 'fun5_1', 'amb5_1', 'attr', 'sinc', 'intel', 'fun', 'amb', 'shar', 'like', 'prob', 'met', 'match_es', 'attr1_s', 'sinc1_s', 'intel1_s', 'fun1_s', 'amb1_s', 'shar1_s', 'attr3_s', 'sinc3_s', 'intel3_s', 'fun3_s', 'amb3_s', 'satis_2', 'length', 'numdat_2', 'attr7_2', 'sinc7_2', 'intel7_2', 'fun7_2', 'amb7_2', 'shar7_2', 'attr1_2', 'sinc1_2', 'intel1_2', 'fun1_2', 'amb1_2', 'shar1_2', 'attr4_2', 'sinc4_2', 'intel4_2', 'fun4_2', 'amb4_2', 'shar4_2', 'attr2_2', 'sinc2_2', 'intel2_2', 'fun2_2', 'amb2_2', 'shar2_2', 'attr3_2', 'sinc3_2', 'intel3_2', 'fun3_2', 'amb3_2', 'attr5_2', 'sinc5_2', 'intel5_2', 'fun5_2', 'amb5_2', 'you_call', 'them_cal', 'date_3', 'numdat_3', 'num_in_3', 'attr1_3', 'sinc1_3', 'intel1_3', 'fun1_3', 'amb1_3', 'shar1_3', 'attr7_3', 'sinc7_3', 'intel7_3', 'fun7_3', 'amb7_3', 'shar7_3', 'attr4_3', 'sinc4_3', 'intel4_3', 'fun4_3', 'amb4_3', 'shar4_3', 'attr2_3', 'sinc2_3', 'intel2_3', 'fun2_3', 'amb2_3', 'shar2_3', 'attr3_3', 'sinc3_3', 'intel3_3', 'fun3_3', 'amb3_3', 'attr5_3', 'sinc5_3', 'intel5_3', 'fun5_3', 'amb5_3', 'id']\n",
      "['field', 'undergra', 'mn_sat', 'tuition', 'from', 'zipcode', 'income', 'career']\n"
     ]
    }
   ],
   "source": [
    "#making list of features with numeric values\n",
    "features_numeric = list(X_train.select_dtypes(include=['float64','int64']))\n",
    "print(features_numeric)\n",
    "#making list of features without numeric values\n",
    "features_categorical = list(X_train.select_dtypes(include=['object']))\n",
    "print(features_categorical)"
   ]
  },
  {
   "cell_type": "code",
   "execution_count": null,
   "metadata": {
    "colab": {
     "base_uri": "https://localhost:8080/",
     "height": 34
    },
    "id": "i3QO7oCtjh4Q",
    "outputId": "c970659a-1841-4a79-b1e5-a0df62bf3b25"
   },
   "outputs": [
    {
     "data": {
      "text/plain": [
       "(5909, 192)"
      ]
     },
     "execution_count": 16,
     "metadata": {
      "tags": []
     },
     "output_type": "execute_result"
    }
   ],
   "source": [
    "#checking the shape of data set with all the numeric features\n",
    "np.shape(df_train.select_dtypes(include=['float64','object','int64']))"
   ]
  },
  {
   "cell_type": "code",
   "execution_count": null,
   "metadata": {
    "colab": {
     "base_uri": "https://localhost:8080/",
     "height": 54
    },
    "id": "XzXZ9MwuhrMB",
    "outputId": "d419bae6-7514-4d55-b3ee-32853494d00f"
   },
   "outputs": [
    {
     "data": {
      "text/plain": [
       "{int64: ['gender', 'idg', 'condtn', 'wave', 'round', 'position', 'order', 'partner', 'match', 'samerace', 'id'], float64: ['positin1', 'pid', 'int_corr', 'age_o', 'race_o', 'pf_o_att', 'pf_o_sin', 'pf_o_int', 'pf_o_fun', 'pf_o_amb', 'pf_o_sha', 'attr_o', 'sinc_o', 'intel_o', 'fun_o', 'amb_o', 'shar_o', 'like_o', 'prob_o', 'met_o', 'age', 'field_cd', 'race', 'imprace', 'imprelig', 'goal', 'date', 'go_out', 'career_c', 'sports', 'tvsports', 'exercise', 'dining', 'museums', 'art', 'hiking', 'gaming', 'clubbing', 'reading', 'tv', 'theater', 'movies', 'concerts', 'music', 'shopping', 'yoga', 'exphappy', 'expnum', 'attr1_1', 'sinc1_1', 'intel1_1', 'fun1_1', 'amb1_1', 'shar1_1', 'attr4_1', 'sinc4_1', 'intel4_1', 'fun4_1', 'amb4_1', 'shar4_1', 'attr2_1', 'sinc2_1', 'intel2_1', 'fun2_1', 'amb2_1', 'shar2_1', 'attr3_1', 'sinc3_1', 'fun3_1', 'intel3_1', 'amb3_1', 'attr5_1', 'sinc5_1', 'intel5_1', 'fun5_1', 'amb5_1', 'attr', 'sinc', 'intel', 'fun', 'amb', 'shar', 'like', 'prob', 'met', 'match_es', 'attr1_s', 'sinc1_s', 'intel1_s', 'fun1_s', 'amb1_s', 'shar1_s', 'attr3_s', 'sinc3_s', 'intel3_s', 'fun3_s', 'amb3_s', 'satis_2', 'length', 'numdat_2', ...], object: ['field', 'undergra', 'mn_sat', 'tuition', 'from', 'zipcode', 'income', 'career']}"
      ]
     },
     "execution_count": 17,
     "metadata": {
      "tags": []
     },
     "output_type": "execute_result"
    }
   ],
   "source": [
    "#viewing all the columns by their data type\n",
    "df_train.columns.to_series().groupby(df_train.dtypes).groups"
   ]
  },
  {
   "cell_type": "code",
   "execution_count": null,
   "metadata": {
    "colab": {
     "base_uri": "https://localhost:8080/",
     "height": 285
    },
    "id": "1OdgRV2ni1pr",
    "outputId": "266435de-cda4-4bd2-df37-c40f81e34440"
   },
   "outputs": [
    {
     "data": {
      "text/plain": [
       "<matplotlib.axes._subplots.AxesSubplot at 0x7f78439aa588>"
      ]
     },
     "execution_count": 18,
     "metadata": {
      "tags": []
     },
     "output_type": "execute_result"
    },
    {
     "data": {
      "image/png": "[encoded data removed]",
      "text/plain": [
       "<Figure size 432x288 with 1 Axes>"
      ]
     },
     "metadata": {
      "tags": []
     },
     "output_type": "display_data"
    }
   ],
   "source": [
    "#distribution of 'wave' feture column\n",
    "df_train['wave'].hist()"
   ]
  },
  {
   "cell_type": "code",
   "execution_count": null,
   "metadata": {
    "id": "CYtigJF1hFwh"
   },
   "outputs": [],
   "source": [
    "#id is unique to every user so not a feature\n",
    "#method to delete 'id' column\n",
    "def drop_id(X):\n",
    "    return X.drop(columns=['id'])\n"
   ]
  },
  {
   "cell_type": "code",
   "execution_count": null,
   "metadata": {
    "id": "VkzId_5mKA_2"
   },
   "outputs": [],
   "source": [
    "#making a pipeline for features\n",
    "\n",
    "#for numeric features, filling values with the median of the column\n",
    "#standard scalar-> transfrom to unit variance\n",
    "transformer_numeric = Pipeline(\n",
    "    steps=[\n",
    "            ('drp',FunctionTransformer(drop_id)),\n",
    "        ('imputer', SimpleImputer(strategy='median')),\n",
    "        ('scaler', StandardScaler())]\n",
    ")"
   ]
  },
  {
   "cell_type": "code",
   "execution_count": null,
   "metadata": {
    "id": "_0si5ZtcLDiN"
   },
   "outputs": [],
   "source": [
    "#pipeline for categorial features\n",
    "#'imputer'-> filling missing values with 'missing' string\n",
    "#'onehot'-> Encode categorical features as a one-hot numeric array\n",
    "transformer_categorical = Pipeline(\n",
    "    steps=[\n",
    "        ('imputer', SimpleImputer(strategy='constant', fill_value='missing')),\n",
    "        ('onehot', OneHotEncoder(handle_unknown='ignore'))\n",
    "    ]\n",
    ")"
   ]
  },
  {
   "cell_type": "code",
   "execution_count": null,
   "metadata": {
    "id": "05N-IHv4LjtG"
   },
   "outputs": [],
   "source": [
    "#defining the process which defines to which columns the transformation\n",
    "#need to be applied\n",
    "#transformer_numeric -> numeric features and transformer_categorical -> features_categorical\n",
    "\n",
    "preprocessor = ColumnTransformer(\n",
    "    transformers=[         \n",
    "        ('num', transformer_numeric, features_numeric),\n",
    "        ('cat', transformer_categorical, features_categorical)\n",
    "    ]\n",
    ")\n"
   ]
  },
  {
   "cell_type": "markdown",
   "metadata": {
    "id": "6JMHY_NHb4x8"
   },
   "source": [
    "# Models"
   ]
  },
  {
   "cell_type": "markdown",
   "metadata": {
    "id": "eI73ddWES8mU"
   },
   "source": [
    "## Model 1: SVM"
   ]
  },
  {
   "cell_type": "code",
   "execution_count": null,
   "metadata": {
    "id": "bU1mC1MxP-gq"
   },
   "outputs": [],
   "source": [
    "#Support Vector Machine\n",
    "from sklearn import svm"
   ]
  },
  {
   "cell_type": "markdown",
   "metadata": {
    "id": "fJWk359prta_"
   },
   "source": [
    "* Comparing performance by keeping the param grid same for each method"
   ]
  },
  {
   "cell_type": "code",
   "execution_count": null,
   "metadata": {
    "id": "_pnb1Ga2QyVH"
   },
   "outputs": [],
   "source": [
    "#defining the full pipeline which includes \n",
    "# 1.) preprocessing on columns\n",
    "# 2.) defining the classifier for the problem\n",
    "\n",
    "full_pipline = Pipeline(\n",
    "    steps=[\n",
    "        ('preprocessor', preprocessor),\n",
    "        ('my_classifier', svm.SVC(probability=True))\n",
    "    ]\n",
    ")"
   ]
  },
  {
   "cell_type": "code",
   "execution_count": null,
   "metadata": {
    "id": "j-dQhHqkRK7C"
   },
   "outputs": [],
   "source": [
    "#Defining the parameters need to be varied\n",
    "param_grid = {\n",
    "    'preprocessor__num__imputer__strategy': ['median','mean'],\n",
    "   # 'my_classifier__kernel': ['poly', 'rbf'],   #kernel type to be used in the algorithm\n",
    "    'my_classifier__C': [ 0.1,0.5,2],                   #Regularization parameter(l2)\n",
    "  #  'my_classifier__gamma': [ 0.001],           #Kernel coefficient for ‘rbf’, ‘poly’\n",
    "    'my_classifier__probability':[True]         #To enable probability\n",
    "}\n",
    "\n"
   ]
  },
  {
   "cell_type": "markdown",
   "metadata": {
    "id": "iou0aEOb2ixa"
   },
   "source": [
    "#### Grid Search"
   ]
  },
  {
   "cell_type": "code",
   "execution_count": null,
   "metadata": {
    "colab": {
     "base_uri": "https://localhost:8080/",
     "height": 101
    },
    "id": "-abF2gmL2fn_",
    "outputId": "c20de964-443d-437b-be8e-25f7d135a787"
   },
   "outputs": [
    {
     "name": "stdout",
     "output_type": "stream",
     "text": [
      "Fitting 2 folds for each of 6 candidates, totalling 12 fits\n"
     ]
    },
    {
     "name": "stderr",
     "output_type": "stream",
     "text": [
      "[Parallel(n_jobs=2)]: Using backend LokyBackend with 2 concurrent workers.\n",
      "[Parallel(n_jobs=2)]: Done  12 out of  12 | elapsed:  2.3min finished\n"
     ]
    },
    {
     "name": "stdout",
     "output_type": "stream",
     "text": [
      "best score 0.8386032817659714\n",
      "best score {'my_classifier__C': 0.1, 'my_classifier__probability': True, 'preprocessor__num__imputer__strategy': 'mean'}\n"
     ]
    }
   ],
   "source": [
    "#Grid search with full pipeline, parameter grid, cross validation generator, \n",
    "#cv : Determines the cross-validation splitting strategy\n",
    "grid_search = GridSearchCV(\n",
    "    full_pipline, param_grid, cv=2, verbose=3, n_jobs=2, \n",
    "    scoring='roc_auc')\n",
    "\n",
    "grid_search.fit(X_train, y_train)\n",
    "\n",
    "print('best score {}'.format(grid_search.best_score_))\n",
    "print('best score {}'.format(grid_search.best_params_))"
   ]
  },
  {
   "cell_type": "code",
   "execution_count": null,
   "metadata": {
    "id": "tgnDZ-TucVNK"
   },
   "outputs": [],
   "source": [
    "# prepare submission:\n",
    "submission = pd.DataFrame()\n",
    "submission['id'] = df_test['id']\n",
    "submission['match'] = grid_search.predict_proba(df_test)[:,1]\n",
    "submission.to_csv('svm_grid.csv', index=False)\n",
    "#submission"
   ]
  },
  {
   "cell_type": "markdown",
   "metadata": {
    "id": "6lzp18jo2nkE"
   },
   "source": [
    "#### Randomized Search"
   ]
  },
  {
   "cell_type": "code",
   "execution_count": null,
   "metadata": {
    "colab": {
     "base_uri": "https://localhost:8080/",
     "height": 154
    },
    "id": "XmDodg-OBBgC",
    "outputId": "eb421afe-9fbc-45d4-c8fa-d93e1d356a8a"
   },
   "outputs": [
    {
     "name": "stderr",
     "output_type": "stream",
     "text": [
      "/usr/local/lib/python3.6/dist-packages/sklearn/model_selection/_search.py:281: UserWarning: The total space of parameters 6 is smaller than n_iter=10. Running 6 iterations. For exhaustive searches, use GridSearchCV.\n",
      "  % (grid_size, self.n_iter, grid_size), UserWarning)\n",
      "[Parallel(n_jobs=2)]: Using backend LokyBackend with 2 concurrent workers.\n"
     ]
    },
    {
     "name": "stdout",
     "output_type": "stream",
     "text": [
      "Fitting 2 folds for each of 6 candidates, totalling 12 fits\n"
     ]
    },
    {
     "name": "stderr",
     "output_type": "stream",
     "text": [
      "[Parallel(n_jobs=2)]: Done  12 out of  12 | elapsed:  2.2min finished\n"
     ]
    },
    {
     "name": "stdout",
     "output_type": "stream",
     "text": [
      "best score 0.8386032817659714\n",
      "best score {'preprocessor__num__imputer__strategy': 'mean', 'my_classifier__probability': True, 'my_classifier__C': 0.1}\n"
     ]
    }
   ],
   "source": [
    "#Random Search\n",
    "#Randomized Search for hyperparameters\n",
    "from sklearn.model_selection import RandomizedSearchCV\n",
    "clf = RandomizedSearchCV(full_pipline, param_grid, cv=2, verbose=3, n_jobs=2, \n",
    "    scoring='roc_auc')\n",
    "clf.fit(X_train, y_train)\n",
    "\n",
    "\n",
    "print('best score {}'.format(clf.best_score_))\n",
    "print('best score {}'.format(clf.best_params_))"
   ]
  },
  {
   "cell_type": "code",
   "execution_count": null,
   "metadata": {
    "colab": {
     "base_uri": "https://localhost:8080/",
     "height": 70
    },
    "id": "DJjkub7KBKPW",
    "outputId": "4b40a1d9-3c52-4d6a-f230-bf1708de44d0"
   },
   "outputs": [
    {
     "name": "stderr",
     "output_type": "stream",
     "text": [
      "/usr/local/lib/python3.6/dist-packages/sklearn/compose/_column_transformer.py:430: FutureWarning: Given feature/column names or counts do not match the ones for the data given during fit. This will fail from v0.24.\n",
      "  FutureWarning)\n"
     ]
    }
   ],
   "source": [
    "# prepare submission:\n",
    "submission = pd.DataFrame()\n",
    "submission['id'] = df_test['id']\n",
    "submission['match'] = grid_search.predict_proba(df_test)[:,1]\n",
    "submission.to_csv('svm_rand.csv', index=False)\n",
    "#submission"
   ]
  },
  {
   "cell_type": "markdown",
   "metadata": {
    "id": "ReAxpEcY3yWl"
   },
   "source": [
    "#### Bayesian Optimization"
   ]
  },
  {
   "cell_type": "code",
   "execution_count": null,
   "metadata": {
    "id": "RoS2jwCFo3gp"
   },
   "outputs": [],
   "source": [
    "from sklearn.svm import SVC"
   ]
  },
  {
   "cell_type": "code",
   "execution_count": null,
   "metadata": {
    "id": "rVwC8il8_ZJS"
   },
   "outputs": [],
   "source": [
    "from skopt import BayesSearchCV\n",
    "from skopt.space import Real, Categorical, Integer\n",
    "\n",
    "\n",
    "SVC_pipline = Pipeline(\n",
    "    steps=[\n",
    "        ('preprocessor', preprocessor),\n",
    "        ('my_svc', SVC())\n",
    "    ]\n",
    ")\n",
    "# SVC has a class_weight attribute for unbalanced data"
   ]
  },
  {
   "cell_type": "code",
   "execution_count": null,
   "metadata": {
    "colab": {
     "base_uri": "https://localhost:8080/",
     "height": 507
    },
    "id": "ZriZdHsK_d_A",
    "outputId": "4a65cfd5-5c30-4528-a507-06f614c05ce4"
   },
   "outputs": [
    {
     "name": "stdout",
     "output_type": "stream",
     "text": [
      "Fitting 5 folds for each of 1 candidates, totalling 5 fits\n"
     ]
    },
    {
     "name": "stderr",
     "output_type": "stream",
     "text": [
      "[Parallel(n_jobs=2)]: Using backend LokyBackend with 2 concurrent workers.\n",
      "[Parallel(n_jobs=2)]: Done   5 out of   5 | elapsed:  2.3min finished\n",
      "[Parallel(n_jobs=2)]: Using backend LokyBackend with 2 concurrent workers.\n"
     ]
    },
    {
     "name": "stdout",
     "output_type": "stream",
     "text": [
      "Fitting 5 folds for each of 1 candidates, totalling 5 fits\n"
     ]
    },
    {
     "name": "stderr",
     "output_type": "stream",
     "text": [
      "[Parallel(n_jobs=2)]: Done   5 out of   5 | elapsed:  2.3min finished\n"
     ]
    },
    {
     "data": {
      "text/plain": [
       "BayesSearchCV(cv=None, error_score='raise',\n",
       "              estimator=Pipeline(memory=None,\n",
       "                                 steps=[('preprocessor',\n",
       "                                         ColumnTransformer(n_jobs=None,\n",
       "                                                           remainder='drop',\n",
       "                                                           sparse_threshold=0.3,\n",
       "                                                           transformer_weights=None,\n",
       "                                                           transformers=[('num',\n",
       "                                                                          Pipeline(memory=None,\n",
       "                                                                                   steps=[('drp',\n",
       "                                                                                           FunctionTransformer(accept_sparse=False,\n",
       "                                                                                                               check_inverse=True,\n",
       "                                                                                                               func=<function drop_id at 0x7f80e235c730>,\n",
       "                                                                                                               inv_kw_...\n",
       "              fit_params=None, iid=True, n_iter=2, n_jobs=2, n_points=1,\n",
       "              optimizer_kwargs=None, pre_dispatch='2*n_jobs', random_state=0,\n",
       "              refit=True, return_train_score=False, scoring=None,\n",
       "              search_spaces={'my_svc__C': Real(low=10.0, high=100.0, prior='log-uniform', transform='identity'),\n",
       "                             'my_svc__probability': [True],\n",
       "                             'preprocessor__num__imputer__strategy': ['median',\n",
       "                                                                      'mean']},\n",
       "              verbose=1)"
      ]
     },
     "execution_count": 32,
     "metadata": {
      "tags": []
     },
     "output_type": "execute_result"
    }
   ],
   "source": [
    "# define ranges for bayes search\n",
    "bayes_search = BayesSearchCV(\n",
    "    SVC_pipline,\n",
    "    {\n",
    "        'preprocessor__num__imputer__strategy': ['median','mean'],\n",
    "        'my_svc__C': Real(1e+1,1e+2, prior='log-uniform'),\n",
    "       # 'my_svc__gamma': Real(1e-6,1e+1, prior='log-uniform'),\n",
    "        #'my_svc__degree': Integer(1,8),\n",
    "        #'my_svc__kernel': Categorical(['linear', 'poly', 'rbf']),\n",
    "        'my_svc__probability':[True]\n",
    "    },\n",
    "    n_iter=2,   #Number of parameter settings that are sampled\n",
    "    random_state=0,\n",
    "    verbose=1,n_jobs=2\n",
    ")\n",
    "\n",
    "bayes_search.fit(X_train, y_train)"
   ]
  },
  {
   "cell_type": "code",
   "execution_count": null,
   "metadata": {
    "colab": {
     "base_uri": "https://localhost:8080/",
     "height": 50
    },
    "id": "sj9hB0x0ALGj",
    "outputId": "21bd3a16-867f-49f8-a1db-0e0f613a079b"
   },
   "outputs": [
    {
     "name": "stdout",
     "output_type": "stream",
     "text": [
      "best score 0.8426129632763582\n",
      "best score OrderedDict([('my_svc__C', 18.12890870724612), ('my_svc__probability', True), ('preprocessor__num__imputer__strategy', 'median')])\n"
     ]
    }
   ],
   "source": [
    "print('best score {}'.format(bayes_search.best_score_))\n",
    "print('best score {}'.format(bayes_search.best_params_))"
   ]
  },
  {
   "cell_type": "code",
   "execution_count": null,
   "metadata": {
    "colab": {
     "base_uri": "https://localhost:8080/",
     "height": 70
    },
    "id": "MK2FbHYbkQN0",
    "outputId": "42b7e26e-02e7-443b-8344-0e140b559204"
   },
   "outputs": [
    {
     "name": "stderr",
     "output_type": "stream",
     "text": [
      "/usr/local/lib/python3.6/dist-packages/sklearn/compose/_column_transformer.py:430: FutureWarning: Given feature/column names or counts do not match the ones for the data given during fit. This will fail from v0.24.\n",
      "  FutureWarning)\n"
     ]
    }
   ],
   "source": [
    "# prepare submission:\n",
    "submission = pd.DataFrame()\n",
    "submission['id'] = df_test['id']\n",
    "submission['match'] = bayes_search.predict_proba(df_test)[:,1]\n",
    "submission.to_csv('svm_bayes.csv', index=False)\n",
    "#submission"
   ]
  },
  {
   "cell_type": "markdown",
   "metadata": {
    "id": "CRe5azVT2sp1"
   },
   "source": [
    "#### Comparing different methods"
   ]
  },
  {
   "cell_type": "code",
   "execution_count": null,
   "metadata": {
    "colab": {
     "base_uri": "https://localhost:8080/",
     "height": 303
    },
    "id": "y5tvtvrHBTDo",
    "outputId": "7f086661-fa40-4517-e4e1-365e7e40a270"
   },
   "outputs": [
    {
     "data": {
      "text/plain": [
       "Text(0, 0.5, 'Time (min)')"
      ]
     },
     "execution_count": 25,
     "metadata": {
      "tags": []
     },
     "output_type": "execute_result"
    },
    {
     "data": {
      "image/png": "[encoded data removed]",
      "text/plain": [
       "<Figure size 432x288 with 1 Axes>"
      ]
     },
     "metadata": {
      "tags": []
     },
     "output_type": "display_data"
    }
   ],
   "source": [
    "#Comparing runtime for each search method\n",
    "method = ['Grid_Search','Random','Bayesian']\n",
    "time = [2.3,2.2,2.3]\n",
    "sns.barplot(x = method, y = time)\n",
    "plt.xlabel(\"Search Method\")\n",
    "plt.ylabel(\"Time (min)\")"
   ]
  },
  {
   "cell_type": "code",
   "execution_count": null,
   "metadata": {
    "colab": {
     "base_uri": "https://localhost:8080/",
     "height": 303
    },
    "id": "3seEo9f1Ctse",
    "outputId": "0e8adc74-67db-405d-e265-f4d5db815f1b"
   },
   "outputs": [
    {
     "data": {
      "text/plain": [
       "Text(0, 0.5, 'Performance (AUC-ROC)')"
      ]
     },
     "execution_count": 24,
     "metadata": {
      "tags": []
     },
     "output_type": "execute_result"
    },
    {
     "data": {
      "image/png": "[encoded data removed]",
      "text/plain": [
       "<Figure size 432x288 with 1 Axes>"
      ]
     },
     "metadata": {
      "tags": []
     },
     "output_type": "display_data"
    }
   ],
   "source": [
    "#Comparing performance for each search method\n",
    "method = ['Grid_Search','Random','Bayesian']\n",
    "per = [0.839,0.839,0.843]\n",
    "sns.barplot(x = method, y = per)\n",
    "plt.xlabel(\"Search Method\")\n",
    "plt.ylabel(\"Performance (AUC-ROC)\")"
   ]
  },
  {
   "cell_type": "markdown",
   "metadata": {
    "id": "-LgL-4pm0tZ4"
   },
   "source": [
    "**Random Search took the least time**\\\n",
    "**Bayesian Search method performs best among the other methods but overall the performance is quite similar for all the methods. It may be different while using more parameters setting.**"
   ]
  },
  {
   "cell_type": "markdown",
   "metadata": {
    "id": "DGNT4xQLTBLI"
   },
   "source": [
    "## Model 2: XGBOOST"
   ]
  },
  {
   "cell_type": "code",
   "execution_count": null,
   "metadata": {
    "id": "UKKjwKbQYsyV"
   },
   "outputs": [],
   "source": [
    "#defining the full pipeline which includes \n",
    "# 1.) preprocessing on columns\n",
    "# 2.) defining the classifier for the problem\n",
    "full_pipline = Pipeline(\n",
    "    steps=[\n",
    "        ('preprocessor', preprocessor),\n",
    "        ('my_classifier', XGBClassifier(\n",
    "            objective='binary:logistic', seed=1))\n",
    "    ]\n",
    ")"
   ]
  },
  {
   "cell_type": "markdown",
   "metadata": {
    "id": "hvi0I72r4gYr"
   },
   "source": [
    "**Tuning number of estimators, max depth and imputer strategy in the first parameter grid.**"
   ]
  },
  {
   "cell_type": "code",
   "execution_count": null,
   "metadata": {
    "id": "XsGDUxf4MQkG"
   },
   "outputs": [],
   "source": [
    "#parameter grid #1\n",
    "# `__` denotes attribute \n",
    "# (e.g. my_classifier__n_estimators means the `n_estimators` param for `my_classifier`\n",
    "#  which is our xgb)\n",
    "param_grid = {\n",
    "    'preprocessor__num__imputer__strategy': ['mean','median'],\n",
    "    'my_classifier__n_estimators': [ 170, 150, 200,250],       #Number of boosting rounds\n",
    "    'my_classifier__max_depth':[10,14,18,20],                  #Maximum tree depth for base learners\n",
    "}\n",
    "\n"
   ]
  },
  {
   "cell_type": "markdown",
   "metadata": {
    "id": "KJa2lP3RloLd"
   },
   "source": [
    "#### Random Search"
   ]
  },
  {
   "cell_type": "code",
   "execution_count": null,
   "metadata": {
    "colab": {
     "base_uri": "https://localhost:8080/",
     "height": 101
    },
    "id": "W26tpWQqlcvo",
    "outputId": "8f43a27c-1859-4445-ae11-ade9820fe9f2"
   },
   "outputs": [
    {
     "name": "stdout",
     "output_type": "stream",
     "text": [
      "Fitting 2 folds for each of 10 candidates, totalling 20 fits\n"
     ]
    },
    {
     "name": "stderr",
     "output_type": "stream",
     "text": [
      "[Parallel(n_jobs=2)]: Using backend LokyBackend with 2 concurrent workers.\n",
      "[Parallel(n_jobs=2)]: Done  20 out of  20 | elapsed:  2.9min finished\n"
     ]
    },
    {
     "name": "stdout",
     "output_type": "stream",
     "text": [
      "best score 0.8712739141388719\n",
      "best score {'preprocessor__num__imputer__strategy': 'median', 'my_classifier__n_estimators': 170, 'my_classifier__max_depth': 14}\n"
     ]
    }
   ],
   "source": [
    "#Randomized Search for hyperparameters\n",
    "from sklearn.model_selection import RandomizedSearchCV\n",
    "clf = RandomizedSearchCV(full_pipline, param_grid, cv=2, verbose=3, n_jobs=2, \n",
    "    scoring='roc_auc')\n",
    "clf.fit(X_train, y_train)\n",
    "\n",
    "\n",
    "print('best score {}'.format(clf.best_score_))\n",
    "print('best score {}'.format(clf.best_params_))"
   ]
  },
  {
   "cell_type": "markdown",
   "metadata": {
    "id": "pVgNF7bj5Cpv"
   },
   "source": [
    "**After getting estimated value for imputer, estimators and max depth, other parameters are tuned for better performance.**\\\n",
    "**The regularization parameters and class weight are tuned in the second hyperparameter setting. Number of estimators are also changed to get better accuracy on the test data.**"
   ]
  },
  {
   "cell_type": "code",
   "execution_count": null,
   "metadata": {
    "id": "Tkfo_E7tADFf"
   },
   "outputs": [],
   "source": [
    "#parameter grid #2\n",
    "# `__` denotes attribute \n",
    "# (e.g. my_classifier__n_estimators means the `n_estimators` param for `my_classifier`\n",
    "#  which is our xgb)\n",
    "param_grid = {\n",
    "    'preprocessor__num__imputer__strategy': ['median'],\n",
    "    'my_classifier__n_estimators': [199,200],       #Number of boosting rounds\n",
    "    'my_classifier__max_depth':[14],                #Maximum tree depth for base learners\n",
    "    'my_classifier__random_state':[2020],           #random luck\n",
    "    'my_classifier__reg_lambda':[0.2,0.18,0.22],    #L2 regularization term on weights\n",
    "    'my_classifier__scale_pos_weight':[0.22,0.24,0.23] #Balancing of positive and negative weights\n",
    "}\n"
   ]
  },
  {
   "cell_type": "code",
   "execution_count": null,
   "metadata": {
    "colab": {
     "base_uri": "https://localhost:8080/",
     "height": 121
    },
    "id": "-vyFFcIvAUNw",
    "outputId": "f2922ff2-fbf3-4f6a-eda9-9d491b46aa16"
   },
   "outputs": [
    {
     "name": "stdout",
     "output_type": "stream",
     "text": [
      "Fitting 2 folds for each of 10 candidates, totalling 20 fits\n"
     ]
    },
    {
     "name": "stderr",
     "output_type": "stream",
     "text": [
      "[Parallel(n_jobs=2)]: Using backend LokyBackend with 2 concurrent workers.\n",
      "[Parallel(n_jobs=2)]: Done  20 out of  20 | elapsed:  2.9min finished\n"
     ]
    },
    {
     "name": "stdout",
     "output_type": "stream",
     "text": [
      "best score 0.8720474758926793\n",
      "best score {'preprocessor__num__imputer__strategy': 'median', 'my_classifier__scale_pos_weight': 0.23, 'my_classifier__reg_lambda': 0.2, 'my_classifier__random_state': 2020, 'my_classifier__n_estimators': 200, 'my_classifier__max_depth': 14}\n"
     ]
    }
   ],
   "source": [
    "#Randomized Search for hyperparameters\n",
    "from sklearn.model_selection import RandomizedSearchCV\n",
    "clf = RandomizedSearchCV(full_pipline, param_grid, cv=2, verbose=3, n_jobs=2, \n",
    "    scoring='roc_auc')\n",
    "clf.fit(X_train, y_train)\n",
    "\n",
    "\n",
    "print('best score {}'.format(clf.best_score_))\n",
    "print('best score {}'.format(clf.best_params_))"
   ]
  },
  {
   "cell_type": "code",
   "execution_count": null,
   "metadata": {
    "id": "ciPNSNQEEFu_"
   },
   "outputs": [],
   "source": [
    "# prepare submission:\n",
    "submission = pd.DataFrame()\n",
    "submission['id'] = df_test['id']\n",
    "submission['match'] = clf.predict_proba(df_test)[:,1]\n",
    "submission.to_csv('xgboost_ran_199.csv', index=False)"
   ]
  },
  {
   "cell_type": "markdown",
   "metadata": {
    "id": "oo0aP6LsEcFv"
   },
   "source": [
    "**XGBOOST perfoms well after second hyperparameter grid tuning. The score is higher on Public Leaderboard (0.89). This may be I have over optimized the model according to the test data set.**"
   ]
  },
  {
   "cell_type": "markdown",
   "metadata": {
    "id": "rUvydSWETGE1"
   },
   "source": [
    "## Model 3: Random Forest"
   ]
  },
  {
   "cell_type": "code",
   "execution_count": null,
   "metadata": {
    "id": "GoQBzqmgCI9F"
   },
   "outputs": [],
   "source": [
    "from sklearn.ensemble import RandomForestClassifier"
   ]
  },
  {
   "cell_type": "code",
   "execution_count": null,
   "metadata": {
    "id": "eARN5AAsKhSH"
   },
   "outputs": [],
   "source": [
    "#defining the full pipeline which includes \n",
    "# 1.) preprocessing on columns\n",
    "# 2.) defining the classifier for the problem\n",
    "full_pipline = Pipeline(\n",
    "    steps=[\n",
    "        ('preprocessor', preprocessor),\n",
    "        ('my_classifier', RandomForestClassifier())\n",
    "    ]\n",
    ")"
   ]
  },
  {
   "cell_type": "markdown",
   "metadata": {
    "id": "Zuc60QlgFQPd"
   },
   "source": [
    "**For first hyperparameters, imputer strategy and number of estimators are tuned.**"
   ]
  },
  {
   "cell_type": "code",
   "execution_count": null,
   "metadata": {
    "id": "VXgr50NBK0oK"
   },
   "outputs": [],
   "source": [
    "#Parameter Grid #1\n",
    "# `__` denotes attribute \n",
    "# (e.g. my_classifier__n_estimators means the `n_estimators` param for `my_classifier`)\n",
    "param_grid = {\n",
    "    'preprocessor__num__imputer__strategy': ['mean','median'],\n",
    "    'my_classifier__n_estimators': [150, 200,250],   #The number of trees in the forest\n",
    "\n",
    "}\n",
    "\n"
   ]
  },
  {
   "cell_type": "markdown",
   "metadata": {
    "id": "3tMwART5l4QT"
   },
   "source": [
    "#### Random Search"
   ]
  },
  {
   "cell_type": "code",
   "execution_count": null,
   "metadata": {
    "colab": {
     "base_uri": "https://localhost:8080/",
     "height": 154
    },
    "id": "A7yPnFMYO3uS",
    "outputId": "25781f92-78ab-485c-e3d5-1456954afccd"
   },
   "outputs": [
    {
     "name": "stdout",
     "output_type": "stream",
     "text": [
      "Fitting 5 folds for each of 6 candidates, totalling 30 fits\n"
     ]
    },
    {
     "name": "stderr",
     "output_type": "stream",
     "text": [
      "/usr/local/lib/python3.6/dist-packages/sklearn/model_selection/_search.py:281: UserWarning: The total space of parameters 6 is smaller than n_iter=10. Running 6 iterations. For exhaustive searches, use GridSearchCV.\n",
      "  % (grid_size, self.n_iter, grid_size), UserWarning)\n",
      "[Parallel(n_jobs=2)]: Using backend LokyBackend with 2 concurrent workers.\n",
      "[Parallel(n_jobs=2)]: Done  30 out of  30 | elapsed:  3.3min finished\n"
     ]
    },
    {
     "name": "stdout",
     "output_type": "stream",
     "text": [
      "best score 0.8361703146188436\n",
      "best score {'preprocessor__num__imputer__strategy': 'median', 'my_classifier__n_estimators': 250}\n"
     ]
    }
   ],
   "source": [
    "#Randomized Search for hyperparameters\n",
    "from sklearn.model_selection import RandomizedSearchCV\n",
    "clf = RandomizedSearchCV(full_pipline, param_grid, cv=5, verbose=3, n_jobs=2, \n",
    "    scoring='roc_auc')\n",
    "clf.fit(X_train, y_train)\n",
    "\n",
    "\n",
    "print('best score {}'.format(clf.best_score_))\n",
    "print('best score {}'.format(clf.best_params_))"
   ]
  },
  {
   "cell_type": "code",
   "execution_count": null,
   "metadata": {
    "id": "bz5SwnRUK-Mx"
   },
   "outputs": [],
   "source": [
    "# prepare submission:\n",
    "submission = pd.DataFrame()\n",
    "submission['id'] = df_test['id']\n",
    "submission['match'] = grid_search.predict_proba(df_test)[:,1]\n",
    "submission.to_csv('RF_ran_hp_1.csv', index=False)\n",
    "#submission"
   ]
  },
  {
   "cell_type": "markdown",
   "metadata": {
    "id": "Er3uyQHjGKV6"
   },
   "source": [
    "**After tuning the above hyperparameters, max_depth, bootstrap and class weight is tuned.**"
   ]
  },
  {
   "cell_type": "code",
   "execution_count": null,
   "metadata": {
    "id": "2QSjTaCaE2LV"
   },
   "outputs": [],
   "source": [
    "#Parameter Grid #2\n",
    "# `__` denotes attribute \n",
    "# (e.g. my_classifier__n_estimators means the `n_estimators` param for `my_classifier`)\n",
    "param_grid = {\n",
    "    'preprocessor__num__imputer__strategy': ['median'],\n",
    "    'my_classifier__n_estimators': [250],        #The number of trees in the forest\n",
    "    'my_classifier__max_depth':[10, 15, 20],              #The maximum depth of the tree\n",
    "    'my_classifier__bootstrap':[True, False],              #Whether bootstrap samples are used when building trees\n",
    "    'my_classifier__class_weight':[{1:0.3},{1:0.5},{1:0.1}] #Balancing of positive and negative weights\n",
    "}\n"
   ]
  },
  {
   "cell_type": "code",
   "execution_count": null,
   "metadata": {
    "colab": {
     "base_uri": "https://localhost:8080/",
     "height": 138
    },
    "id": "rbYMT4roE9J6",
    "outputId": "feb4ea3a-d5e7-423a-a5cf-9a660da96845"
   },
   "outputs": [
    {
     "name": "stdout",
     "output_type": "stream",
     "text": [
      "Fitting 5 folds for each of 10 candidates, totalling 50 fits\n"
     ]
    },
    {
     "name": "stderr",
     "output_type": "stream",
     "text": [
      "[Parallel(n_jobs=2)]: Using backend LokyBackend with 2 concurrent workers.\n",
      "[Parallel(n_jobs=2)]: Done  28 tasks      | elapsed:  2.0min\n",
      "[Parallel(n_jobs=2)]: Done  50 out of  50 | elapsed:  3.5min finished\n"
     ]
    },
    {
     "name": "stdout",
     "output_type": "stream",
     "text": [
      "best score 0.8445789815390011\n",
      "best score {'preprocessor__num__imputer__strategy': 'median', 'my_classifier__n_estimators': 250, 'my_classifier__max_depth': 10, 'my_classifier__class_weight': {1: 0.5}, 'my_classifier__bootstrap': False}\n"
     ]
    }
   ],
   "source": [
    "#Randomized Search for hyperparameters\n",
    "from sklearn.model_selection import RandomizedSearchCV\n",
    "clf = RandomizedSearchCV(full_pipline, param_grid, cv=5, verbose=3, n_jobs=2, \n",
    "    scoring='roc_auc')\n",
    "clf.fit(X_train, y_train)\n",
    "\n",
    "\n",
    "print('best score {}'.format(clf.best_score_))  #To print best score\n",
    "print('best score {}'.format(clf.best_params_)) #To print parameter for best score"
   ]
  },
  {
   "cell_type": "code",
   "execution_count": null,
   "metadata": {
    "id": "6GwFymSgPJ-M"
   },
   "outputs": [],
   "source": [
    "# prepare submission:\n",
    "submission = pd.DataFrame()\n",
    "submission['id'] = df_test['id']\n",
    "submission['match'] = grid_search.predict_proba(df_test)[:,1]\n",
    "submission.to_csv('RF_ran_hp_2.csv', index=False)\n",
    "#submission"
   ]
  },
  {
   "cell_type": "markdown",
   "metadata": {
    "id": "2kJLZMAJKv7Y"
   },
   "source": [
    "**The score increased after tuning the other parameters as expected**"
   ]
  },
  {
   "cell_type": "markdown",
   "metadata": {
    "id": "e51wBK_8TSwD"
   },
   "source": [
    "## Model4: Multi Layer Perceptron"
   ]
  },
  {
   "cell_type": "code",
   "execution_count": null,
   "metadata": {
    "id": "_CahOnLTDpt2"
   },
   "outputs": [],
   "source": [
    "#MLP Classifier\n",
    "from sklearn.neural_network import MLPClassifier"
   ]
  },
  {
   "cell_type": "code",
   "execution_count": null,
   "metadata": {
    "id": "dMFZumAQH3lq"
   },
   "outputs": [],
   "source": [
    "#defining the full pipeline which includes \n",
    "# 1.) preprocessing on columns\n",
    "# 2.) defining the classifier for the problem\n",
    "\n",
    "full_pipline = Pipeline(\n",
    "    steps=[\n",
    "        ('preprocessor', preprocessor),\n",
    "        ('my_classifier', MLPClassifier())\n",
    "    ]\n",
    ")"
   ]
  },
  {
   "cell_type": "markdown",
   "metadata": {
    "id": "OtLo62x0LFKh"
   },
   "source": [
    "**Tuning imputer and number of hidden layers for first parameter fitting**"
   ]
  },
  {
   "cell_type": "code",
   "execution_count": null,
   "metadata": {
    "id": "wPe6KTuBH-Ny"
   },
   "outputs": [],
   "source": [
    "#Hyperparameter space #1\n",
    "#Defining the parameters need to be varied\n",
    "param_grid = {\n",
    "    'preprocessor__num__imputer__strategy': ['mean','median','mode'],  #imputer strategy\n",
    "    'my_classifier__hidden_layer_sizes': [450,500,600],         #number of neurons in the hidden layer\n",
    "}\n",
    "\n"
   ]
  },
  {
   "cell_type": "markdown",
   "metadata": {
    "id": "pVhFaPQSmD4v"
   },
   "source": [
    "#### Random Search"
   ]
  },
  {
   "cell_type": "code",
   "execution_count": null,
   "metadata": {
    "colab": {
     "base_uri": "https://localhost:8080/",
     "height": 154
    },
    "id": "-0Tof4T1RCl9",
    "outputId": "3fb46e89-2ab9-4a0e-e936-526acf597569"
   },
   "outputs": [
    {
     "name": "stdout",
     "output_type": "stream",
     "text": [
      "Fitting 2 folds for each of 9 candidates, totalling 18 fits\n"
     ]
    },
    {
     "name": "stderr",
     "output_type": "stream",
     "text": [
      "/usr/local/lib/python3.6/dist-packages/sklearn/model_selection/_search.py:281: UserWarning: The total space of parameters 9 is smaller than n_iter=10. Running 9 iterations. For exhaustive searches, use GridSearchCV.\n",
      "  % (grid_size, self.n_iter, grid_size), UserWarning)\n",
      "[Parallel(n_jobs=2)]: Using backend LokyBackend with 2 concurrent workers.\n",
      "[Parallel(n_jobs=2)]: Done  18 out of  18 | elapsed: 13.8min finished\n"
     ]
    },
    {
     "name": "stdout",
     "output_type": "stream",
     "text": [
      "best score 0.8322372119176531\n",
      "best score {'preprocessor__num__imputer__strategy': 'mean', 'my_classifier__hidden_layer_sizes': 600}\n"
     ]
    }
   ],
   "source": [
    "#Random Search\n",
    "#Randomized Search for hyperparameters\n",
    "from sklearn.model_selection import RandomizedSearchCV\n",
    "clf = RandomizedSearchCV(full_pipline, param_grid, cv=2, verbose=3, n_jobs=2, \n",
    "    scoring='roc_auc')\n",
    "clf.fit(X_train, y_train)\n",
    "\n",
    "\n",
    "print('best score {}'.format(clf.best_score_))\n",
    "print('best score {}'.format(clf.best_params_))"
   ]
  },
  {
   "cell_type": "code",
   "execution_count": null,
   "metadata": {
    "id": "BxI4eVfAYtrU"
   },
   "outputs": [],
   "source": [
    "# prepare submission:\n",
    "submission = pd.DataFrame()\n",
    "submission['id'] = df_test['id']\n",
    "submission['match'] = grid_search.predict_proba(df_test)[:,1]\n",
    "submission.to_csv('mlp_rand_hp_1.csv', index=False)\n",
    "#submission"
   ]
  },
  {
   "cell_type": "markdown",
   "metadata": {
    "id": "QizH4F_BLpBq"
   },
   "source": [
    "**Tuning activation, solver, max_iter for second hyperparameter tuning**"
   ]
  },
  {
   "cell_type": "code",
   "execution_count": null,
   "metadata": {
    "id": "Y4aQfGWGLRhM"
   },
   "outputs": [],
   "source": [
    "#Hyperparameter space #2\n",
    "#Defining the parameters need to be varied\n",
    "param_grid = {\n",
    "    'preprocessor__num__imputer__strategy': ['mean'],\n",
    "    'my_classifier__hidden_layer_sizes': [600],         #number of neurons in the hidden layer\n",
    "    'my_classifier__activation':['logistic', 'tanh', 'relu'],   #Activation function for the hidden layer\n",
    "    'my_classifier__solver': ['adam','sgd'],                    #The solver for weight optimization\n",
    "    'my_classifier__max_iter':[5000,10000],                     #Maximum number of iterations\n",
    "    'my_classifier__early_stopping':[True]                      #Whether to use early stopping if model not improving\n",
    "}"
   ]
  },
  {
   "cell_type": "code",
   "execution_count": null,
   "metadata": {
    "colab": {
     "base_uri": "https://localhost:8080/",
     "height": 121
    },
    "id": "1R04o40uLVe7",
    "outputId": "68d99a94-2f12-40ae-ac23-131da0acdbe0"
   },
   "outputs": [
    {
     "name": "stdout",
     "output_type": "stream",
     "text": [
      "Fitting 2 folds for each of 10 candidates, totalling 20 fits\n"
     ]
    },
    {
     "name": "stderr",
     "output_type": "stream",
     "text": [
      "[Parallel(n_jobs=2)]: Using backend LokyBackend with 2 concurrent workers.\n",
      "[Parallel(n_jobs=2)]: Done  20 out of  20 | elapsed:  4.6min finished\n"
     ]
    },
    {
     "name": "stdout",
     "output_type": "stream",
     "text": [
      "best score 0.8398947276536384\n",
      "best score {'preprocessor__num__imputer__strategy': 'mean', 'my_classifier__solver': 'adam', 'my_classifier__max_iter': 5000, 'my_classifier__hidden_layer_sizes': 450, 'my_classifier__early_stopping': True, 'my_classifier__activation': 'tanh'}\n"
     ]
    }
   ],
   "source": [
    "#Random Search\n",
    "#Randomized Search for hyperparameters\n",
    "from sklearn.model_selection import RandomizedSearchCV\n",
    "clf = RandomizedSearchCV(full_pipline, param_grid, cv=2, verbose=3, n_jobs=2, \n",
    "    scoring='roc_auc')\n",
    "clf.fit(X_train, y_train)\n",
    "\n",
    "\n",
    "print('best score {}'.format(clf.best_score_))\n",
    "print('best score {}'.format(clf.best_params_))"
   ]
  },
  {
   "cell_type": "code",
   "execution_count": null,
   "metadata": {
    "id": "kgB1Jz7ALXZQ"
   },
   "outputs": [],
   "source": [
    "# prepare submission:\n",
    "submission = pd.DataFrame()\n",
    "submission['id'] = df_test['id']\n",
    "submission['match'] = grid_search.predict_proba(df_test)[:,1]\n",
    "submission.to_csv('mlp_rand_hp_2.csv', index=False)\n",
    "#submission"
   ]
  },
  {
   "cell_type": "markdown",
   "metadata": {
    "id": "mzuPHR1xnl-L"
   },
   "source": [
    "**The metric score increased with more tuning as expected**"
   ]
  },
  {
   "cell_type": "markdown",
   "metadata": {
    "id": "TxsRfgVmU1cz"
   },
   "source": [
    "# Model 5: Logistic Regression"
   ]
  },
  {
   "cell_type": "code",
   "execution_count": null,
   "metadata": {
    "id": "Jwd_qdldU6X3"
   },
   "outputs": [],
   "source": [
    "#Logistic Regression from Scikit\n",
    "from sklearn.linear_model import LogisticRegression"
   ]
  },
  {
   "cell_type": "code",
   "execution_count": null,
   "metadata": {
    "id": "RRL1SfW4VAAQ"
   },
   "outputs": [],
   "source": [
    "#defining the full pipeline which includes \n",
    "# 1.) preprocessing on columns\n",
    "# 2.) defining the classifier for the problem\n",
    "\n",
    "full_pipline = Pipeline(\n",
    "    steps=[\n",
    "        ('preprocessor', preprocessor),\n",
    "        ('my_classifier', LogisticRegression())\n",
    "    ]\n",
    ")"
   ]
  },
  {
   "cell_type": "markdown",
   "metadata": {
    "id": "8OFz5B9cP2R5"
   },
   "source": [
    "**Tuning imputer strategy and solver for first hyperparameter space**"
   ]
  },
  {
   "cell_type": "code",
   "execution_count": null,
   "metadata": {
    "id": "CLtjCXI0VSBN"
   },
   "outputs": [],
   "source": [
    "#Defining the parameters need to be varied\n",
    "param_grid = {\n",
    "    'preprocessor__num__imputer__strategy': ['mean', 'median','mode'],\n",
    "    'my_classifier__solver': ['newton-cg','saga'],       #Algorithm to use in the optimization \n",
    "}\n"
   ]
  },
  {
   "cell_type": "markdown",
   "metadata": {
    "id": "U8qXTWG5mN0t"
   },
   "source": [
    "#### Random Search"
   ]
  },
  {
   "cell_type": "code",
   "execution_count": null,
   "metadata": {
    "colab": {
     "base_uri": "https://localhost:8080/",
     "height": 188
    },
    "id": "AZFr362WZOHS",
    "outputId": "5299fc8c-3c9c-45c7-f117-a0535bdb51b5"
   },
   "outputs": [
    {
     "name": "stderr",
     "output_type": "stream",
     "text": [
      "/usr/local/lib/python3.6/dist-packages/sklearn/model_selection/_search.py:281: UserWarning: The total space of parameters 6 is smaller than n_iter=10. Running 6 iterations. For exhaustive searches, use GridSearchCV.\n",
      "  % (grid_size, self.n_iter, grid_size), UserWarning)\n",
      "[Parallel(n_jobs=2)]: Using backend LokyBackend with 2 concurrent workers.\n"
     ]
    },
    {
     "name": "stdout",
     "output_type": "stream",
     "text": [
      "Fitting 3 folds for each of 6 candidates, totalling 18 fits\n"
     ]
    },
    {
     "name": "stderr",
     "output_type": "stream",
     "text": [
      "[Parallel(n_jobs=2)]: Done  18 out of  18 | elapsed:   12.3s finished\n"
     ]
    },
    {
     "name": "stdout",
     "output_type": "stream",
     "text": [
      "best score 0.8497289611796512\n",
      "best score {'preprocessor__num__imputer__strategy': 'median', 'my_classifier__solver': 'saga'}\n"
     ]
    },
    {
     "name": "stderr",
     "output_type": "stream",
     "text": [
      "/usr/local/lib/python3.6/dist-packages/sklearn/linear_model/_sag.py:330: ConvergenceWarning: The max_iter was reached which means the coef_ did not converge\n",
      "  \"the coef_ did not converge\", ConvergenceWarning)\n"
     ]
    }
   ],
   "source": [
    "#Random Search\n",
    "#Randomized Search for hyperparameters\n",
    "from sklearn.model_selection import RandomizedSearchCV\n",
    "clf = RandomizedSearchCV(full_pipline, param_grid, cv=3, verbose=3, n_jobs=2, \n",
    "    scoring='roc_auc')\n",
    "clf.fit(X_train, y_train)\n",
    "\n",
    "\n",
    "print('best score {}'.format(clf.best_score_))\n",
    "print('best score {}'.format(clf.best_params_))"
   ]
  },
  {
   "cell_type": "code",
   "execution_count": null,
   "metadata": {
    "colab": {
     "base_uri": "https://localhost:8080/",
     "height": 70
    },
    "id": "XlgYeD8XZYPH",
    "outputId": "1d5c5505-0692-42e4-a57d-598f53e815c3"
   },
   "outputs": [
    {
     "name": "stderr",
     "output_type": "stream",
     "text": [
      "/usr/local/lib/python3.6/dist-packages/sklearn/compose/_column_transformer.py:430: FutureWarning: Given feature/column names or counts do not match the ones for the data given during fit. This will fail from v0.24.\n",
      "  FutureWarning)\n"
     ]
    }
   ],
   "source": [
    "# prepare submission:\n",
    "submission = pd.DataFrame()\n",
    "submission['id'] = df_test['id']\n",
    "submission['match'] = grid_search.predict_proba(df_test)[:,1]\n",
    "submission.to_csv('lr_rand_hp_1.csv', index=False)\n",
    "#submission"
   ]
  },
  {
   "cell_type": "markdown",
   "metadata": {
    "id": "jyasBjL3P-K5"
   },
   "source": [
    "**Tuning penality, max_iter and class_weight for second hyperparameter space**"
   ]
  },
  {
   "cell_type": "code",
   "execution_count": null,
   "metadata": {
    "id": "9a_2gXkCPbq0"
   },
   "outputs": [],
   "source": [
    "#Defining the parameters need to be varied\n",
    "param_grid = {\n",
    "    'preprocessor__num__imputer__strategy': ['median'],\n",
    "    'my_classifier__penalty': ['l1','l2'],               #Used to specify the norm used in the penalization\n",
    "    'my_classifier__solver': ['saga'],       #Algorithm to use in the optimization problem\n",
    "    'my_classifier__class_weight': [0.3,0.2],            #Weights associated with classes (good for unbalanced data)\n",
    "    'my_classifier__max_iter':[2000, 2500]               #Maximum number of iterations taken for the solvers to converge\n",
    "}\n"
   ]
  },
  {
   "cell_type": "code",
   "execution_count": null,
   "metadata": {
    "colab": {
     "background_save": true,
     "base_uri": "https://localhost:8080/",
     "height": 104
    },
    "id": "dohTx6X4PdaQ",
    "outputId": "ea4d04f6-ec85-4b29-c121-8d7c2bbac00b"
   },
   "outputs": [
    {
     "name": "stderr",
     "output_type": "stream",
     "text": [
      "/usr/local/lib/python3.6/dist-packages/sklearn/model_selection/_search.py:281: UserWarning: The total space of parameters 8 is smaller than n_iter=10. Running 8 iterations. For exhaustive searches, use GridSearchCV.\n",
      "  % (grid_size, self.n_iter, grid_size), UserWarning)\n",
      "[Parallel(n_jobs=2)]: Using backend LokyBackend with 2 concurrent workers.\n"
     ]
    },
    {
     "name": "stdout",
     "output_type": "stream",
     "text": [
      "Fitting 5 folds for each of 8 candidates, totalling 40 fits\n"
     ]
    },
    {
     "name": "stderr",
     "output_type": "stream",
     "text": [
      "[Parallel(n_jobs=2)]: Done  28 tasks      | elapsed: 11.6min\n",
      "[Parallel(n_jobs=2)]: Done  40 out of  40 | elapsed: 16.2min finished\n"
     ]
    },
    {
     "name": "stdout",
     "output_type": "stream",
     "text": [
      "best score 0.8596991802564624\n",
      "best score {'preprocessor__num__imputer__strategy': 'median', 'my_classifier__solver': 'saga', 'my_classifier__penalty': 'l1', 'my_classifier__max_iter': 2500, 'my_classifier__class_weight': 0.2}\n"
     ]
    },
    {
     "name": "stderr",
     "output_type": "stream",
     "text": [
      "/usr/local/lib/python3.6/dist-packages/sklearn/linear_model/_sag.py:330: ConvergenceWarning: The max_iter was reached which means the coef_ did not converge\n",
      "  \"the coef_ did not converge\", ConvergenceWarning)\n"
     ]
    }
   ],
   "source": [
    "#Random Search\n",
    "#Randomized Search for hyperparameters\n",
    "from sklearn.model_selection import RandomizedSearchCV\n",
    "clf = RandomizedSearchCV(full_pipline, param_grid, cv=5, verbose=3, n_jobs=2, \n",
    "    scoring='roc_auc')\n",
    "clf.fit(X_train, y_train)\n",
    "\n",
    "\n",
    "print('best score {}'.format(clf.best_score_))\n",
    "print('best score {}'.format(clf.best_params_))"
   ]
  },
  {
   "cell_type": "code",
   "execution_count": null,
   "metadata": {
    "id": "C54OORldPfGp"
   },
   "outputs": [],
   "source": [
    "# prepare submission:\n",
    "submission = pd.DataFrame()\n",
    "submission['id'] = df_test['id']\n",
    "submission['match'] = grid_search.predict_proba(df_test)[:,1]\n",
    "submission.to_csv('lr_rand_hp_2.csv', index=False)\n",
    "#submission"
   ]
  },
  {
   "cell_type": "markdown",
   "metadata": {
    "id": "ZYkgZ92IoZ6E"
   },
   "source": [
    "**The metric score increased with more tuning as expected**"
   ]
  },
  {
   "cell_type": "markdown",
   "metadata": {
    "id": "jeGW_9pdZWA4"
   },
   "source": [
    "# Questions:"
   ]
  },
  {
   "cell_type": "markdown",
   "metadata": {
    "id": "Ed_NiS0FZcc0"
   },
   "source": [
    "### Why a simple linear regression model (without any activation function) is not good for classification task, compared to Perceptron/Logistic regression?"
   ]
  },
  {
   "cell_type": "markdown",
   "metadata": {
    "id": "3-6u65T30Kai"
   },
   "source": [
    "Ans: The simple linear regression model fails to incorporate the non-linearlity among the features. On the other hand, the perceptron/logistic regression models incorporates the features non-linear behaviour. In logistic regression, the activation function is the sigmoid function."
   ]
  },
  {
   "cell_type": "markdown",
   "metadata": {
    "id": "U6aaIBpdZfDB"
   },
   "source": [
    "### What's a decision tree and how it is different to a logistic regression model?"
   ]
  },
  {
   "cell_type": "markdown",
   "metadata": {
    "id": "ibjYwAFK1PLy"
   },
   "source": [
    "Ans: \n",
    "* Decision tree is an algorithm to predict/classify the data. A decision tree consists of the nodes and each node has branches. Each node represents a feature. The tree starts with the root node and the root node has a feature which contribute most to classify the events. The criteria for branches, cut-off, no. of layers is determined by an algorithm which trains over the data to minimize/maximize the corresponding metric. Thus decision tree divides the space (spanned by features) into small regions.\n",
    "* Logistic regression fits one line/plane to the data which sometimes fails to fit data with non-linear separatibility."
   ]
  },
  {
   "cell_type": "markdown",
   "metadata": {
    "id": "WMkeM-O1ZiVZ"
   },
   "source": [
    "### We discussed three variants of decision tree in our lecture, what are their differences?"
   ]
  },
  {
   "cell_type": "markdown",
   "metadata": {
    "id": "w5rF-QQCACtU"
   },
   "source": [
    "Ans: In Decision Tree, we can introduce Pre-pruning, Early stopping and post-pruning for efficiently use them.\n",
    "* In Pre-pruning, the tree growth is hindered when there is no statistically significant association between any attribute and the class at a particular node.\n",
    "* In post-pruning, the tree is bult fully and after that, some tree are pruned/raised using possible strategies.\n",
    "* In Early-Stopping, the tree growth is stopped when there is no significant increase in the metric score."
   ]
  },
  {
   "cell_type": "markdown",
   "metadata": {
    "id": "yUm6fvwHZmBQ"
   },
   "source": [
    "### What is the difference between the random forest model, and a bagging ensemble of CART models?"
   ]
  },
  {
   "cell_type": "markdown",
   "metadata": {
    "id": "6qNK8SWb88J8"
   },
   "source": [
    "Ans: Ensemble method is a way to combine the results from multiple weak learners to get the final result/prediction.\n",
    "* In bagging ensemble, the subsets of data-sets are obtained with replacement. Then the CART model is trained on each subset dataset. Fo a new(test) dataset, the final prediction is the average of all the CART models. The number of subsets equals the number of trees.\n",
    "* Random Forest is an improvement over Bagging. Decision Tree are greedy algorithm and even with bagging, there are lot of correlations between models. In random forest, for each classifiers the number of features are selected randomly at each split point which makes all the weak lerners less correlated.  "
   ]
  },
  {
   "cell_type": "markdown",
   "metadata": {
    "id": "UnQmLo_qZonE"
   },
   "source": [
    "### What is the difference between bagging and boosting?\n"
   ]
  },
  {
   "cell_type": "markdown",
   "metadata": {
    "id": "N6u4n9nPXOOf"
   },
   "source": [
    "Ans: In an ensemble method, multiple small models (learners) are used to get the final prediction of the data. It is also called learning from weak classifiers. \n",
    "* In bagging, the new classifiers are trained using a random selection of new data sets from the main training data set. \n",
    "* Whereas, in boosting, the new classifiers are trained using a weighted small data sets from the original data. \n",
    "* So in case of boosting, some data is trained more by small learners and in bagging all the data has equal probability of being trained by the weak classifiers."
   ]
  },
  {
   "cell_type": "markdown",
   "metadata": {
    "id": "R89mWtX_ZtBq"
   },
   "source": [
    "### How can we use linear models to solve non-linear problem? (two approaches)"
   ]
  },
  {
   "cell_type": "markdown",
   "metadata": {
    "id": "mLlFJWBI30uY"
   },
   "source": [
    "* Approach 1: (Feature Mapping) One way to to incorporate non-linearity is to make new feature columns by using the already existing features. This can be done by generating a feature which multiplies two features like f1*f1, taking n power of the feature and applying some other functions to the existing features to generate new features. Other kernal functions can be used like Polynomial, Sigmoid, Radial Basis etc. \n",
    "\n",
    "* Approach 2: An another approach would be using multi perceptron model. One perceptron divides the space in one linear hyperplane. Two perceptrons divides the plane in two hyperplanes and thus multilayer perceptron can be used to incorporate non-linearity in the data.\n"
   ]
  },
  {
   "cell_type": "markdown",
   "metadata": {
    "id": "f1ThWvwCQpMD"
   },
   "source": [
    "#Downloading PDF"
   ]
  },
  {
   "cell_type": "code",
   "execution_count": null,
   "metadata": {
    "id": "lt_HzrJvZajq"
   },
   "outputs": [],
   "source": [
    "!sudo apt-get install texlive-xetex\n"
   ]
  },
  {
   "cell_type": "code",
   "execution_count": null,
   "metadata": {
    "colab": {
     "base_uri": "https://localhost:8080/",
     "height": 34
    },
    "id": "ABzvIn2A9eT2",
    "outputId": "db04a754-d7d0-4cbe-9428-07b02382810f"
   },
   "outputs": [
    {
     "name": "stdout",
     "output_type": "stream",
     "text": [
      "CISC873_A1_Jagmeet.ipynb  drive  sample_data\n"
     ]
    }
   ],
   "source": [
    "!ls"
   ]
  },
  {
   "cell_type": "code",
   "execution_count": null,
   "metadata": {
    "colab": {
     "base_uri": "https://localhost:8080/",
     "height": 252
    },
    "id": "SW1ExDn76IrG",
    "outputId": "2e8cf257-fa51-498b-9289-1b95b5303bc4"
   },
   "outputs": [
    {
     "name": "stdout",
     "output_type": "stream",
     "text": [
      "[NbConvertApp] Converting notebook CISC873_A1_Jagmeet.ipynb to pdf\n",
      "[NbConvertApp] Support files will be in CISC873_A1_Jagmeet_files/\n",
      "[NbConvertApp] Making directory ./CISC873_A1_Jagmeet_files\n",
      "[NbConvertApp] Making directory ./CISC873_A1_Jagmeet_files\n",
      "[NbConvertApp] Making directory ./CISC873_A1_Jagmeet_files\n",
      "[NbConvertApp] Making directory ./CISC873_A1_Jagmeet_files\n",
      "[NbConvertApp] Making directory ./CISC873_A1_Jagmeet_files\n",
      "[NbConvertApp] Writing 109683 bytes to ./notebook.tex\n",
      "[NbConvertApp] Building PDF\n",
      "[NbConvertApp] Running xelatex 3 times: [u'xelatex', u'./notebook.tex', '-quiet']\n",
      "[NbConvertApp] Running bibtex 1 time: [u'bibtex', u'./notebook']\n",
      "[NbConvertApp] WARNING | bibtex had problems, most likely because there were no citations\n",
      "[NbConvertApp] PDF successfully created\n",
      "[NbConvertApp] Writing 121914 bytes to CISC873_A1_Jagmeet.pdf\n"
     ]
    }
   ],
   "source": [
    "!jupyter nbconvert --to pdf CISC873_A1_Jagmeet.ipynb"
   ]
  },
  {
   "cell_type": "code",
   "execution_count": null,
   "metadata": {
    "id": "-zQRfxPZ6n6n"
   },
   "outputs": [],
   "source": []
  },
  {
   "cell_type": "code",
   "execution_count": null,
   "metadata": {},
   "outputs": [],
   "source": []
  }
 ],
 "metadata": {
  "colab": {
   "collapsed_sections": [
    "6lzp18jo2nkE",
    "CRe5azVT2sp1",
    "DGNT4xQLTBLI",
    "rUvydSWETGE1",
    "qqkTiFI0qlKR",
    "3hMAdklhl95E",
    "I-FIr4CBqoJK",
    "ejW1yzsfmIU8",
    "U8qXTWG5mN0t",
    "Ed_NiS0FZcc0",
    "U6aaIBpdZfDB",
    "WMkeM-O1ZiVZ",
    "yUm6fvwHZmBQ",
    "UnQmLo_qZonE"
   ],
   "name": "CISC873_A1_Jagmeet.ipynb",
   "provenance": []
  },
  "kernelspec": {
   "display_name": "Python 3",
   "language": "python",
   "name": "python3"
  },
  "language_info": {
   "codemirror_mode": {
    "name": "ipython",
    "version": 3
   },
   "file_extension": ".py",
   "mimetype": "text/x-python",
   "name": "python",
   "nbconvert_exporter": "python",
   "pygments_lexer": "ipython3",
   "version": "3.7.6"
  }
 },
 "nbformat": 4,
 "nbformat_minor": 1
}
