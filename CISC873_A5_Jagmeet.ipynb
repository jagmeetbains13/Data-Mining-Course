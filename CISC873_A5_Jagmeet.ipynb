{
 "cells": [
  {
   "cell_type": "markdown",
   "metadata": {
    "id": "7AlphL2IM_Ij"
   },
   "source": [
    "# Assignment 5"
   ]
  },
  {
   "cell_type": "markdown",
   "metadata": {
    "id": "91TpI4jogaA_"
   },
   "source": [
    "**Submitted By: Jagmeet Singh**\n",
    "\n",
    "**Problem Description:** It is a binary classification problem based on the graph data. The task is to predict the anticancer activity of a chemical compound using the chemical structure of the compound. The chemical compound can be positive or negative against lung cancer cell and thus labelled as either 0 or 1. \n",
    "\n",
    "**Data Description:** The data is in the form of graph which represents the chemical structure of the compound. Each sample of data contains information about the atoms and the connections between atoms of the molecule. So in this problem the features are the atoms and connections.\n",
    "\n",
    "**Methods Used:**\n",
    "\n",
    "1. The first step is to read the sdf file to get the information about the atoms and their connectivity in the compound. The atoms are described as nodes and connections are described as edges. The read_sdf method is used to read sdf file and the chemical composition of the compound.\n",
    "\n",
    "2. The nodes(atoms) are given as characters (like \\['O','N','Cl'....]). Thus it is treated as sequence of text data and best way to describe the text data sequence to tokenize the data and then adding the embeddig layer. \n",
    "\n",
    "3. Graph convolutional network is used in this assignment to calculate the probability of the output class. Different methods differ in implementing message passing methods as:\n",
    "\n",
    "* **R-GCN Method**: (Graph convolution layers) Compute new graph states by neural message passing.\n",
    "\n",
    "* **R-GAT Method**: (Relation graph attention network layer) Compute new graph states by neural message passing using attention.\n",
    "\n",
    "* **R-GIN Method**: (Relation Graph Isomorphism Network message propogation layer) Compute new graph states by neural message passing using MLPs for state updates and message computation.\n",
    "\n",
    "* **GGNN Method**: (Gated graph neural network layer) Compute new graph states by neural message passing and gated units on the nodes. This method works best for this problem as given in Aggregation Method 2 below."
   ]
  },
  {
   "cell_type": "code",
   "execution_count": null,
   "metadata": {
    "colab": {
     "base_uri": "https://localhost:8080/"
    },
    "id": "X5DYSxhXM61Z",
    "outputId": "25bc8045-9b06-4d3f-ec1e-27e06bf1ff58"
   },
   "outputs": [
    {
     "name": "stdout",
     "output_type": "stream",
     "text": [
      "Mounted at /content/drive\n"
     ]
    }
   ],
   "source": [
    "#Mounting google drive to import data\n",
    "from google.colab import drive\n",
    "drive.mount('/content/drive')"
   ]
  },
  {
   "cell_type": "markdown",
   "metadata": {
    "id": "RH8sttOVftve"
   },
   "source": [
    "# Read SDF format data (structured-data format)"
   ]
  },
  {
   "cell_type": "code",
   "execution_count": null,
   "metadata": {
    "id": "MzUZR456NJ2i"
   },
   "outputs": [],
   "source": [
    "#importing libraries\n",
    "import numpy as np   \n",
    "from tqdm.notebook import tqdm\n",
    "\n",
    "#method to read sdf file\n",
    "#the chemical composition of a molecule is saved as SDF(structure data file) file\n",
    "#sdf file store information about position of individual atom\n",
    "#molecules are delimited by $$$$\n",
    "#the atom block lines start with '    ' and have information about atoms(C,O,N,Cl..)\n",
    "#bond block starts with ' ' and contains info about connection between atoms\n",
    "\n",
    "def read_sdf(file):\n",
    "    with open(file, 'r') as rf:   #opening the file in read mode\n",
    "        content = rf.read()       #reading the contents of the file\n",
    "    samples = content.split('$$$$') #splitting the read file by delimiter $$$$ thus splitting each molecule in an array\n",
    "    \n",
    "    #method to read each molecule configuration\n",
    "    #s represents one molecule\n",
    "    def parse_sample(s):\n",
    "        lines = s.splitlines()    #splitting the text data to lines\n",
    "        links = []                #empty array for links\n",
    "        nodes = []                #empty array for nodes\n",
    "        label = 0\n",
    "        for l in lines:           #loop over each line\n",
    "            if l.strip() == '1.0':   #\n",
    "                label = 1\n",
    "            if l.strip() == '-1.0':\n",
    "                label = 0\n",
    "            if l.startswith('    '):  #for Atom block  \n",
    "                feature = l.split()   #splitting line\n",
    "                node = feature[3]     #node feature (atom) as O,C etc.\n",
    "                nodes.append(node)    #appending nodes\n",
    "            elif l.startswith(' '):   #bond block tells about connections between atoms\n",
    "                lnk = l.split()       #splitting line\n",
    "                # edge: (from, to,) (1-based index)\n",
    "                if int(lnk[0]) - 1 < len(nodes):   #\n",
    "                    links.append((   #appending links\n",
    "                        int(lnk[0])-1,   #first atom\n",
    "                        int(lnk[1])-1, # zero-based index #second atom\n",
    "                        # int(lnk[2]) ignore edge weight\n",
    "                    ))\n",
    "        return nodes, np.array(links), label #returning nodes, links and label\n",
    "    \n",
    "    return [parse_sample(s) for s in tqdm(samples) if len(s[0]) > 0]  #parse_sample for each molecule"
   ]
  },
  {
   "cell_type": "code",
   "execution_count": null,
   "metadata": {
    "colab": {
     "base_uri": "https://localhost:8080/",
     "height": 66,
     "referenced_widgets": [
      "9e4147debbb9433198025db31ace112f",
      "5bfa382f871e49feb292ab19a89032f5",
      "9e3e61d692de4b828d48fcb664427c49",
      "d59b3af571aa47f388dfe36553dd2df9",
      "df9339ebb6aa44478c77465b02dd9344",
      "0d5d1b55f8e343bb84de382b79894311",
      "4ba86edce2a94f88a60ae52da6bebc96",
      "00e708c4773547a2a5e66472fc5237a1"
     ]
    },
    "id": "bWDSpnISNOBd",
    "outputId": "6f39357e-5b1a-4bc7-e052-2352797f9e32"
   },
   "outputs": [
    {
     "data": {
      "application/vnd.jupyter.widget-view+json": {
       "model_id": "9e4147debbb9433198025db31ace112f",
       "version_major": 2,
       "version_minor": 0
      },
      "text/plain": [
       "HBox(children=(FloatProgress(value=0.0, max=25024.0), HTML(value='')))"
      ]
     },
     "metadata": {
      "tags": []
     },
     "output_type": "display_data"
    },
    {
     "name": "stdout",
     "output_type": "stream",
     "text": [
      "\n"
     ]
    }
   ],
   "source": [
    "from sklearn.model_selection import train_test_split\n",
    "\n",
    "#reading train.sdf file\n",
    "training_set = read_sdf('drive/My Drive/CISC873/A5/train.sdf')\n",
    "\n",
    "#splitting the train data\n",
    "training_set, validation_set = train_test_split(training_set, test_size=0.15,)"
   ]
  },
  {
   "cell_type": "code",
   "execution_count": null,
   "metadata": {
    "colab": {
     "base_uri": "https://localhost:8080/",
     "height": 66,
     "referenced_widgets": [
      "c11bbada7a734e10ae778796fde9feee",
      "f6ae005db9ea42bea9dbf4b2f92747b7",
      "f247b9a918d6410d947f142c9d1af32e",
      "61e6434076f6452f81d3cdfdfd00b13b",
      "37de922bbff04997879841f2eccf81fd",
      "eba61cac26f44995bc16cbbeb8def5af",
      "ed92b06040b642f1837800205b4a79b2",
      "4c86b3ef12274b608165050bcf43041e"
     ]
    },
    "id": "XyqYaQEwNQn3",
    "outputId": "5d4bdccc-d6c7-4de6-f617-6fc87e2f5e53"
   },
   "outputs": [
    {
     "data": {
      "application/vnd.jupyter.widget-view+json": {
       "model_id": "c11bbada7a734e10ae778796fde9feee",
       "version_major": 2,
       "version_minor": 0
      },
      "text/plain": [
       "HBox(children=(FloatProgress(value=0.0, max=12326.0), HTML(value='')))"
      ]
     },
     "metadata": {
      "tags": []
     },
     "output_type": "display_data"
    },
    {
     "name": "stdout",
     "output_type": "stream",
     "text": [
      "\n"
     ]
    }
   ],
   "source": [
    "#reading test file\n",
    "testing_set  = read_sdf('drive/My Drive/CISC873/A5/test_x.sdf')"
   ]
  },
  {
   "cell_type": "markdown",
   "metadata": {
    "id": "L5ijt3CbfzkP"
   },
   "source": [
    "# Visualizing/Inspecting a Sample"
   ]
  },
  {
   "cell_type": "markdown",
   "metadata": {
    "id": "lXi103PJxPCG"
   },
   "source": [
    "* Training set contains data for each sample(molecule). Each sample array contains three elements. First element has information about the atoms in text format, second element has information about the connections and third element tells about the label for each molecule."
   ]
  },
  {
   "cell_type": "code",
   "execution_count": null,
   "metadata": {
    "id": "zK9_sL0sf4B_"
   },
   "outputs": [],
   "source": [
    "#importing libraries for displaying network of molecule\n",
    "!pip install --quiet networkx\n",
    "import networkx as nx\n",
    "import matplotlib.pyplot as plt\n",
    "from matplotlib import cm\n",
    "colors = cm.rainbow(np.linspace(0, 1, 50))"
   ]
  },
  {
   "cell_type": "code",
   "execution_count": null,
   "metadata": {
    "id": "IINvuKUNfdVo"
   },
   "outputs": [],
   "source": [
    "#method to visualize the compound graph\n",
    "#atoms are given as nodes\n",
    "#the connections are defined as edges\n",
    "\n",
    "\n",
    "def visualize(sample):\n",
    "    G=nx.Graph() #initiating an instance of Graph\n",
    "    nodes = sample[0] #atoms as nodes\n",
    "    edges = sample[1] #connections as edges\n",
    "    \n",
    "    labeldict={} #empty dictionary for labels for the nodes\n",
    "    node_color=[] #empty array for each node color\n",
    "    for i,n in enumerate(nodes): #for each node in the sample\n",
    "        G.add_node(i)   #adding node to the graph each node as (0,1,2,3..)\n",
    "        labeldict[i]=n  #dictionary building with [key,value] as [0:'C']\n",
    "        #print(i)\n",
    "        #print(n)\n",
    "        node_color.append(colors[hash(n)%len(colors)]) #color coding\n",
    "\n",
    "    # a list of nodes:\n",
    "    for e in edges: #for each edge\n",
    "        G.add_edge(e[0], e[1]) #adding egde to the graph from one connection to other connection\n",
    "\n",
    "    #drawing the graph with labels for nodes as atoms and connections as edges    \n",
    "    nx.draw(G, labels=labeldict, with_labels = True, node_color = node_color)\n",
    "    plt.show()\n",
    "    #returns graph\n",
    "    return G"
   ]
  },
  {
   "cell_type": "code",
   "execution_count": null,
   "metadata": {
    "colab": {
     "base_uri": "https://localhost:8080/",
     "height": 336
    },
    "id": "wD29ck7kf-Ni",
    "outputId": "15f7029d-7e9b-4f75-af3f-5cb98179b97f"
   },
   "outputs": [
    {
     "data": {
      "image/png": "[encoded data removed]",
      "text/plain": [
       "<Figure size 432x288 with 1 Axes>"
      ]
     },
     "metadata": {
      "tags": []
     },
     "output_type": "display_data"
    },
    {
     "data": {
      "text/plain": [
       "<networkx.classes.graph.Graph at 0x7ff0e0ff3cc0>"
      ]
     },
     "execution_count": 37,
     "metadata": {
      "tags": []
     },
     "output_type": "execute_result"
    }
   ],
   "source": [
    "#displaying one sample\n",
    "plt.clf()\n",
    "visualize(training_set[20])"
   ]
  },
  {
   "cell_type": "markdown",
   "metadata": {
    "id": "lDSAXrjLNWSm"
   },
   "source": [
    "# Preprocessing"
   ]
  },
  {
   "cell_type": "code",
   "execution_count": null,
   "metadata": {
    "colab": {
     "base_uri": "https://localhost:8080/"
    },
    "id": "qxshsJJpk6w5",
    "outputId": "05237a36-8a90-4482-9897-ee3acdc8ccac"
   },
   "outputs": [
    {
     "data": {
      "text/plain": [
       "(array([0, 1]), array([20253,  1017]))"
      ]
     },
     "execution_count": 5,
     "metadata": {
      "tags": []
     },
     "output_type": "execute_result"
    }
   ],
   "source": [
    "#checking the labels of the training dataset\n",
    "labelss = []\n",
    "for sam in training_set:\n",
    "  labelss.append(sam[2])\n",
    "np.unique(labelss,return_counts=True)  "
   ]
  },
  {
   "cell_type": "code",
   "execution_count": null,
   "metadata": {
    "colab": {
     "base_uri": "https://localhost:8080/"
    },
    "id": "PMsMGLHIlyW3",
    "outputId": "bc512bad-e366-4a04-9472-d39d946c2c3d"
   },
   "outputs": [
    {
     "data": {
      "text/plain": [
       "(array([0]), array([12326]))"
      ]
     },
     "execution_count": 6,
     "metadata": {
      "tags": []
     },
     "output_type": "execute_result"
    }
   ],
   "source": [
    "#checking the labels of the testing dataset\n",
    "labelss = []\n",
    "for sam in testing_set:\n",
    "  labelss.append(sam[2])\n",
    "np.unique(labelss,return_counts=True) "
   ]
  },
  {
   "cell_type": "markdown",
   "metadata": {
    "id": "SMQ5q54813LP"
   },
   "source": [
    "* Tokenizing the nodes(atoms)"
   ]
  },
  {
   "cell_type": "code",
   "execution_count": null,
   "metadata": {
    "id": "AAn4RG1eNUUZ"
   },
   "outputs": [],
   "source": [
    "#Tokenizer importing \n",
    "from tensorflow.keras.preprocessing.text import Tokenizer\n",
    "\n",
    "#vocabulary size\n",
    "max_vocab = 500\n",
    "max_len = 100 # maximum length of the tokenized vector\n",
    "\n",
    "\n",
    "# build vocabulary from training set only for nodes characters\n",
    "all_nodes = [s[0] for s in training_set]\n",
    "\n",
    "#training tokenizer\n",
    "tokenizer = Tokenizer(num_words=max_vocab)\n",
    "tokenizer.fit_on_texts(all_nodes)"
   ]
  },
  {
   "cell_type": "code",
   "execution_count": null,
   "metadata": {
    "id": "fi75xjCENYtH"
   },
   "outputs": [],
   "source": [
    "#importing libraries\n",
    "from tensorflow.keras.preprocessing.sequence import pad_sequences\n",
    "import random\n",
    "random.seed(0) #random seed\n",
    "\n",
    "\n",
    "#method to prepare single batch set\n",
    "#samples represents the batch of data\n",
    "def prepare_single_batch(samples):\n",
    "    sample_nodes = [s[0] for s in samples]                      #nodes characters array\n",
    "    sample_nodes = tokenizer.texts_to_sequences(sample_nodes)   #tokenizing the sample nodes\n",
    "    sample_nodes = pad_sequences(sample_nodes, padding='post')  #pad_sequences for each sample node with post padding\n",
    "    max_nodes_len = np.shape(sample_nodes)[1]                   #maximum length of nodes \n",
    "    edges = [s[1]+i*max_nodes_len for i,s in enumerate(samples)] #defining edges\n",
    "    edges = [e for e in edges if len(e) > 0]\n",
    "\n",
    "    #each \n",
    "    node_to_graph = [[i]*max_nodes_len for i in range(len(samples))]  #array definition for segmented_ids\n",
    "    \n",
    "    all_nodes = np.reshape(sample_nodes, -1)  #reshaping as 1 vector\n",
    "    all_edges = np.concatenate(edges)         #concatenating all the edges as size [total_edges ,2]\n",
    "\n",
    "    node_to_graph = np.reshape(node_to_graph, -1)\n",
    "    #returns a dictionary of features(data,edges,node2grah) and label\n",
    "    return {\n",
    "        'data': all_nodes,\n",
    "        'edges': all_edges,\n",
    "        'node2grah': node_to_graph,\n",
    "    }, np.array([s[2] for s in samples]) \n",
    "\n",
    "\n",
    "#generating batch with given btch_size\n",
    "def gen_batch(dataset, batch_size=16, repeat=False, shuffle=True):\n",
    "    while True:                 #infinity loop\n",
    "        dataset = list(dataset) #data in the array\n",
    "        if shuffle:             # if shuffle is True\n",
    "            random.shuffle(dataset) #randomly shuffling\n",
    "        l = len(dataset)  #length of dataset\n",
    "        for ndx in range(0, l, batch_size):  #loop for  creating batches from given dataset\n",
    "            batch_samples = dataset[ndx:min(ndx + batch_size, l)] #creating batch samples with given batch_size\n",
    "            yield prepare_single_batch(batch_samples)   #returning a generator with prepared batches\n",
    "        if not repeat:  #breaking loop if repeat is false\n",
    "            break"
   ]
  },
  {
   "cell_type": "code",
   "execution_count": null,
   "metadata": {
    "id": "aMqjB-9mNbZc"
   },
   "outputs": [],
   "source": [
    "# showing one batch:\n",
    "for train_batch in gen_batch(training_set, batch_size=10):\n",
    "    for k,v in train_batch[0].items():\n",
    "        print(k)        \n",
    "        print(v)\n",
    "        print(\"Shape is \"+str(np.shape(v)))\n",
    "        pass\n",
    "    print('label', train_batch[1])\n",
    "    break"
   ]
  },
  {
   "cell_type": "code",
   "execution_count": null,
   "metadata": {
    "colab": {
     "base_uri": "https://localhost:8080/"
    },
    "id": "RO0B4YaBNeCk",
    "outputId": "9446d755-209d-46a9-99d3-691582454d0c"
   },
   "outputs": [
    {
     "name": "stdout",
     "output_type": "stream",
     "text": [
      "\u001b[K     |████████████████████████████████| 51kB 4.1MB/s \n",
      "\u001b[K     |████████████████████████████████| 71kB 5.5MB/s \n",
      "\u001b[K     |████████████████████████████████| 1.1MB 11.0MB/s \n",
      "\u001b[K     |████████████████████████████████| 194kB 21.1MB/s \n",
      "\u001b[K     |████████████████████████████████| 2.6MB 20.7MB/s \n",
      "\u001b[?25h  Building wheel for tf2-gnn (setup.py) ... \u001b[?25l\u001b[?25hdone\n"
     ]
    }
   ],
   "source": [
    "!pip install --quiet tf2_gnn\n",
    "\n",
    "# https://github.com/microsoft/tf2-gnn\n",
    "# https://github.com/microsoft/tf2-gnn/blob/master/tf2_gnn/layers/gnn.py\n",
    "\n",
    "#for deep Graph Neural Network\n",
    "from tf2_gnn.layers.gnn import GNN, GNNInput"
   ]
  },
  {
   "cell_type": "markdown",
   "metadata": {
    "id": "IbQGH9dCK0Gx"
   },
   "source": [
    "## Aggregation Method 1"
   ]
  },
  {
   "cell_type": "code",
   "execution_count": null,
   "metadata": {
    "colab": {
     "base_uri": "https://localhost:8080/"
    },
    "id": "8SrqgFfSNfyr",
    "outputId": "d541dc8f-d108-47c3-e4ae-3938c3262af5"
   },
   "outputs": [
    {
     "name": "stdout",
     "output_type": "stream",
     "text": [
      "gnn_out Tensor(\"gnn_8/StatefulPartitionedCall:0\", shape=(None, 40), dtype=float32)\n",
      "mean: Tensor(\"SegmentMean_5:0\", shape=(None, 40), dtype=float32)\n",
      "pred: Tensor(\"dense_4/Sigmoid:0\", shape=(None, 1), dtype=float32)\n",
      "Model: \"functional_8\"\n",
      "__________________________________________________________________________________________________\n",
      "Layer (type)                    Output Shape         Param #     Connected to                     \n",
      "==================================================================================================\n",
      "input_30 (InputLayer)           [(None,)]            0                                            \n",
      "__________________________________________________________________________________________________\n",
      "input_28 (InputLayer)           [(None,)]            0                                            \n",
      "__________________________________________________________________________________________________\n",
      "tf_op_layer_Max_8 (TensorFlowOp [()]                 0           input_30[0][0]                   \n",
      "__________________________________________________________________________________________________\n",
      "embedding_8 (Embedding)         (None, 100)          50000       input_28[0][0]                   \n",
      "__________________________________________________________________________________________________\n",
      "input_29 (InputLayer)           [(None, 2)]          0                                            \n",
      "__________________________________________________________________________________________________\n",
      "tf_op_layer_AddV2_8 (TensorFlow [()]                 0           tf_op_layer_Max_8[0][0]          \n",
      "__________________________________________________________________________________________________\n",
      "gnn_8 (GNN)                     (None, 40)           35440       embedding_8[0][0]                \n",
      "                                                                 input_29[0][0]                   \n",
      "                                                                 input_30[0][0]                   \n",
      "                                                                 tf_op_layer_AddV2_8[0][0]        \n",
      "__________________________________________________________________________________________________\n",
      "tf_op_layer_SegmentMean_5 (Tens [(None, 40)]         0           gnn_8[0][0]                      \n",
      "                                                                 input_30[0][0]                   \n",
      "__________________________________________________________________________________________________\n",
      "dense_4 (Dense)                 (None, 1)            41          tf_op_layer_SegmentMean_5[0][0]  \n",
      "==================================================================================================\n",
      "Total params: 85,481\n",
      "Trainable params: 85,481\n",
      "Non-trainable params: 0\n",
      "__________________________________________________________________________________________________\n"
     ]
    }
   ],
   "source": [
    "#importing tensorflow and other libraries\n",
    "import tensorflow as tf\n",
    "from tensorflow.math import segment_mean #to calculate segmented mean\n",
    "from tensorflow import keras\n",
    "from tensorflow.keras import Input, Model #layers and model\n",
    "from tensorflow.keras.layers import Embedding, Dense #layers\n",
    "from tensorflow.keras.optimizers import Adam #optimizer\n",
    "\n",
    "\n",
    "'''\n",
    "\n",
    "To understand the dimensions:\n",
    "Let's assume the batch contains 10 samples of data.\n",
    "The nodes are tokenized using 44 dimension array that is each sample node is of shape [44]\n",
    "Thus 10 samples are of shape [440] after applying get_batch method\n",
    "node2graph is also of shape [440] like [0,0,0,0,0,...,1,1,1,1,....2,2,2,....] each number is repeated 44 times [0,0,0,0,... 44 times]\n",
    "Lets assume edges are of size [257,2]\n",
    "\n",
    "The GNN layer takes a GNNInput named tuple as input, which encapsulates initial node features, adjacency lists, and auxiliary information.\n",
    "\n",
    "'''\n",
    "\n",
    "data = keras.Input(batch_shape=(None,))  #Input layer for nodes (tokenized text data)            eg. [440]\n",
    "\n",
    "# the first dim is different to the previous one. it is the total number of edges in this batch\n",
    "edge = keras.Input(batch_shape=(None, 2), dtype=tf.int32)     #Input layer for edge data         eg. [257,2]\n",
    "node2graph = keras.Input(batch_shape=(None,), dtype=tf.int32) #Input layer for node2graph ids    eg. [440]\n",
    "\n",
    "embeded = Embedding(tokenizer.num_words, 100)(data)  #embedding layer over data with each token embedded as  size vector eg. [440,50]\n",
    "\n",
    "\n",
    "# number of graphs (number of samples)\n",
    "num_graph = tf.reduce_max(node2graph)+1  #calculating number of samples (or min(batch_size,no._of_samples))    eg. 10\n",
    "\n",
    "#gnn_input layer with inputs as defined above\n",
    "gnn_input = GNNInput(\n",
    "    node_features=embeded,\n",
    "    adjacency_lists=(edge,),\n",
    "    node_to_graph_map=node2graph, \n",
    "    num_graphs=num_graph,\n",
    ")\n",
    "\n",
    "# https://github.com/microsoft/tf2-gnn/blob/master/tf2_gnn/layers/gnn.py\n",
    "#defining hyperparameters for GNN layer\n",
    "params = GNN.get_default_hyperparameters()\n",
    "params[\"hidden_dim\"] = 40  #defining hidden dimension of the gnn layer\n",
    "\n",
    "#gnn layer with defined hyperparameters\n",
    "gnn_layer = GNN(params)  \n",
    "\n",
    "#gnn output layer \n",
    "gnn_out = gnn_layer(gnn_input) #outpur shape: [data_dimension,hidden layers]   eg. [440,64]\n",
    "\n",
    "print('gnn_out', gnn_out)           \n",
    "\n",
    "# https://www.tensorflow.org/api_docs/python/tf/math/segment_mean\n",
    "\n",
    "#calculating segmented mean based on segment_ids\n",
    "avg = segment_mean(\n",
    "    data=gnn_out,\n",
    "    segment_ids=node2graph\n",
    "    )                                    #shape: [batch_size,64]  eg. [10,64]\n",
    "\n",
    "print('mean:', avg)\n",
    "\n",
    "#final dense layer with sigmoid\n",
    "pred = Dense(1, activation='sigmoid')(avg)   #output shape: [batch_size,1] eg. []\n",
    "print('pred:', pred)\n",
    "\n",
    "#building model \n",
    "#inputs are data,edges and node2graph\n",
    "#input: dictionary\n",
    "#output: prediction value from dense layer\n",
    "model = Model(\n",
    "    inputs={\n",
    "        'data': data, \n",
    "        'edges': edge,\n",
    "        'node2grah': node2graph,\n",
    "    },\n",
    "    outputs=pred\n",
    ")\n",
    "\n",
    "#printing summary of the model\n",
    "model.summary()"
   ]
  },
  {
   "cell_type": "code",
   "execution_count": null,
   "metadata": {
    "id": "KyxEJvnPNoKZ"
   },
   "outputs": [],
   "source": [
    "model.compile(\n",
    "    loss='BinaryCrossentropy',\n",
    "    metrics=['AUC']\n",
    ")"
   ]
  },
  {
   "cell_type": "code",
   "execution_count": null,
   "metadata": {
    "colab": {
     "base_uri": "https://localhost:8080/"
    },
    "id": "BzQFSu9WNqSt",
    "outputId": "5b786b27-6aaa-4c6a-f85b-4c14b55503b9"
   },
   "outputs": [
    {
     "name": "stdout",
     "output_type": "stream",
     "text": [
      "Epoch 1/50\n"
     ]
    },
    {
     "name": "stderr",
     "output_type": "stream",
     "text": [
      "/usr/local/lib/python3.6/dist-packages/tensorflow/python/framework/indexed_slices.py:432: UserWarning: Converting sparse IndexedSlices to a dense Tensor of unknown shape. This may consume a large amount of memory.\n",
      "  \"Converting sparse IndexedSlices to a dense Tensor of unknown shape. \"\n"
     ]
    },
    {
     "name": "stdout",
     "output_type": "stream",
     "text": [
      "2659/2659 [==============================] - 28s 11ms/step - loss: 0.2153 - auc: 0.5667 - val_loss: 0.2554 - val_auc: 0.4687\n",
      "Epoch 2/50\n",
      "2659/2659 [==============================] - 28s 10ms/step - loss: 0.2074 - auc: 0.5820 - val_loss: 0.2046 - val_auc: 0.5563\n",
      "Epoch 3/50\n",
      "2659/2659 [==============================] - 28s 10ms/step - loss: 0.2093 - auc: 0.5452 - val_loss: 0.2248 - val_auc: 0.5091\n",
      "Epoch 4/50\n",
      "2659/2659 [==============================] - 28s 10ms/step - loss: 0.2063 - auc: 0.5550 - val_loss: 0.2346 - val_auc: 0.3853\n",
      "Epoch 5/50\n",
      "2659/2659 [==============================] - 28s 10ms/step - loss: 0.2057 - auc: 0.5424 - val_loss: 0.1907 - val_auc: 0.6483\n",
      "Epoch 6/50\n",
      "2659/2659 [==============================] - 28s 11ms/step - loss: 0.2026 - auc: 0.5672 - val_loss: 0.1946 - val_auc: 0.6213\n",
      "Epoch 7/50\n",
      "2659/2659 [==============================] - 28s 10ms/step - loss: 0.2065 - auc: 0.5291 - val_loss: 0.2038 - val_auc: 0.5127\n",
      "Epoch 8/50\n",
      "2659/2659 [==============================] - 28s 10ms/step - loss: 0.2022 - auc: 0.5387 - val_loss: 0.2262 - val_auc: 0.4477\n",
      "Epoch 9/50\n",
      "2659/2659 [==============================] - 28s 10ms/step - loss: 0.2006 - auc: 0.5319 - val_loss: 0.1921 - val_auc: 0.6192\n",
      "Epoch 10/50\n",
      "2659/2659 [==============================] - 28s 11ms/step - loss: 0.1959 - auc: 0.5808 - val_loss: 0.1920 - val_auc: 0.6277\n",
      "Epoch 11/50\n",
      "2659/2659 [==============================] - 28s 11ms/step - loss: 0.1919 - auc: 0.6136 - val_loss: 0.1851 - val_auc: 0.6738\n",
      "Epoch 12/50\n",
      "2659/2659 [==============================] - 28s 10ms/step - loss: 0.1906 - auc: 0.6110 - val_loss: 0.1901 - val_auc: 0.6578\n",
      "Epoch 13/50\n",
      "2659/2659 [==============================] - 28s 10ms/step - loss: 0.1904 - auc: 0.5987 - val_loss: 0.1889 - val_auc: 0.6195\n",
      "Epoch 14/50\n",
      "2659/2659 [==============================] - 28s 10ms/step - loss: 0.1873 - auc: 0.6346 - val_loss: 0.1826 - val_auc: 0.6941\n",
      "Epoch 15/50\n",
      "2659/2659 [==============================] - 28s 10ms/step - loss: 0.1873 - auc: 0.6382 - val_loss: 0.1854 - val_auc: 0.5856\n",
      "Epoch 16/50\n",
      "2659/2659 [==============================] - 28s 10ms/step - loss: 0.1876 - auc: 0.6337 - val_loss: 0.1839 - val_auc: 0.6599\n",
      "Epoch 17/50\n",
      "2659/2659 [==============================] - 28s 10ms/step - loss: 0.1863 - auc: 0.6473 - val_loss: 0.1958 - val_auc: 0.5841\n",
      "Epoch 18/50\n",
      "2659/2659 [==============================] - 28s 10ms/step - loss: 0.1856 - auc: 0.6508 - val_loss: 0.1822 - val_auc: 0.6693\n",
      "Epoch 19/50\n",
      "2659/2659 [==============================] - 28s 11ms/step - loss: 0.1874 - auc: 0.6364 - val_loss: 0.1810 - val_auc: 0.6538\n",
      "Epoch 20/50\n",
      "2659/2659 [==============================] - 28s 11ms/step - loss: 0.1871 - auc: 0.6400 - val_loss: 0.1843 - val_auc: 0.6901\n",
      "Epoch 21/50\n",
      "2659/2659 [==============================] - 28s 11ms/step - loss: 0.1859 - auc: 0.6529 - val_loss: 0.1916 - val_auc: 0.6454\n",
      "Epoch 22/50\n",
      "2659/2659 [==============================] - 28s 11ms/step - loss: 0.1867 - auc: 0.6417 - val_loss: 0.1885 - val_auc: 0.6841\n",
      "Epoch 23/50\n",
      "2659/2659 [==============================] - 28s 11ms/step - loss: 0.1857 - auc: 0.6573 - val_loss: 0.1862 - val_auc: 0.6749\n",
      "Epoch 24/50\n",
      "2659/2659 [==============================] - 28s 10ms/step - loss: 0.1863 - auc: 0.6510 - val_loss: 0.1822 - val_auc: 0.6761\n",
      "Epoch 25/50\n",
      "2659/2659 [==============================] - 28s 10ms/step - loss: 0.1864 - auc: 0.6548 - val_loss: 0.1927 - val_auc: 0.6446\n",
      "Epoch 26/50\n",
      "2659/2659 [==============================] - 28s 11ms/step - loss: 0.1874 - auc: 0.6372 - val_loss: 0.1765 - val_auc: 0.6902\n",
      "Epoch 27/50\n",
      "2659/2659 [==============================] - 28s 11ms/step - loss: 0.1874 - auc: 0.6322 - val_loss: 0.1864 - val_auc: 0.7158\n",
      "Epoch 28/50\n",
      "2659/2659 [==============================] - 28s 10ms/step - loss: 0.1872 - auc: 0.6412 - val_loss: 0.1821 - val_auc: 0.7239\n",
      "Epoch 29/50\n",
      "2659/2659 [==============================] - 28s 10ms/step - loss: 0.1878 - auc: 0.6311 - val_loss: 0.1860 - val_auc: 0.6848\n",
      "Epoch 30/50\n",
      "2659/2659 [==============================] - 28s 11ms/step - loss: 0.1860 - auc: 0.6544 - val_loss: 0.1828 - val_auc: 0.6738\n",
      "Epoch 31/50\n",
      "2659/2659 [==============================] - 28s 11ms/step - loss: 0.1864 - auc: 0.6435 - val_loss: 0.1871 - val_auc: 0.7035\n",
      "Epoch 32/50\n",
      "2659/2659 [==============================] - 28s 11ms/step - loss: 0.1859 - auc: 0.6507 - val_loss: 0.1776 - val_auc: 0.7139\n",
      "Epoch 33/50\n",
      "2659/2659 [==============================] - 28s 11ms/step - loss: 0.1853 - auc: 0.6516 - val_loss: 0.1823 - val_auc: 0.6468\n",
      "Epoch 34/50\n",
      "2659/2659 [==============================] - 28s 11ms/step - loss: 0.1870 - auc: 0.6399 - val_loss: 0.1880 - val_auc: 0.6283\n",
      "Epoch 35/50\n",
      "2659/2659 [==============================] - 28s 11ms/step - loss: 0.1887 - auc: 0.6280 - val_loss: 0.1873 - val_auc: 0.6759\n",
      "Epoch 36/50\n",
      "2659/2659 [==============================] - 28s 11ms/step - loss: 0.1888 - auc: 0.6264 - val_loss: 0.1933 - val_auc: 0.6333\n",
      "Epoch 37/50\n",
      "2659/2659 [==============================] - 28s 11ms/step - loss: 0.1907 - auc: 0.6067 - val_loss: 0.1821 - val_auc: 0.6838\n",
      "Epoch 38/50\n",
      "2659/2659 [==============================] - 28s 10ms/step - loss: 0.1883 - auc: 0.6387 - val_loss: 0.1861 - val_auc: 0.6365\n",
      "Epoch 39/50\n",
      "2659/2659 [==============================] - 28s 10ms/step - loss: 0.1884 - auc: 0.6290 - val_loss: 0.1859 - val_auc: 0.6994\n",
      "Epoch 40/50\n",
      "2659/2659 [==============================] - 28s 10ms/step - loss: 0.1862 - auc: 0.6506 - val_loss: 0.1890 - val_auc: 0.7010\n",
      "Epoch 41/50\n",
      "2659/2659 [==============================] - 28s 10ms/step - loss: 0.1861 - auc: 0.6494 - val_loss: 0.1775 - val_auc: 0.7376\n",
      "Epoch 42/50\n",
      "2659/2659 [==============================] - 28s 10ms/step - loss: 0.1902 - auc: 0.6219 - val_loss: 0.1982 - val_auc: 0.5966\n",
      "Epoch 43/50\n",
      "2659/2659 [==============================] - 28s 10ms/step - loss: 0.1897 - auc: 0.6182 - val_loss: 0.1841 - val_auc: 0.5774\n",
      "Epoch 44/50\n",
      "2659/2659 [==============================] - 28s 11ms/step - loss: 0.1882 - auc: 0.6340 - val_loss: 0.1874 - val_auc: 0.7151\n",
      "Epoch 45/50\n",
      "2659/2659 [==============================] - 28s 11ms/step - loss: 0.1869 - auc: 0.6401 - val_loss: 0.1853 - val_auc: 0.7125\n",
      "Epoch 46/50\n",
      "2659/2659 [==============================] - 28s 10ms/step - loss: 0.1891 - auc: 0.6185 - val_loss: 0.1823 - val_auc: 0.6767\n",
      "Epoch 47/50\n",
      "2659/2659 [==============================] - 28s 11ms/step - loss: 0.1859 - auc: 0.6478 - val_loss: 0.1883 - val_auc: 0.6595\n",
      "Epoch 48/50\n",
      "2659/2659 [==============================] - 28s 11ms/step - loss: 0.1857 - auc: 0.6447 - val_loss: 0.1876 - val_auc: 0.6866\n",
      "Epoch 49/50\n",
      "2659/2659 [==============================] - 28s 11ms/step - loss: 0.1870 - auc: 0.6458 - val_loss: 0.1836 - val_auc: 0.7214\n",
      "Epoch 50/50\n",
      "2659/2659 [==============================] - 28s 11ms/step - loss: 0.1870 - auc: 0.6469 - val_loss: 0.1797 - val_auc: 0.7012\n"
     ]
    },
    {
     "data": {
      "text/plain": [
       "<tensorflow.python.keras.callbacks.History at 0x7f344ae9da90>"
      ]
     },
     "execution_count": 52,
     "metadata": {
      "tags": []
     },
     "output_type": "execute_result"
    }
   ],
   "source": [
    "import math\n",
    "\n",
    "batch_size = 8\n",
    "\n",
    "#math.ceil: returns the smallest integral value greater than the number\n",
    "num_batchs = math.ceil(len(training_set) / batch_size) #no. of batches for training data\n",
    "\n",
    "num_batchs_validation = math.ceil(len(validation_set) / batch_size) #no. of batches for validation data\n",
    "\n",
    "model.fit(\n",
    "    gen_batch(\n",
    "        training_set, batch_size=batch_size, repeat=True\n",
    "    ),\n",
    "    steps_per_epoch=num_batchs,\n",
    "    epochs=50,\n",
    "    validation_data=gen_batch(\n",
    "        validation_set, batch_size=16, repeat=True\n",
    "    ),\n",
    "    validation_steps=num_batchs_validation,\n",
    ")"
   ]
  },
  {
   "cell_type": "code",
   "execution_count": null,
   "metadata": {
    "id": "nV8NG9UQNshz"
   },
   "outputs": [],
   "source": [
    "y_pred = model.predict(\n",
    "    gen_batch(testing_set, batch_size=16, shuffle=False)\n",
    ")\n",
    "y_pred = np.reshape(y_pred, -1)"
   ]
  },
  {
   "cell_type": "code",
   "execution_count": null,
   "metadata": {
    "colab": {
     "base_uri": "https://localhost:8080/"
    },
    "id": "9gZ0E1RONuTk",
    "outputId": "8826b3f8-6d1e-4133-b22c-6db61aa7f5d6"
   },
   "outputs": [
    {
     "data": {
      "text/plain": [
       "12326"
      ]
     },
     "execution_count": 120,
     "metadata": {
      "tags": []
     },
     "output_type": "execute_result"
    }
   ],
   "source": [
    "len(y_pred)"
   ]
  },
  {
   "cell_type": "code",
   "execution_count": null,
   "metadata": {
    "id": "VpYpaUDWNwFJ"
   },
   "outputs": [],
   "source": [
    "import pandas as pd \n",
    "submission = pd.DataFrame({'label':y_pred})\n",
    "submission.index.name = 'id'\n",
    "submission.to_csv('sub_3.csv')"
   ]
  },
  {
   "cell_type": "markdown",
   "metadata": {
    "id": "N5UoqMtLM6EP"
   },
   "source": [
    "## Aggregation Method 2"
   ]
  },
  {
   "cell_type": "code",
   "execution_count": null,
   "metadata": {
    "id": "vstu_i1lOeUe"
   },
   "outputs": [],
   "source": [
    "#GGNN,RGCN,RGAT,RGIN,GNN-Edge-MLP,GNN-FiLM\n",
    "#import tf2_gnn.layers.message_passing.gnn_edge_mlp\n",
    "from  tf2_gnn.layers.message_passing import rgat,rgin,rgcn,gnn_film,ggnn,gnn_edge_mlp"
   ]
  },
  {
   "cell_type": "code",
   "execution_count": null,
   "metadata": {
    "colab": {
     "base_uri": "https://localhost:8080/"
    },
    "id": "HgOPbuuDM6EP",
    "outputId": "9ec9780f-044c-4bfb-9a05-d4542ab86fce"
   },
   "outputs": [
    {
     "name": "stdout",
     "output_type": "stream",
     "text": [
      "gnn_out KerasTensor(type_spec=TensorSpec(shape=(None, 32), dtype=tf.float32, name=None), name='gnn/StatefulPartitionedCall:0', description=\"created by layer 'gnn'\")\n",
      "mean: KerasTensor(type_spec=TensorSpec(shape=(None, 32), dtype=tf.float32, name=None), name='tf.math.segment_mean/SegmentMean:0', description=\"created by layer 'tf.math.segment_mean'\")\n",
      "pred: KerasTensor(type_spec=TensorSpec(shape=(None, 1), dtype=tf.float32, name=None), name='dense_1/Sigmoid:0', description=\"created by layer 'dense_1'\")\n",
      "Model: \"model\"\n",
      "__________________________________________________________________________________________________\n",
      "Layer (type)                    Output Shape         Param #     Connected to                     \n",
      "==================================================================================================\n",
      "input_3 (InputLayer)            [(None,)]            0                                            \n",
      "__________________________________________________________________________________________________\n",
      "input_1 (InputLayer)            [(None,)]            0                                            \n",
      "__________________________________________________________________________________________________\n",
      "tf.math.reduce_max (TFOpLambda) ()                   0           input_3[0][0]                    \n",
      "__________________________________________________________________________________________________\n",
      "embedding (Embedding)           (None, 75)           37500       input_1[0][0]                    \n",
      "__________________________________________________________________________________________________\n",
      "input_2 (InputLayer)            [(None, 2)]          0                                            \n",
      "__________________________________________________________________________________________________\n",
      "tf.__operators__.add (TFOpLambd ()                   0           tf.math.reduce_max[0][0]         \n",
      "__________________________________________________________________________________________________\n",
      "gnn (GNN)                       (None, 32)           49568       embedding[0][0]                  \n",
      "                                                                 input_2[0][0]                    \n",
      "                                                                 input_3[0][0]                    \n",
      "                                                                 tf.__operators__.add[0][0]       \n",
      "__________________________________________________________________________________________________\n",
      "tf.math.segment_mean (TFOpLambd (None, 32)           0           gnn[0][0]                        \n",
      "                                                                 input_3[0][0]                    \n",
      "__________________________________________________________________________________________________\n",
      "dense (Dense)                   (None, 8)            264         tf.math.segment_mean[0][0]       \n",
      "__________________________________________________________________________________________________\n",
      "dense_1 (Dense)                 (None, 1)            9           dense[0][0]                      \n",
      "==================================================================================================\n",
      "Total params: 87,341\n",
      "Trainable params: 87,341\n",
      "Non-trainable params: 0\n",
      "__________________________________________________________________________________________________\n"
     ]
    }
   ],
   "source": [
    "#importing tensorflow and other libraries\n",
    "import tensorflow as tf\n",
    "from tensorflow.math import segment_mean #to calculate segmented mean\n",
    "from tensorflow import keras\n",
    "from tensorflow.keras import Input, Model #layers and model\n",
    "from tensorflow.keras.layers import Embedding, Dense #layers\n",
    "from tensorflow.keras.optimizers import Adam #optimizer\n",
    "\n",
    "\n",
    "'''\n",
    "\n",
    "To understand the dimensions:\n",
    "Let's assume the batch contains 10 samples of data.\n",
    "The nodes are tokenized using 44 dimension array that is each sample node is of shape [44]\n",
    "Thus 10 samples are of shape [440] after applying get_batch method\n",
    "node2graph is also of shape [440] like [0,0,0,0,0,...,1,1,1,1,....2,2,2,....] each number is repeated 44 times [0,0,0,0,... 44 times]\n",
    "Lets assume edges are of size [257,2]\n",
    "\n",
    "The GNN layer takes a GNNInput named tuple as input, which encapsulates initial node features, adjacency lists, and auxiliary information.\n",
    "\n",
    "'''\n",
    "\n",
    "data = keras.Input(batch_shape=(None,))  #Input layer for nodes (tokenized text data)            eg. [440]\n",
    "\n",
    "# the first dim is different to the previous one. it is the total number of edges in this batch\n",
    "edge = keras.Input(batch_shape=(None, 2), dtype=tf.int32)     #Input layer for edge data         eg. [257,2]\n",
    "node2graph = keras.Input(batch_shape=(None,), dtype=tf.int32) #Input layer for node2graph ids    eg. [440]\n",
    "\n",
    "embeded = Embedding(tokenizer.num_words, 75)(data)  #embedding layer over data with each token embedded as  size vector eg. [440,75]\n",
    "\n",
    "\n",
    "# number of graphs (number of samples)\n",
    "num_graph = tf.reduce_max(node2graph)+1  #calculating number of samples (or min(batch_size,no._of_samples))    eg. 10\n",
    "\n",
    "#gnn_input layer with inputs as defined above\n",
    "gnn_input = GNNInput(\n",
    "    node_features=embeded,\n",
    "    adjacency_lists=(edge,),\n",
    "    node_to_graph_map=node2graph, \n",
    "    num_graphs=num_graph,\n",
    ")\n",
    "\n",
    "# https://github.com/microsoft/tf2-gnn/blob/master/tf2_gnn/layers/gnn.py\n",
    "#defining hyperparameters for GNN layer\n",
    "params = GNN.get_default_hyperparameters()\n",
    "params[\"hidden_dim\"] = 32 #defining hidden dimension of the gnn layer\n",
    "params[\"message_calculation_class\"] = 'GGNN'\n",
    "#params[\"num_edge_MLP_hidden_layers\"] = 16\n",
    "#gnn layer with defined hyperparameters\n",
    "gnn_layer = GNN(params)  \n",
    "\n",
    "#gnn output layer \n",
    "gnn_out = gnn_layer(gnn_input) #outpur shape: [data_dimension,hidden layers]   eg. [440,32]\n",
    "\n",
    "print('gnn_out', gnn_out)           \n",
    "\n",
    "# https://www.tensorflow.org/api_docs/python/tf/math/segment_mean\n",
    "\n",
    "#calculating segmented mean based on segment_ids\n",
    "avg = segment_mean(\n",
    "    data=gnn_out,\n",
    "    segment_ids=node2graph\n",
    "    )                                    #shape: [batch_size,64]  eg. [10,32]\n",
    "\n",
    "print('mean:', avg)\n",
    "\n",
    "#final dense layer with sigmoid\n",
    "fc1 = Dense(8,activation='relu')(avg) #Output [None,8]\n",
    "#fc2 = Dense(64,activation='relu')(fc1)\n",
    "pred = Dense(1, activation='sigmoid')(fc1)   #output shape: [batch_size,1] \n",
    "print('pred:', pred)\n",
    "\n",
    "#building model \n",
    "#inputs are data,edges and node2graph\n",
    "#input: dictionary\n",
    "#output: prediction value from dense layer\n",
    "model = Model(\n",
    "    inputs={\n",
    "        'data': data, \n",
    "        'edges': edge,\n",
    "        'node2grah': node2graph,\n",
    "    },\n",
    "    outputs=pred\n",
    ")\n",
    "\n",
    "#printing summary of the model\n",
    "model.summary()"
   ]
  },
  {
   "cell_type": "code",
   "execution_count": null,
   "metadata": {
    "id": "xvABWGbNM6ER"
   },
   "outputs": [],
   "source": [
    "model.compile(\n",
    "    loss='BinaryCrossentropy',\n",
    "    metrics=['AUC']\n",
    ")"
   ]
  },
  {
   "cell_type": "code",
   "execution_count": null,
   "metadata": {
    "colab": {
     "base_uri": "https://localhost:8080/"
    },
    "id": "z6nZrW_JM6ER",
    "outputId": "ce4e3a12-a4bf-4c4e-f385-48c4ff604d89"
   },
   "outputs": [
    {
     "name": "stdout",
     "output_type": "stream",
     "text": [
      "Epoch 1/2\n",
      "333/333 [==============================] - 28s 86ms/step - loss: 0.1846 - auc: 0.6380 - val_loss: 0.1901 - val_auc: 0.7529\n",
      "Epoch 2/2\n",
      "333/333 [==============================] - 28s 85ms/step - loss: 0.1818 - auc: 0.6666 - val_loss: 0.2037 - val_auc: 0.6357\n"
     ]
    },
    {
     "data": {
      "text/plain": [
       "<tensorflow.python.keras.callbacks.History at 0x7fbd1ceb0240>"
      ]
     },
     "execution_count": 15,
     "metadata": {
      "tags": []
     },
     "output_type": "execute_result"
    }
   ],
   "source": [
    "import math\n",
    "\n",
    "batch_size = 64\n",
    "\n",
    "#math.ceil: returns the smallest integral value greater than the number\n",
    "num_batchs = math.ceil(len(training_set) / batch_size) #no. of batches for training data\n",
    "\n",
    "num_batchs_validation = math.ceil(len(validation_set) / batch_size) #no. of batches for validation data\n",
    "\n",
    "model.fit(\n",
    "    gen_batch(\n",
    "        training_set, batch_size=batch_size, repeat=True\n",
    "    ),\n",
    "    steps_per_epoch=num_batchs,\n",
    "    epochs=2,\n",
    "    validation_data=gen_batch(\n",
    "        validation_set, batch_size=16, repeat=True\n",
    "    ),\n",
    "    validation_steps=num_batchs_validation,\n",
    "   # callbacks=[\n",
    "    #    tf.keras.callbacks.EarlyStopping(monitor='auc', patience=5, restore_best_weights=True,mode='max')]\n",
    ")"
   ]
  },
  {
   "cell_type": "code",
   "execution_count": null,
   "metadata": {
    "id": "kMdw6N9MM6ES"
   },
   "outputs": [],
   "source": [
    "y_pred = model.predict(\n",
    "    gen_batch(testing_set, batch_size=16, shuffle=False)\n",
    ")\n",
    "y_pred = np.reshape(y_pred, -1)"
   ]
  },
  {
   "cell_type": "code",
   "execution_count": null,
   "metadata": {
    "colab": {
     "base_uri": "https://localhost:8080/"
    },
    "id": "rtGLRJboM6ES",
    "outputId": "8826b3f8-6d1e-4133-b22c-6db61aa7f5d6"
   },
   "outputs": [
    {
     "data": {
      "text/plain": [
       "12326"
      ]
     },
     "execution_count": 120,
     "metadata": {
      "tags": []
     },
     "output_type": "execute_result"
    }
   ],
   "source": [
    "len(y_pred)"
   ]
  },
  {
   "cell_type": "code",
   "execution_count": null,
   "metadata": {
    "id": "ZeEKR6Z7M6ES"
   },
   "outputs": [],
   "source": [
    "import pandas as pd \n",
    "submission = pd.DataFrame({'label':y_pred})\n",
    "submission.index.name = 'id'\n",
    "submission.to_csv('sub_47.csv')"
   ]
  },
  {
   "cell_type": "markdown",
   "metadata": {
    "id": "VOe19iOFNEyH"
   },
   "source": [
    "## Aggregation Method 3"
   ]
  },
  {
   "cell_type": "code",
   "execution_count": null,
   "metadata": {
    "id": "dgvHDGroNn3O"
   },
   "outputs": [],
   "source": [
    "from  tf2_gnn.layers.message_passing import RGAT,  MessagePassing, MessagePassingInput"
   ]
  },
  {
   "cell_type": "code",
   "execution_count": null,
   "metadata": {
    "colab": {
     "base_uri": "https://localhost:8080/"
    },
    "id": "p8Pq6k_tNEyI",
    "outputId": "9c8f1e81-71e7-4494-b735-761fdd08c878"
   },
   "outputs": [
    {
     "name": "stdout",
     "output_type": "stream",
     "text": [
      "gnn_out Tensor(\"gnn_8/StatefulPartitionedCall:0\", shape=(None, 12), dtype=float32)\n",
      "mean: Tensor(\"SegmentMean_4:0\", shape=(None, 12), dtype=float32)\n",
      "pred: Tensor(\"dense_5/Sigmoid:0\", shape=(None, 1), dtype=float32)\n",
      "Model: \"functional_9\"\n",
      "__________________________________________________________________________________________________\n",
      "Layer (type)                    Output Shape         Param #     Connected to                     \n",
      "==================================================================================================\n",
      "input_39 (InputLayer)           [(None,)]            0                                            \n",
      "__________________________________________________________________________________________________\n",
      "input_37 (InputLayer)           [(None,)]            0                                            \n",
      "__________________________________________________________________________________________________\n",
      "tf_op_layer_Max_12 (TensorFlowO [()]                 0           input_39[0][0]                   \n",
      "__________________________________________________________________________________________________\n",
      "embedding_12 (Embedding)        (None, 100)          50000       input_37[0][0]                   \n",
      "__________________________________________________________________________________________________\n",
      "input_38 (InputLayer)           [(None, 2)]          0                                            \n",
      "__________________________________________________________________________________________________\n",
      "tf_op_layer_AddV2_12 (TensorFlo [()]                 0           tf_op_layer_Max_12[0][0]         \n",
      "__________________________________________________________________________________________________\n",
      "gnn_8 (GNN)                     (None, 12)           6360        embedding_12[0][0]               \n",
      "                                                                 input_38[0][0]                   \n",
      "                                                                 input_39[0][0]                   \n",
      "                                                                 tf_op_layer_AddV2_12[0][0]       \n",
      "__________________________________________________________________________________________________\n",
      "tf_op_layer_SegmentMean_4 (Tens [(None, 12)]         0           gnn_8[0][0]                      \n",
      "                                                                 input_39[0][0]                   \n",
      "__________________________________________________________________________________________________\n",
      "dense_5 (Dense)                 (None, 1)            13          tf_op_layer_SegmentMean_4[0][0]  \n",
      "==================================================================================================\n",
      "Total params: 56,373\n",
      "Trainable params: 56,373\n",
      "Non-trainable params: 0\n",
      "__________________________________________________________________________________________________\n"
     ]
    }
   ],
   "source": [
    "#importing tensorflow and other libraries\n",
    "import tensorflow as tf\n",
    "from tensorflow.math import segment_mean #to calculate segmented mean\n",
    "from tensorflow import keras\n",
    "from tensorflow.keras import Input, Model #layers and model\n",
    "from tensorflow.keras.layers import Embedding, Dense #layers\n",
    "from tensorflow.keras.optimizers import Adam #optimizer\n",
    "\n",
    "\n",
    "'''\n",
    "\n",
    "To understand the dimensions:\n",
    "Let's assume the batch contains 10 samples of data.\n",
    "The nodes are tokenized using 44 dimension array that is each sample node is of shape [44]\n",
    "Thus 10 samples are of shape [440] after applying get_batch method\n",
    "node2graph is also of shape [440] like [0,0,0,0,0,...,1,1,1,1,....2,2,2,....] each number is repeated 44 times [0,0,0,0,... 44 times]\n",
    "Lets assume edges are of size [257,2]\n",
    "\n",
    "The GNN layer takes a GNNInput named tuple as input, which encapsulates initial node features, adjacency lists, and auxiliary information.\n",
    "\n",
    "'''\n",
    "\n",
    "data = keras.Input(batch_shape=(None,))  #Input layer for nodes (tokenized text data)            eg. [440]\n",
    "\n",
    "# the first dim is different to the previous one. it is the total number of edges in this batch\n",
    "edge = keras.Input(batch_shape=(None, 2), dtype=tf.int32)     #Input layer for edge data         eg. [257,2]\n",
    "node2graph = keras.Input(batch_shape=(None,), dtype=tf.int32) #Input layer for node2graph ids    eg. [440]\n",
    "\n",
    "embeded = Embedding(tokenizer.num_words, 100)(data)  #embedding layer over data with each token embedded as  size vector eg. [440,100]\n",
    "\n",
    "\n",
    "# number of graphs (number of samples)\n",
    "num_graph = tf.reduce_max(node2graph)+1  #calculating number of samples (or min(batch_size,no._of_samples))    eg. 10\n",
    "\n",
    "#gnn_input layer with inputs as defined above\n",
    "gnn_input = GNNInput(\n",
    "    node_features=embeded,\n",
    "    adjacency_lists=(edge,),\n",
    "    node_to_graph_map=node2graph, \n",
    "    num_graphs=num_graph,\n",
    ")\n",
    "\n",
    "# https://github.com/microsoft/tf2-gnn/blob/master/tf2_gnn/layers/gnn.py\n",
    "#defining hyperparameters for GNN layer\n",
    "params = GNN.get_default_hyperparameters()\n",
    "params[\"hidden_dim\"] = 12 #defining hidden dimension of the gnn layer\n",
    "params[\"message_calculation_class\"] = 'rgat'\n",
    "#params[\"num_layers\"] = 4\n",
    "params[\"num_heads\"] = 3\n",
    "\n",
    "#params['num_aggr_MLP_hidden_layers'] = 12\n",
    "#gnn layer with defined hyperparameters\n",
    "gnn_layer = GNN(params)  \n",
    "\n",
    "#gnn output layer \n",
    "gnn_out = gnn_layer(gnn_input) #outpur shape: [data_dimension,hidden layers]   eg. [440,12]\n",
    "\n",
    "print('gnn_out', gnn_out)           \n",
    "\n",
    "# https://www.tensorflow.org/api_docs/python/tf/math/segment_mean\n",
    "\n",
    "#calculating segmented mean based on segment_ids\n",
    "avg = segment_mean(\n",
    "    data=gnn_out,\n",
    "    segment_ids=node2graph\n",
    "    )                                    #shape: [batch_size,64]  eg. [10,12]\n",
    "\n",
    "print('mean:', avg)\n",
    "\n",
    "#final dense layer with sigmoid\n",
    "pred = Dense(1, activation='sigmoid')(avg)   #output shape: [batch_size,1] \n",
    "print('pred:', pred)\n",
    "\n",
    "#building model \n",
    "#inputs are data,edges and node2graph\n",
    "#input: dictionary\n",
    "#output: prediction value from dense layer\n",
    "model = Model(\n",
    "    inputs={\n",
    "        'data': data, \n",
    "        'edges': edge,\n",
    "        'node2grah': node2graph,\n",
    "    },\n",
    "    outputs=pred\n",
    ")\n",
    "\n",
    "#printing summary of the model\n",
    "model.summary()"
   ]
  },
  {
   "cell_type": "code",
   "execution_count": null,
   "metadata": {
    "id": "9gSSs7dQNEyI"
   },
   "outputs": [],
   "source": [
    "model.compile(\n",
    "    loss='BinaryCrossentropy',\n",
    "    metrics=['AUC']\n",
    ")"
   ]
  },
  {
   "cell_type": "code",
   "execution_count": null,
   "metadata": {
    "colab": {
     "base_uri": "https://localhost:8080/"
    },
    "id": "mjFahRyDNEyI",
    "outputId": "cdb65486-2931-4637-d04e-89b6720b9c46"
   },
   "outputs": [
    {
     "name": "stdout",
     "output_type": "stream",
     "text": [
      "Epoch 1/30\n"
     ]
    },
    {
     "name": "stderr",
     "output_type": "stream",
     "text": [
      "/usr/local/lib/python3.6/dist-packages/tensorflow/python/framework/indexed_slices.py:432: UserWarning: Converting sparse IndexedSlices to a dense Tensor of unknown shape. This may consume a large amount of memory.\n",
      "  \"Converting sparse IndexedSlices to a dense Tensor of unknown shape. \"\n"
     ]
    },
    {
     "name": "stdout",
     "output_type": "stream",
     "text": [
      "1330/1330 [==============================] - 20s 15ms/step - loss: 0.2352 - auc: 0.4877 - val_loss: 0.2311 - val_auc: 0.5506\n",
      "Epoch 2/30\n",
      "1330/1330 [==============================] - 20s 15ms/step - loss: 0.1971 - auc: 0.5894 - val_loss: 0.2046 - val_auc: 0.6024\n",
      "Epoch 3/30\n",
      "1330/1330 [==============================] - 20s 15ms/step - loss: 0.1930 - auc: 0.6156 - val_loss: 0.1955 - val_auc: 0.6414\n",
      "Epoch 4/30\n",
      "1330/1330 [==============================] - 20s 15ms/step - loss: 0.1889 - auc: 0.6449 - val_loss: 0.1975 - val_auc: 0.6452\n",
      "Epoch 5/30\n",
      "1330/1330 [==============================] - 20s 15ms/step - loss: 0.1856 - auc: 0.6730 - val_loss: 0.1864 - val_auc: 0.6921\n",
      "Epoch 6/30\n",
      "1330/1330 [==============================] - 20s 15ms/step - loss: 0.1850 - auc: 0.6715 - val_loss: 0.1947 - val_auc: 0.6509\n",
      "Epoch 7/30\n",
      "1330/1330 [==============================] - 20s 15ms/step - loss: 0.1818 - auc: 0.6896 - val_loss: 0.1988 - val_auc: 0.6480\n",
      "Epoch 8/30\n",
      "1330/1330 [==============================] - 20s 15ms/step - loss: 0.1832 - auc: 0.6801 - val_loss: 0.1914 - val_auc: 0.6815\n",
      "Epoch 9/30\n",
      "1330/1330 [==============================] - 21s 16ms/step - loss: 0.1821 - auc: 0.6914 - val_loss: 0.1838 - val_auc: 0.6988\n",
      "Epoch 10/30\n",
      "1330/1330 [==============================] - 20s 15ms/step - loss: 0.1829 - auc: 0.6780 - val_loss: 0.1884 - val_auc: 0.6807\n",
      "Epoch 11/30\n",
      "1330/1330 [==============================] - 20s 15ms/step - loss: 0.1811 - auc: 0.6805 - val_loss: 0.1886 - val_auc: 0.6906\n",
      "Epoch 12/30\n",
      "1330/1330 [==============================] - 20s 15ms/step - loss: 0.1832 - auc: 0.6764 - val_loss: 0.1908 - val_auc: 0.6772\n",
      "Epoch 13/30\n",
      "1330/1330 [==============================] - 20s 15ms/step - loss: 0.1812 - auc: 0.6842 - val_loss: 0.2023 - val_auc: 0.6332\n",
      "Epoch 14/30\n",
      "1330/1330 [==============================] - 20s 15ms/step - loss: 0.1808 - auc: 0.6862 - val_loss: 0.1839 - val_auc: 0.6604\n",
      "Epoch 15/30\n",
      "1330/1330 [==============================] - 20s 15ms/step - loss: 0.1802 - auc: 0.6886 - val_loss: 0.1960 - val_auc: 0.6910\n",
      "Epoch 16/30\n",
      "1330/1330 [==============================] - 20s 15ms/step - loss: 0.1810 - auc: 0.6754 - val_loss: 0.2054 - val_auc: 0.6434\n",
      "Epoch 17/30\n",
      "1330/1330 [==============================] - 20s 15ms/step - loss: 0.1816 - auc: 0.6769 - val_loss: 0.1854 - val_auc: 0.6752\n",
      "Epoch 18/30\n",
      "1330/1330 [==============================] - 20s 15ms/step - loss: 0.1791 - auc: 0.6909 - val_loss: 0.1954 - val_auc: 0.6229\n",
      "Epoch 19/30\n",
      "1330/1330 [==============================] - 20s 15ms/step - loss: 0.1795 - auc: 0.6883 - val_loss: 0.1928 - val_auc: 0.6979\n",
      "Epoch 20/30\n",
      "1330/1330 [==============================] - 20s 15ms/step - loss: 0.1800 - auc: 0.6869 - val_loss: 0.1870 - val_auc: 0.6866\n",
      "Epoch 21/30\n",
      "1330/1330 [==============================] - 20s 15ms/step - loss: 0.1797 - auc: 0.6806 - val_loss: 0.1843 - val_auc: 0.7108\n",
      "Epoch 22/30\n",
      "1330/1330 [==============================] - 20s 15ms/step - loss: 0.1782 - auc: 0.6988 - val_loss: 0.1884 - val_auc: 0.6774\n",
      "Epoch 23/30\n",
      "1330/1330 [==============================] - 20s 15ms/step - loss: 0.1810 - auc: 0.6799 - val_loss: 0.1967 - val_auc: 0.6004\n",
      "Epoch 24/30\n",
      "1330/1330 [==============================] - 20s 15ms/step - loss: 0.1799 - auc: 0.6849 - val_loss: 0.1965 - val_auc: 0.6891\n",
      "Epoch 25/30\n",
      "1330/1330 [==============================] - 21s 15ms/step - loss: 0.1809 - auc: 0.6690 - val_loss: 0.1777 - val_auc: 0.7121\n",
      "Epoch 26/30\n",
      "1330/1330 [==============================] - 20s 15ms/step - loss: 0.1805 - auc: 0.6682 - val_loss: 0.1892 - val_auc: 0.7086\n",
      "Epoch 27/30\n",
      "1330/1330 [==============================] - 20s 15ms/step - loss: 0.1791 - auc: 0.6857 - val_loss: 0.1737 - val_auc: 0.7124\n",
      "Epoch 28/30\n",
      "1330/1330 [==============================] - 20s 15ms/step - loss: 0.1786 - auc: 0.6848 - val_loss: 0.1969 - val_auc: 0.6723\n",
      "Epoch 29/30\n",
      "1330/1330 [==============================] - 20s 15ms/step - loss: 0.1784 - auc: 0.6885 - val_loss: 0.1869 - val_auc: 0.6911\n",
      "Epoch 30/30\n",
      "1330/1330 [==============================] - 20s 15ms/step - loss: 0.1788 - auc: 0.6926 - val_loss: 0.1828 - val_auc: 0.6809\n"
     ]
    },
    {
     "data": {
      "text/plain": [
       "<tensorflow.python.keras.callbacks.History at 0x7fad45994390>"
      ]
     },
     "execution_count": 53,
     "metadata": {
      "tags": []
     },
     "output_type": "execute_result"
    }
   ],
   "source": [
    "import math\n",
    "\n",
    "batch_size = 16\n",
    "\n",
    "#math.ceil: returns the smallest integral value greater than the number\n",
    "num_batchs = math.ceil(len(training_set) / batch_size) #no. of batches for training data\n",
    "\n",
    "num_batchs_validation = math.ceil(len(validation_set) / batch_size) #no. of batches for validation data\n",
    "\n",
    "model.fit(\n",
    "    gen_batch(\n",
    "        training_set, batch_size=batch_size, repeat=True\n",
    "    ),\n",
    "    steps_per_epoch=num_batchs,\n",
    "    epochs=30,\n",
    "    validation_data=gen_batch(\n",
    "        validation_set, batch_size=16, repeat=True\n",
    "    ),\n",
    "    validation_steps=num_batchs_validation,\n",
    ")"
   ]
  },
  {
   "cell_type": "code",
   "execution_count": null,
   "metadata": {
    "id": "rhIumRt6NEyJ"
   },
   "outputs": [],
   "source": [
    "y_pred = model.predict(\n",
    "    gen_batch(testing_set, batch_size=16, shuffle=False)\n",
    ")\n",
    "y_pred = np.reshape(y_pred, -1)"
   ]
  },
  {
   "cell_type": "code",
   "execution_count": null,
   "metadata": {
    "colab": {
     "base_uri": "https://localhost:8080/"
    },
    "id": "OTp1JOejNEyJ",
    "outputId": "8826b3f8-6d1e-4133-b22c-6db61aa7f5d6"
   },
   "outputs": [
    {
     "data": {
      "text/plain": [
       "12326"
      ]
     },
     "execution_count": 120,
     "metadata": {
      "tags": []
     },
     "output_type": "execute_result"
    }
   ],
   "source": [
    "len(y_pred)"
   ]
  },
  {
   "cell_type": "code",
   "execution_count": null,
   "metadata": {
    "id": "feS567IINEyJ"
   },
   "outputs": [],
   "source": [
    "import pandas as pd \n",
    "submission = pd.DataFrame({'label':y_pred})\n",
    "submission.index.name = 'id'\n",
    "submission.to_csv('sub_3.csv')"
   ]
  },
  {
   "cell_type": "markdown",
   "metadata": {
    "id": "gfT6HSL0uFnt"
   },
   "source": [
    "# Questions"
   ]
  },
  {
   "cell_type": "markdown",
   "metadata": {
    "id": "OcOhJvVBuIKH"
   },
   "source": [
    "### Ques 1: Based on the provided template, describe the format of the input file (sdf file)."
   ]
  },
  {
   "cell_type": "markdown",
   "metadata": {
    "id": "54js7B4jmmom"
   },
   "source": [
    "Ans: The input file is structure data file (SDF). It contains information about the chemical composition of a molecule.\n",
    "SDF file store information about position of individual atom in the chemical compound and also tells about the connections. Different molecules are delimited by '\\$\\$\\$\\$' expression. \n",
    "\n",
    "Each sample/molecule starts with header which tells about the name/title of the compound. Other sections includes information about Atom count, version number, connections etc. Atom block tells about the elements of the compound. Bond block block tells about the bonding structure of the compound. These both blocks are used in this assignment to get information about the compound and saving them in form of edges and nodes. Each node is the atom given in the chemical molecule."
   ]
  },
  {
   "cell_type": "markdown",
   "metadata": {
    "id": "LVfi91uVuQR-"
   },
   "source": [
    "### Ques 2: What are the input tensors to the neural network model (their meaning, not just symbol)? What is each of their dims and their meaning (e.g. batch_size?)?"
   ]
  },
  {
   "cell_type": "markdown",
   "metadata": {
    "id": "WWmY-R3bIOqm"
   },
   "source": [
    "Ans: The input tensors in this network are:\n",
    "\n",
    "1. **data**: The data contains the nodes of the chemical compound in the tokenized form. Nodes for each compound are extracted, then they are tokenized using the tokenizer and finally padding is done using pad_sequence method. The shape for each batch is **\\[batch_size*max_len_nodes]**, where batch_size is the number of samples in the batch and max_len_nodes is the length of tokenized nodes after padding is done.\n",
    "\n",
    "2. **edge**: edge is the input tensor which carries information about connections between atoms. The shape of edge is **\\[sum_of_all_edges,2]**. The sum_of_all_edges represents the sum(no. of edges of each sample) of the batch_size. For example in a batch of 3 samples, the number of edges in sample 1: 21, sample 2: 20 and sample 3: 40. So the size of edge tensor would be \\[81,2].\n",
    "\n",
    "3. **node2graph**: It is the input tensor which is used for segmented mean and contains information about segmented ids. The shape for each batch is **\\[batch_size*max_len_nodes]**, where batch_size is the number of samples in the batch and max_len_nodes is the length of tokenized nodes after padding is done. \n"
   ]
  },
  {
   "cell_type": "markdown",
   "metadata": {
    "id": "Iq6f3QQkuVoA"
   },
   "source": [
    "### Ques 3: For each dim of gnn_out, what does it represent? For each dim of avg, what does it represent?"
   ]
  },
  {
   "cell_type": "markdown",
   "metadata": {
    "id": "GsaqcSEKkZp0"
   },
   "source": [
    "Ans: \n",
    "\n",
    "**gnn_out**: The gnn_out is of shape \\[batch_size_node_dimension,hidden layers], where batch_size_node_dimension is the dimension of the input data (node) vector (dimension of tokenized vector for the complete batch). It represents the aggregation output of the model for each hidden layer.\n",
    "\n",
    "**avg**: Average takes the segmented mean of the gnn_out based on the segmented ids. For each sample in the batch_size, the output of gnn_out is \\[tokenized_vector_dimension, hidden_layers]. Each sample has one segment id. Thus the segment_mean takes the mean of all the output data in the gnn_out output and represents one sample with one number for each hidden layer. The final output of the avg tensor is of shape \\[batch_size, hidden_layer]. It is a way of collecting information for each sample and representing it in the form of mean data."
   ]
  },
  {
   "cell_type": "markdown",
   "metadata": {
    "id": "gdkVJqgqubbC"
   },
   "source": [
    "### Ques 4: What is the difference between segment_mean and tf.reduce_mean? For each dim of pred, what does it represent?"
   ]
  },
  {
   "cell_type": "markdown",
   "metadata": {
    "id": "Q8VYV6GoPscW"
   },
   "source": [
    "Ans: **segment_mean** takes the mean of the data which have same segmented ids. \n",
    "\n"
   ]
  },
  {
   "cell_type": "markdown",
   "metadata": {
    "id": "FCHEzWRvQYK_"
   },
   "source": [
    "**reduce_mean:** computes the mean of elements across dimensions of a tensor given the arguments.\n",
    "\n",
    "**pred:** The final output (pred) tells about the probability of a chemical compound to be active for the cancer cell or not. The shape of pred is \\[batch_size,1]. Thus for each sample, the final output is a number which represents the probability associated with each chemical compound about its activity."
   ]
  },
  {
   "cell_type": "markdown",
   "metadata": {
    "id": "RWSNCyb9ueh9"
   },
   "source": [
    "### Ques 5: What is the motivation / theory/idea to use multiple gcn layers comparing to just one? How many layers were used in the template?"
   ]
  },
  {
   "cell_type": "markdown",
   "metadata": {
    "id": "1YbSMAF1CACG"
   },
   "source": [
    "Ans: \n",
    "\n",
    "The default template implements the default setting of the number of layers in the gcn network. The default layer are **4** as given in the documentaion. The default message passing method is rgcn (Graph convolution layers). Using multiple gcn helps in incorporating all the graph complexity properly and thus creates a better model."
   ]
  }
 ],
 "metadata": {
  "colab": {
   "collapsed_sections": [],
   "name": "CISC873_A5_Jagmeet.ipynb",
   "provenance": []
  },
  "kernelspec": {
   "display_name": "Python 3",
   "language": "python",
   "name": "python3"
  },
  "language_info": {
   "codemirror_mode": {
    "name": "ipython",
    "version": 3
   },
   "file_extension": ".py",
   "mimetype": "text/x-python",
   "name": "python",
   "nbconvert_exporter": "python",
   "pygments_lexer": "ipython3",
   "version": "3.7.6"
  },
  "widgets": {
   "application/vnd.jupyter.widget-state+json": {
    "00e708c4773547a2a5e66472fc5237a1": {
     "model_module": "@jupyter-widgets/base",
     "model_name": "LayoutModel",
     "state": {
      "_model_module": "@jupyter-widgets/base",
      "_model_module_version": "1.2.0",
      "_model_name": "LayoutModel",
      "_view_count": null,
      "_view_module": "@jupyter-widgets/base",
      "_view_module_version": "1.2.0",
      "_view_name": "LayoutView",
      "align_content": null,
      "align_items": null,
      "align_self": null,
      "border": null,
      "bottom": null,
      "display": null,
      "flex": null,
      "flex_flow": null,
      "grid_area": null,
      "grid_auto_columns": null,
      "grid_auto_flow": null,
      "grid_auto_rows": null,
      "grid_column": null,
      "grid_gap": null,
      "grid_row": null,
      "grid_template_areas": null,
      "grid_template_columns": null,
      "grid_template_rows": null,
      "height": null,
      "justify_content": null,
      "justify_items": null,
      "left": null,
      "margin": null,
      "max_height": null,
      "max_width": null,
      "min_height": null,
      "min_width": null,
      "object_fit": null,
      "object_position": null,
      "order": null,
      "overflow": null,
      "overflow_x": null,
      "overflow_y": null,
      "padding": null,
      "right": null,
      "top": null,
      "visibility": null,
      "width": null
     }
    },
    "0d5d1b55f8e343bb84de382b79894311": {
     "model_module": "@jupyter-widgets/base",
     "model_name": "LayoutModel",
     "state": {
      "_model_module": "@jupyter-widgets/base",
      "_model_module_version": "1.2.0",
      "_model_name": "LayoutModel",
      "_view_count": null,
      "_view_module": "@jupyter-widgets/base",
      "_view_module_version": "1.2.0",
      "_view_name": "LayoutView",
      "align_content": null,
      "align_items": null,
      "align_self": null,
      "border": null,
      "bottom": null,
      "display": null,
      "flex": null,
      "flex_flow": null,
      "grid_area": null,
      "grid_auto_columns": null,
      "grid_auto_flow": null,
      "grid_auto_rows": null,
      "grid_column": null,
      "grid_gap": null,
      "grid_row": null,
      "grid_template_areas": null,
      "grid_template_columns": null,
      "grid_template_rows": null,
      "height": null,
      "justify_content": null,
      "justify_items": null,
      "left": null,
      "margin": null,
      "max_height": null,
      "max_width": null,
      "min_height": null,
      "min_width": null,
      "object_fit": null,
      "object_position": null,
      "order": null,
      "overflow": null,
      "overflow_x": null,
      "overflow_y": null,
      "padding": null,
      "right": null,
      "top": null,
      "visibility": null,
      "width": null
     }
    },
    "37de922bbff04997879841f2eccf81fd": {
     "model_module": "@jupyter-widgets/controls",
     "model_name": "ProgressStyleModel",
     "state": {
      "_model_module": "@jupyter-widgets/controls",
      "_model_module_version": "1.5.0",
      "_model_name": "ProgressStyleModel",
      "_view_count": null,
      "_view_module": "@jupyter-widgets/base",
      "_view_module_version": "1.2.0",
      "_view_name": "StyleView",
      "bar_color": null,
      "description_width": "initial"
     }
    },
    "4ba86edce2a94f88a60ae52da6bebc96": {
     "model_module": "@jupyter-widgets/controls",
     "model_name": "DescriptionStyleModel",
     "state": {
      "_model_module": "@jupyter-widgets/controls",
      "_model_module_version": "1.5.0",
      "_model_name": "DescriptionStyleModel",
      "_view_count": null,
      "_view_module": "@jupyter-widgets/base",
      "_view_module_version": "1.2.0",
      "_view_name": "StyleView",
      "description_width": ""
     }
    },
    "4c86b3ef12274b608165050bcf43041e": {
     "model_module": "@jupyter-widgets/base",
     "model_name": "LayoutModel",
     "state": {
      "_model_module": "@jupyter-widgets/base",
      "_model_module_version": "1.2.0",
      "_model_name": "LayoutModel",
      "_view_count": null,
      "_view_module": "@jupyter-widgets/base",
      "_view_module_version": "1.2.0",
      "_view_name": "LayoutView",
      "align_content": null,
      "align_items": null,
      "align_self": null,
      "border": null,
      "bottom": null,
      "display": null,
      "flex": null,
      "flex_flow": null,
      "grid_area": null,
      "grid_auto_columns": null,
      "grid_auto_flow": null,
      "grid_auto_rows": null,
      "grid_column": null,
      "grid_gap": null,
      "grid_row": null,
      "grid_template_areas": null,
      "grid_template_columns": null,
      "grid_template_rows": null,
      "height": null,
      "justify_content": null,
      "justify_items": null,
      "left": null,
      "margin": null,
      "max_height": null,
      "max_width": null,
      "min_height": null,
      "min_width": null,
      "object_fit": null,
      "object_position": null,
      "order": null,
      "overflow": null,
      "overflow_x": null,
      "overflow_y": null,
      "padding": null,
      "right": null,
      "top": null,
      "visibility": null,
      "width": null
     }
    },
    "5bfa382f871e49feb292ab19a89032f5": {
     "model_module": "@jupyter-widgets/base",
     "model_name": "LayoutModel",
     "state": {
      "_model_module": "@jupyter-widgets/base",
      "_model_module_version": "1.2.0",
      "_model_name": "LayoutModel",
      "_view_count": null,
      "_view_module": "@jupyter-widgets/base",
      "_view_module_version": "1.2.0",
      "_view_name": "LayoutView",
      "align_content": null,
      "align_items": null,
      "align_self": null,
      "border": null,
      "bottom": null,
      "display": null,
      "flex": null,
      "flex_flow": null,
      "grid_area": null,
      "grid_auto_columns": null,
      "grid_auto_flow": null,
      "grid_auto_rows": null,
      "grid_column": null,
      "grid_gap": null,
      "grid_row": null,
      "grid_template_areas": null,
      "grid_template_columns": null,
      "grid_template_rows": null,
      "height": null,
      "justify_content": null,
      "justify_items": null,
      "left": null,
      "margin": null,
      "max_height": null,
      "max_width": null,
      "min_height": null,
      "min_width": null,
      "object_fit": null,
      "object_position": null,
      "order": null,
      "overflow": null,
      "overflow_x": null,
      "overflow_y": null,
      "padding": null,
      "right": null,
      "top": null,
      "visibility": null,
      "width": null
     }
    },
    "61e6434076f6452f81d3cdfdfd00b13b": {
     "model_module": "@jupyter-widgets/controls",
     "model_name": "HTMLModel",
     "state": {
      "_dom_classes": [],
      "_model_module": "@jupyter-widgets/controls",
      "_model_module_version": "1.5.0",
      "_model_name": "HTMLModel",
      "_view_count": null,
      "_view_module": "@jupyter-widgets/controls",
      "_view_module_version": "1.5.0",
      "_view_name": "HTMLView",
      "description": "",
      "description_tooltip": null,
      "layout": "IPY_MODEL_4c86b3ef12274b608165050bcf43041e",
      "placeholder": "​",
      "style": "IPY_MODEL_ed92b06040b642f1837800205b4a79b2",
      "value": " 12326/12326 [00:08&lt;00:00, 1512.50it/s]"
     }
    },
    "9e3e61d692de4b828d48fcb664427c49": {
     "model_module": "@jupyter-widgets/controls",
     "model_name": "FloatProgressModel",
     "state": {
      "_dom_classes": [],
      "_model_module": "@jupyter-widgets/controls",
      "_model_module_version": "1.5.0",
      "_model_name": "FloatProgressModel",
      "_view_count": null,
      "_view_module": "@jupyter-widgets/controls",
      "_view_module_version": "1.5.0",
      "_view_name": "ProgressView",
      "bar_style": "success",
      "description": "100%",
      "description_tooltip": null,
      "layout": "IPY_MODEL_0d5d1b55f8e343bb84de382b79894311",
      "max": 25024,
      "min": 0,
      "orientation": "horizontal",
      "style": "IPY_MODEL_df9339ebb6aa44478c77465b02dd9344",
      "value": 25024
     }
    },
    "9e4147debbb9433198025db31ace112f": {
     "model_module": "@jupyter-widgets/controls",
     "model_name": "HBoxModel",
     "state": {
      "_dom_classes": [],
      "_model_module": "@jupyter-widgets/controls",
      "_model_module_version": "1.5.0",
      "_model_name": "HBoxModel",
      "_view_count": null,
      "_view_module": "@jupyter-widgets/controls",
      "_view_module_version": "1.5.0",
      "_view_name": "HBoxView",
      "box_style": "",
      "children": [
       "IPY_MODEL_9e3e61d692de4b828d48fcb664427c49",
       "IPY_MODEL_d59b3af571aa47f388dfe36553dd2df9"
      ],
      "layout": "IPY_MODEL_5bfa382f871e49feb292ab19a89032f5"
     }
    },
    "c11bbada7a734e10ae778796fde9feee": {
     "model_module": "@jupyter-widgets/controls",
     "model_name": "HBoxModel",
     "state": {
      "_dom_classes": [],
      "_model_module": "@jupyter-widgets/controls",
      "_model_module_version": "1.5.0",
      "_model_name": "HBoxModel",
      "_view_count": null,
      "_view_module": "@jupyter-widgets/controls",
      "_view_module_version": "1.5.0",
      "_view_name": "HBoxView",
      "box_style": "",
      "children": [
       "IPY_MODEL_f247b9a918d6410d947f142c9d1af32e",
       "IPY_MODEL_61e6434076f6452f81d3cdfdfd00b13b"
      ],
      "layout": "IPY_MODEL_f6ae005db9ea42bea9dbf4b2f92747b7"
     }
    },
    "d59b3af571aa47f388dfe36553dd2df9": {
     "model_module": "@jupyter-widgets/controls",
     "model_name": "HTMLModel",
     "state": {
      "_dom_classes": [],
      "_model_module": "@jupyter-widgets/controls",
      "_model_module_version": "1.5.0",
      "_model_name": "HTMLModel",
      "_view_count": null,
      "_view_module": "@jupyter-widgets/controls",
      "_view_module_version": "1.5.0",
      "_view_name": "HTMLView",
      "description": "",
      "description_tooltip": null,
      "layout": "IPY_MODEL_00e708c4773547a2a5e66472fc5237a1",
      "placeholder": "​",
      "style": "IPY_MODEL_4ba86edce2a94f88a60ae52da6bebc96",
      "value": " 25024/25024 [00:11&lt;00:00, 2217.05it/s]"
     }
    },
    "df9339ebb6aa44478c77465b02dd9344": {
     "model_module": "@jupyter-widgets/controls",
     "model_name": "ProgressStyleModel",
     "state": {
      "_model_module": "@jupyter-widgets/controls",
      "_model_module_version": "1.5.0",
      "_model_name": "ProgressStyleModel",
      "_view_count": null,
      "_view_module": "@jupyter-widgets/base",
      "_view_module_version": "1.2.0",
      "_view_name": "StyleView",
      "bar_color": null,
      "description_width": "initial"
     }
    },
    "eba61cac26f44995bc16cbbeb8def5af": {
     "model_module": "@jupyter-widgets/base",
     "model_name": "LayoutModel",
     "state": {
      "_model_module": "@jupyter-widgets/base",
      "_model_module_version": "1.2.0",
      "_model_name": "LayoutModel",
      "_view_count": null,
      "_view_module": "@jupyter-widgets/base",
      "_view_module_version": "1.2.0",
      "_view_name": "LayoutView",
      "align_content": null,
      "align_items": null,
      "align_self": null,
      "border": null,
      "bottom": null,
      "display": null,
      "flex": null,
      "flex_flow": null,
      "grid_area": null,
      "grid_auto_columns": null,
      "grid_auto_flow": null,
      "grid_auto_rows": null,
      "grid_column": null,
      "grid_gap": null,
      "grid_row": null,
      "grid_template_areas": null,
      "grid_template_columns": null,
      "grid_template_rows": null,
      "height": null,
      "justify_content": null,
      "justify_items": null,
      "left": null,
      "margin": null,
      "max_height": null,
      "max_width": null,
      "min_height": null,
      "min_width": null,
      "object_fit": null,
      "object_position": null,
      "order": null,
      "overflow": null,
      "overflow_x": null,
      "overflow_y": null,
      "padding": null,
      "right": null,
      "top": null,
      "visibility": null,
      "width": null
     }
    },
    "ed92b06040b642f1837800205b4a79b2": {
     "model_module": "@jupyter-widgets/controls",
     "model_name": "DescriptionStyleModel",
     "state": {
      "_model_module": "@jupyter-widgets/controls",
      "_model_module_version": "1.5.0",
      "_model_name": "DescriptionStyleModel",
      "_view_count": null,
      "_view_module": "@jupyter-widgets/base",
      "_view_module_version": "1.2.0",
      "_view_name": "StyleView",
      "description_width": ""
     }
    },
    "f247b9a918d6410d947f142c9d1af32e": {
     "model_module": "@jupyter-widgets/controls",
     "model_name": "FloatProgressModel",
     "state": {
      "_dom_classes": [],
      "_model_module": "@jupyter-widgets/controls",
      "_model_module_version": "1.5.0",
      "_model_name": "FloatProgressModel",
      "_view_count": null,
      "_view_module": "@jupyter-widgets/controls",
      "_view_module_version": "1.5.0",
      "_view_name": "ProgressView",
      "bar_style": "success",
      "description": "100%",
      "description_tooltip": null,
      "layout": "IPY_MODEL_eba61cac26f44995bc16cbbeb8def5af",
      "max": 12326,
      "min": 0,
      "orientation": "horizontal",
      "style": "IPY_MODEL_37de922bbff04997879841f2eccf81fd",
      "value": 12326
     }
    },
    "f6ae005db9ea42bea9dbf4b2f92747b7": {
     "model_module": "@jupyter-widgets/base",
     "model_name": "LayoutModel",
     "state": {
      "_model_module": "@jupyter-widgets/base",
      "_model_module_version": "1.2.0",
      "_model_name": "LayoutModel",
      "_view_count": null,
      "_view_module": "@jupyter-widgets/base",
      "_view_module_version": "1.2.0",
      "_view_name": "LayoutView",
      "align_content": null,
      "align_items": null,
      "align_self": null,
      "border": null,
      "bottom": null,
      "display": null,
      "flex": null,
      "flex_flow": null,
      "grid_area": null,
      "grid_auto_columns": null,
      "grid_auto_flow": null,
      "grid_auto_rows": null,
      "grid_column": null,
      "grid_gap": null,
      "grid_row": null,
      "grid_template_areas": null,
      "grid_template_columns": null,
      "grid_template_rows": null,
      "height": null,
      "justify_content": null,
      "justify_items": null,
      "left": null,
      "margin": null,
      "max_height": null,
      "max_width": null,
      "min_height": null,
      "min_width": null,
      "object_fit": null,
      "object_position": null,
      "order": null,
      "overflow": null,
      "overflow_x": null,
      "overflow_y": null,
      "padding": null,
      "right": null,
      "top": null,
      "visibility": null,
      "width": null
     }
    }
   }
  }
 },
 "nbformat": 4,
 "nbformat_minor": 1
}
